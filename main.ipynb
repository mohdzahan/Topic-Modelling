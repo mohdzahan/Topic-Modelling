{
 "cells": [
  {
   "cell_type": "code",
   "execution_count": 23,
   "metadata": {},
   "outputs": [],
   "source": [
    "import pandas as pd\n",
    "import json\n"
   ]
  },
  {
   "cell_type": "code",
   "execution_count": 24,
   "metadata": {},
   "outputs": [],
   "source": [
    "with open('B09G9BL5CP-reviews.json') as f:\n",
    "    data = json.load(f)\n",
    "\n",
    "\n",
    "flat_data = []\n",
    "for page in data:\n",
    "    for review in page:\n",
    "        flat_data.append(review)\n",
    "\n",
    "\n",
    "df = pd.DataFrame(flat_data)\n",
    "\n",
    "\n"
   ]
  },
  {
   "cell_type": "code",
   "execution_count": 25,
   "metadata": {},
   "outputs": [],
   "source": [
    "df.to_csv('reviews_flattened.csv', index=False)"
   ]
  },
  {
   "cell_type": "code",
   "execution_count": 26,
   "metadata": {},
   "outputs": [
    {
     "data": {
      "text/html": [
       "<div>\n",
       "<style scoped>\n",
       "    .dataframe tbody tr th:only-of-type {\n",
       "        vertical-align: middle;\n",
       "    }\n",
       "\n",
       "    .dataframe tbody tr th {\n",
       "        vertical-align: top;\n",
       "    }\n",
       "\n",
       "    .dataframe thead th {\n",
       "        text-align: right;\n",
       "    }\n",
       "</style>\n",
       "<table border=\"1\" class=\"dataframe\">\n",
       "  <thead>\n",
       "    <tr style=\"text-align: right;\">\n",
       "      <th></th>\n",
       "      <th>title</th>\n",
       "      <th>rating</th>\n",
       "      <th>body</th>\n",
       "    </tr>\n",
       "  </thead>\n",
       "  <tbody>\n",
       "    <tr>\n",
       "      <th>0</th>\n",
       "      <td>5.0 out of 5 stars Awesome</td>\n",
       "      <td>5.0 out of 5 stars</td>\n",
       "      <td>Best camera for video and value for money but ...</td>\n",
       "    </tr>\n",
       "    <tr>\n",
       "      <th>1</th>\n",
       "      <td>4.0 out of 5 stars Best iPhone</td>\n",
       "      <td>4.0 out of 5 stars</td>\n",
       "      <td>Best but worst cable was given</td>\n",
       "    </tr>\n",
       "    <tr>\n",
       "      <th>2</th>\n",
       "      <td>5.0 out of 5 stars Best Budgeted Phone</td>\n",
       "      <td>5.0 out of 5 stars</td>\n",
       "      <td>One best iPhone release from  Just go for it....</td>\n",
       "    </tr>\n",
       "    <tr>\n",
       "      <th>3</th>\n",
       "      <td>5.0 out of 5 stars iPhone 13</td>\n",
       "      <td>5.0 out of 5 stars</td>\n",
       "      <td>I've been using the Apple iPhone 13 (Blue) for...</td>\n",
       "    </tr>\n",
       "    <tr>\n",
       "      <th>4</th>\n",
       "      <td>1.0 out of 5 stars Lose your hardearned money</td>\n",
       "      <td>1.0 out of 5 stars</td>\n",
       "      <td>Wrost phoneNo battery backupHighly restriction...</td>\n",
       "    </tr>\n",
       "    <tr>\n",
       "      <th>...</th>\n",
       "      <td>...</td>\n",
       "      <td>...</td>\n",
       "      <td>...</td>\n",
       "    </tr>\n",
       "    <tr>\n",
       "      <th>2985</th>\n",
       "      <td>3.0 out of 5 stars Alert slider is lose</td>\n",
       "      <td>3.0 out of 5 stars</td>\n",
       "      <td>Alert slider is lose on my phone …. How did it...</td>\n",
       "    </tr>\n",
       "    <tr>\n",
       "      <th>2986</th>\n",
       "      <td>4.0 out of 5 stars Better option over iphone 14</td>\n",
       "      <td>4.0 out of 5 stars</td>\n",
       "      <td>Iphone 13 is as good as iphone 14 , same speci...</td>\n",
       "    </tr>\n",
       "    <tr>\n",
       "      <th>2987</th>\n",
       "      <td>5.0 out of 5 stars Really nice</td>\n",
       "      <td>5.0 out of 5 stars</td>\n",
       "      <td>Father gift</td>\n",
       "    </tr>\n",
       "    <tr>\n",
       "      <th>2988</th>\n",
       "      <td>1.0 out of 5 stars Performance is slow</td>\n",
       "      <td>1.0 out of 5 stars</td>\n",
       "      <td>After 9 months I used this is worest experienc...</td>\n",
       "    </tr>\n",
       "    <tr>\n",
       "      <th>2989</th>\n",
       "      <td>5.0 out of 5 stars Dear Apple</td>\n",
       "      <td>5.0 out of 5 stars</td>\n",
       "      <td>My phone was bent for some reason. So kindly i...</td>\n",
       "    </tr>\n",
       "  </tbody>\n",
       "</table>\n",
       "<p>2990 rows × 3 columns</p>\n",
       "</div>"
      ],
      "text/plain": [
       "                                                title              rating  \\\n",
       "0                          5.0 out of 5 stars Awesome  5.0 out of 5 stars   \n",
       "1                      4.0 out of 5 stars Best iPhone  4.0 out of 5 stars   \n",
       "2              5.0 out of 5 stars Best Budgeted Phone  5.0 out of 5 stars   \n",
       "3                        5.0 out of 5 stars iPhone 13  5.0 out of 5 stars   \n",
       "4       1.0 out of 5 stars Lose your hardearned money  1.0 out of 5 stars   \n",
       "...                                               ...                 ...   \n",
       "2985          3.0 out of 5 stars Alert slider is lose  3.0 out of 5 stars   \n",
       "2986  4.0 out of 5 stars Better option over iphone 14  4.0 out of 5 stars   \n",
       "2987                   5.0 out of 5 stars Really nice  5.0 out of 5 stars   \n",
       "2988           1.0 out of 5 stars Performance is slow  1.0 out of 5 stars   \n",
       "2989                    5.0 out of 5 stars Dear Apple  5.0 out of 5 stars   \n",
       "\n",
       "                                                   body  \n",
       "0     Best camera for video and value for money but ...  \n",
       "1                        Best but worst cable was given  \n",
       "2     One best iPhone release from  Just go for it....  \n",
       "3     I've been using the Apple iPhone 13 (Blue) for...  \n",
       "4     Wrost phoneNo battery backupHighly restriction...  \n",
       "...                                                 ...  \n",
       "2985  Alert slider is lose on my phone …. How did it...  \n",
       "2986  Iphone 13 is as good as iphone 14 , same speci...  \n",
       "2987                                        Father gift  \n",
       "2988  After 9 months I used this is worest experienc...  \n",
       "2989  My phone was bent for some reason. So kindly i...  \n",
       "\n",
       "[2990 rows x 3 columns]"
      ]
     },
     "execution_count": 26,
     "metadata": {},
     "output_type": "execute_result"
    }
   ],
   "source": [
    "df"
   ]
  },
  {
   "cell_type": "code",
   "execution_count": 27,
   "metadata": {},
   "outputs": [],
   "source": [
    "def modify_title(title):\n",
    "    parts = title.split(' stars ')\n",
    "    if len(parts) > 1:\n",
    "        return parts[1].strip()\n",
    "    else:\n",
    "        return title\n",
    "\n",
    "\n",
    "df['title'] = df['title'].apply(modify_title)"
   ]
  },
  {
   "cell_type": "code",
   "execution_count": 28,
   "metadata": {},
   "outputs": [
    {
     "data": {
      "text/plain": [
       "0                            Awesome\n",
       "1                        Best iPhone\n",
       "2                Best Budgeted Phone\n",
       "3                          iPhone 13\n",
       "4         Lose your hardearned money\n",
       "                    ...             \n",
       "2985            Alert slider is lose\n",
       "2986    Better option over iphone 14\n",
       "2987                     Really nice\n",
       "2988             Performance is slow\n",
       "2989                      Dear Apple\n",
       "Name: title, Length: 2990, dtype: object"
      ]
     },
     "execution_count": 28,
     "metadata": {},
     "output_type": "execute_result"
    }
   ],
   "source": [
    "df['title']"
   ]
  },
  {
   "cell_type": "code",
   "execution_count": 29,
   "metadata": {},
   "outputs": [
    {
     "data": {
      "text/html": [
       "<div>\n",
       "<style scoped>\n",
       "    .dataframe tbody tr th:only-of-type {\n",
       "        vertical-align: middle;\n",
       "    }\n",
       "\n",
       "    .dataframe tbody tr th {\n",
       "        vertical-align: top;\n",
       "    }\n",
       "\n",
       "    .dataframe thead th {\n",
       "        text-align: right;\n",
       "    }\n",
       "</style>\n",
       "<table border=\"1\" class=\"dataframe\">\n",
       "  <thead>\n",
       "    <tr style=\"text-align: right;\">\n",
       "      <th></th>\n",
       "      <th>title</th>\n",
       "      <th>rating</th>\n",
       "      <th>body</th>\n",
       "    </tr>\n",
       "  </thead>\n",
       "  <tbody>\n",
       "    <tr>\n",
       "      <th>0</th>\n",
       "      <td>Awesome</td>\n",
       "      <td>5.0 out of 5 stars</td>\n",
       "      <td>Best camera for video and value for money but ...</td>\n",
       "    </tr>\n",
       "    <tr>\n",
       "      <th>1</th>\n",
       "      <td>Best iPhone</td>\n",
       "      <td>4.0 out of 5 stars</td>\n",
       "      <td>Best but worst cable was given</td>\n",
       "    </tr>\n",
       "    <tr>\n",
       "      <th>2</th>\n",
       "      <td>Best Budgeted Phone</td>\n",
       "      <td>5.0 out of 5 stars</td>\n",
       "      <td>One best iPhone release from  Just go for it....</td>\n",
       "    </tr>\n",
       "    <tr>\n",
       "      <th>3</th>\n",
       "      <td>iPhone 13</td>\n",
       "      <td>5.0 out of 5 stars</td>\n",
       "      <td>I've been using the Apple iPhone 13 (Blue) for...</td>\n",
       "    </tr>\n",
       "    <tr>\n",
       "      <th>4</th>\n",
       "      <td>Lose your hardearned money</td>\n",
       "      <td>1.0 out of 5 stars</td>\n",
       "      <td>Wrost phoneNo battery backupHighly restriction...</td>\n",
       "    </tr>\n",
       "  </tbody>\n",
       "</table>\n",
       "</div>"
      ],
      "text/plain": [
       "                        title              rating  \\\n",
       "0                     Awesome  5.0 out of 5 stars   \n",
       "1                 Best iPhone  4.0 out of 5 stars   \n",
       "2         Best Budgeted Phone  5.0 out of 5 stars   \n",
       "3                   iPhone 13  5.0 out of 5 stars   \n",
       "4  Lose your hardearned money  1.0 out of 5 stars   \n",
       "\n",
       "                                                body  \n",
       "0  Best camera for video and value for money but ...  \n",
       "1                     Best but worst cable was given  \n",
       "2  One best iPhone release from  Just go for it....  \n",
       "3  I've been using the Apple iPhone 13 (Blue) for...  \n",
       "4  Wrost phoneNo battery backupHighly restriction...  "
      ]
     },
     "execution_count": 29,
     "metadata": {},
     "output_type": "execute_result"
    }
   ],
   "source": [
    "df.head()"
   ]
  },
  {
   "cell_type": "code",
   "execution_count": null,
   "metadata": {},
   "outputs": [],
   "source": []
  }
 ],
 "metadata": {
  "kernelspec": {
   "display_name": "Python 3",
   "language": "python",
   "name": "python3"
  },
  "language_info": {
   "codemirror_mode": {
    "name": "ipython",
    "version": 3
   },
   "file_extension": ".py",
   "mimetype": "text/x-python",
   "name": "python",
   "nbconvert_exporter": "python",
   "pygments_lexer": "ipython3",
   "version": "3.11.5"
  }
 },
 "nbformat": 4,
 "nbformat_minor": 2
}
