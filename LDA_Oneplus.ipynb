{
 "cells": [
  {
   "cell_type": "code",
   "execution_count": 1,
   "id": "7aaabd82",
   "metadata": {},
   "outputs": [],
   "source": [
    "import pandas as pd\n",
    "import nltk\n",
    "import re, random, os\n",
    "from nltk.corpus import stopwords\n",
    "import spacy\n",
    "from sklearn.feature_extraction.text import TfidfVectorizer\n",
    "import gensim\n",
    "from gensim import corpora\n",
    "from gensim.models import LdaModel\n",
    "from gensim.models.coherencemodel import CoherenceModel"
   ]
  },
  {
   "cell_type": "code",
   "execution_count": 2,
   "id": "601c13bc",
   "metadata": {},
   "outputs": [],
   "source": [
    "df = pd.read_csv('Oneplus_reviews.csv')"
   ]
  },
  {
   "cell_type": "code",
   "execution_count": 3,
   "id": "b08a8710",
   "metadata": {},
   "outputs": [
    {
     "data": {
      "text/plain": [
       "(300, 5)"
      ]
     },
     "execution_count": 3,
     "metadata": {},
     "output_type": "execute_result"
    }
   ],
   "source": [
    "df.shape"
   ]
  },
  {
   "cell_type": "code",
   "execution_count": 4,
   "id": "962d331a",
   "metadata": {},
   "outputs": [
    {
     "data": {
      "text/html": [
       "<div>\n",
       "<style scoped>\n",
       "    .dataframe tbody tr th:only-of-type {\n",
       "        vertical-align: middle;\n",
       "    }\n",
       "\n",
       "    .dataframe tbody tr th {\n",
       "        vertical-align: top;\n",
       "    }\n",
       "\n",
       "    .dataframe thead th {\n",
       "        text-align: right;\n",
       "    }\n",
       "</style>\n",
       "<table border=\"1\" class=\"dataframe\">\n",
       "  <thead>\n",
       "    <tr style=\"text-align: right;\">\n",
       "      <th></th>\n",
       "      <th>Unnamed: 0</th>\n",
       "      <th>Model</th>\n",
       "      <th>rating</th>\n",
       "      <th>title</th>\n",
       "      <th>review_text</th>\n",
       "    </tr>\n",
       "  </thead>\n",
       "  <tbody>\n",
       "    <tr>\n",
       "      <th>0</th>\n",
       "      <td>0</td>\n",
       "      <td>Oneplus 11</td>\n",
       "      <td>5.0 out of 5 stars</td>\n",
       "      <td>5.0 out of 5 stars\\nBeast (best) phone at this...</td>\n",
       "      <td>\\nBeen using OnePlus 11 for about a week now a...</td>\n",
       "    </tr>\n",
       "    <tr>\n",
       "      <th>1</th>\n",
       "      <td>1</td>\n",
       "      <td>Oneplus 11</td>\n",
       "      <td>5.0 out of 5 stars</td>\n",
       "      <td>5.0 out of 5 stars\\nGood phone and definite fl...</td>\n",
       "      <td>\\nI bought this after lots of research. Green ...</td>\n",
       "    </tr>\n",
       "    <tr>\n",
       "      <th>2</th>\n",
       "      <td>2</td>\n",
       "      <td>Oneplus 11</td>\n",
       "      <td>4.0 out of 5 stars</td>\n",
       "      <td>4.0 out of 5 stars\\nBeast\\n</td>\n",
       "      <td>\\nAs a OnePlus family member I just upgraded f...</td>\n",
       "    </tr>\n",
       "    <tr>\n",
       "      <th>3</th>\n",
       "      <td>3</td>\n",
       "      <td>Oneplus 11</td>\n",
       "      <td>5.0 out of 5 stars</td>\n",
       "      <td>5.0 out of 5 stars\\nits not a bad phone, its n...</td>\n",
       "      <td>\\nso before i start, I've been using Samsung p...</td>\n",
       "    </tr>\n",
       "    <tr>\n",
       "      <th>4</th>\n",
       "      <td>4</td>\n",
       "      <td>Oneplus 11</td>\n",
       "      <td>5.0 out of 5 stars</td>\n",
       "      <td>5.0 out of 5 stars\\nPretty good\\n</td>\n",
       "      <td>\\nOperating system -Coming to OxygenOS from MI...</td>\n",
       "    </tr>\n",
       "    <tr>\n",
       "      <th>5</th>\n",
       "      <td>5</td>\n",
       "      <td>Oneplus 11</td>\n",
       "      <td>1.0 out of 5 stars</td>\n",
       "      <td>1.0 out of 5 stars\\nWHAT A SHOCKER OF A LET DO...</td>\n",
       "      <td>\\nIn the family, we had several OnePlus device...</td>\n",
       "    </tr>\n",
       "    <tr>\n",
       "      <th>6</th>\n",
       "      <td>6</td>\n",
       "      <td>Oneplus 11</td>\n",
       "      <td>5.0 out of 5 stars</td>\n",
       "      <td>5.0 out of 5 stars\\nCan go toe to toe with the...</td>\n",
       "      <td>\\nI'm writing this review after 7 months of us...</td>\n",
       "    </tr>\n",
       "    <tr>\n",
       "      <th>7</th>\n",
       "      <td>7</td>\n",
       "      <td>Oneplus 11</td>\n",
       "      <td>5.0 out of 5 stars</td>\n",
       "      <td>5.0 out of 5 stars\\nSo far so good\\n</td>\n",
       "      <td>\\nIt's second day and it looks very satisfying...</td>\n",
       "    </tr>\n",
       "    <tr>\n",
       "      <th>8</th>\n",
       "      <td>8</td>\n",
       "      <td>Oneplus 11</td>\n",
       "      <td>4.0 out of 5 stars</td>\n",
       "      <td>4.0 out of 5 stars\\nLove the Phone and it's qu...</td>\n",
       "      <td>\\nEverything is great, don't waste money going...</td>\n",
       "    </tr>\n",
       "    <tr>\n",
       "      <th>9</th>\n",
       "      <td>9</td>\n",
       "      <td>Oneplus 11</td>\n",
       "      <td>4.0 out of 5 stars</td>\n",
       "      <td>4.0 out of 5 stars\\nPowerpacked device and gre...</td>\n",
       "      <td>\\nI bought oneplus11 256GB variant black colou...</td>\n",
       "    </tr>\n",
       "  </tbody>\n",
       "</table>\n",
       "</div>"
      ],
      "text/plain": [
       "   Unnamed: 0       Model              rating  \\\n",
       "0           0  Oneplus 11  5.0 out of 5 stars   \n",
       "1           1  Oneplus 11  5.0 out of 5 stars   \n",
       "2           2  Oneplus 11  4.0 out of 5 stars   \n",
       "3           3  Oneplus 11  5.0 out of 5 stars   \n",
       "4           4  Oneplus 11  5.0 out of 5 stars   \n",
       "5           5  Oneplus 11  1.0 out of 5 stars   \n",
       "6           6  Oneplus 11  5.0 out of 5 stars   \n",
       "7           7  Oneplus 11  5.0 out of 5 stars   \n",
       "8           8  Oneplus 11  4.0 out of 5 stars   \n",
       "9           9  Oneplus 11  4.0 out of 5 stars   \n",
       "\n",
       "                                               title  \\\n",
       "0  5.0 out of 5 stars\\nBeast (best) phone at this...   \n",
       "1  5.0 out of 5 stars\\nGood phone and definite fl...   \n",
       "2                        4.0 out of 5 stars\\nBeast\\n   \n",
       "3  5.0 out of 5 stars\\nits not a bad phone, its n...   \n",
       "4                  5.0 out of 5 stars\\nPretty good\\n   \n",
       "5  1.0 out of 5 stars\\nWHAT A SHOCKER OF A LET DO...   \n",
       "6  5.0 out of 5 stars\\nCan go toe to toe with the...   \n",
       "7               5.0 out of 5 stars\\nSo far so good\\n   \n",
       "8  4.0 out of 5 stars\\nLove the Phone and it's qu...   \n",
       "9  4.0 out of 5 stars\\nPowerpacked device and gre...   \n",
       "\n",
       "                                         review_text  \n",
       "0  \\nBeen using OnePlus 11 for about a week now a...  \n",
       "1  \\nI bought this after lots of research. Green ...  \n",
       "2  \\nAs a OnePlus family member I just upgraded f...  \n",
       "3  \\nso before i start, I've been using Samsung p...  \n",
       "4  \\nOperating system -Coming to OxygenOS from MI...  \n",
       "5  \\nIn the family, we had several OnePlus device...  \n",
       "6  \\nI'm writing this review after 7 months of us...  \n",
       "7  \\nIt's second day and it looks very satisfying...  \n",
       "8  \\nEverything is great, don't waste money going...  \n",
       "9  \\nI bought oneplus11 256GB variant black colou...  "
      ]
     },
     "execution_count": 4,
     "metadata": {},
     "output_type": "execute_result"
    }
   ],
   "source": [
    "df.head(10)"
   ]
  },
  {
   "cell_type": "code",
   "execution_count": 5,
   "id": "fffc595e",
   "metadata": {},
   "outputs": [],
   "source": [
    "import re\n",
    "\n",
    "def remove_ratings(title):\n",
    "    return re.sub(r'\\d+\\.\\d+ out of \\d+ stars', '', title).strip()"
   ]
  },
  {
   "cell_type": "code",
   "execution_count": 6,
   "id": "b3dbacbc",
   "metadata": {},
   "outputs": [],
   "source": [
    "df['title'] = df['title'].apply(remove_ratings)"
   ]
  },
  {
   "cell_type": "code",
   "execution_count": 7,
   "id": "a23417c7",
   "metadata": {},
   "outputs": [],
   "source": [
    "df['reviews'] =df['review_text']"
   ]
  },
  {
   "cell_type": "code",
   "execution_count": 8,
   "id": "31e11b33",
   "metadata": {},
   "outputs": [
    {
     "name": "stderr",
     "output_type": "stream",
     "text": [
      "[nltk_data] Downloading package stopwords to\n",
      "[nltk_data]     /Users/mohdzahan/nltk_data...\n",
      "[nltk_data]   Package stopwords is already up-to-date!\n"
     ]
    },
    {
     "data": {
      "text/plain": [
       "True"
      ]
     },
     "execution_count": 8,
     "metadata": {},
     "output_type": "execute_result"
    }
   ],
   "source": [
    "nltk.download('stopwords')"
   ]
  },
  {
   "cell_type": "code",
   "execution_count": 9,
   "id": "47c550b2",
   "metadata": {},
   "outputs": [
    {
     "name": "stderr",
     "output_type": "stream",
     "text": [
      "[nltk_data] Downloading package punkt to /Users/mohdzahan/nltk_data...\n",
      "[nltk_data]   Package punkt is already up-to-date!\n"
     ]
    },
    {
     "data": {
      "text/plain": [
       "True"
      ]
     },
     "execution_count": 9,
     "metadata": {},
     "output_type": "execute_result"
    }
   ],
   "source": [
    "nltk.download('punkt')"
   ]
  },
  {
   "cell_type": "code",
   "execution_count": 10,
   "id": "fa3cb1f7",
   "metadata": {},
   "outputs": [],
   "source": [
    "emoji_pattern = re.compile(\n",
    "    \"[\"\n",
    "    \"\\U0001F600-\\U0001F64F\"  # emoticons\n",
    "    \"\\U0001F300-\\U0001F5FF\"  # symbols & pictographs\n",
    "    \"\\U0001F680-\\U0001F6FF\"  # transport & map symbols\n",
    "    \"\\U0001F1E0-\\U0001F1FF\"  # flags (iOS)\n",
    "    \"\\U00002702-\\U000027B0\"\n",
    "    \"\\U000024C2-\\U0001F251\"\n",
    "    \"]+\",\n",
    "    flags=re.UNICODE\n",
    ")"
   ]
  },
  {
   "cell_type": "code",
   "execution_count": 11,
   "id": "02917ffb",
   "metadata": {},
   "outputs": [],
   "source": [
    "\n",
    "df['reviews'] = df['reviews'].astype(str)"
   ]
  },
  {
   "cell_type": "code",
   "execution_count": 12,
   "id": "c92accf8",
   "metadata": {},
   "outputs": [],
   "source": [
    "from nltk.corpus import stopwords\n",
    "\n",
    "stop_words = stopwords.words('english')\n",
    "\n",
    "def preprocess(text):\n",
    "    text = text.replace('\\n', '.')\n",
    "    text = emoji_pattern.sub(r'', text)  \n",
    "    text = re.sub(r'\\d+', '', text)  \n",
    "    text = re.sub(r'\\s+', ' ', text)  \n",
    "    text = re.sub(r'[^\\w\\s]', '', text)\n",
    "    text = text.lower()  \n",
    "    text = ' '.join(word for word in text.split() if word not in stop_words)  \n",
    "    return text\n",
    "\n",
    "df['reviews'] = df['reviews'].apply(preprocess)"
   ]
  },
  {
   "cell_type": "code",
   "execution_count": 13,
   "id": "b97edc0b",
   "metadata": {},
   "outputs": [
    {
     "name": "stdout",
     "output_type": "stream",
     "text": [
      "Collecting en-core-web-md==3.7.1\n",
      "  Downloading https://github.com/explosion/spacy-models/releases/download/en_core_web_md-3.7.1/en_core_web_md-3.7.1-py3-none-any.whl (42.8 MB)\n",
      "\u001b[2K     \u001b[90m━━━━━━━━━━━━━━━━━━━━━━━━━━━━━━━━━━━━━━━━\u001b[0m \u001b[32m42.8/42.8 MB\u001b[0m \u001b[31m1.7 MB/s\u001b[0m eta \u001b[36m0:00:00\u001b[0m00:01\u001b[0m00:01\u001b[0mm\n",
      "\u001b[?25hRequirement already satisfied: spacy<3.8.0,>=3.7.2 in /Users/mohdzahan/anaconda3/lib/python3.11/site-packages (from en-core-web-md==3.7.1) (3.7.2)\n",
      "Requirement already satisfied: spacy-legacy<3.1.0,>=3.0.11 in /Users/mohdzahan/anaconda3/lib/python3.11/site-packages (from spacy<3.8.0,>=3.7.2->en-core-web-md==3.7.1) (3.0.12)\n",
      "Requirement already satisfied: spacy-loggers<2.0.0,>=1.0.0 in /Users/mohdzahan/anaconda3/lib/python3.11/site-packages (from spacy<3.8.0,>=3.7.2->en-core-web-md==3.7.1) (1.0.4)\n",
      "Requirement already satisfied: murmurhash<1.1.0,>=0.28.0 in /Users/mohdzahan/anaconda3/lib/python3.11/site-packages (from spacy<3.8.0,>=3.7.2->en-core-web-md==3.7.1) (1.0.7)\n",
      "Requirement already satisfied: cymem<2.1.0,>=2.0.2 in /Users/mohdzahan/anaconda3/lib/python3.11/site-packages (from spacy<3.8.0,>=3.7.2->en-core-web-md==3.7.1) (2.0.6)\n",
      "Requirement already satisfied: preshed<3.1.0,>=3.0.2 in /Users/mohdzahan/anaconda3/lib/python3.11/site-packages (from spacy<3.8.0,>=3.7.2->en-core-web-md==3.7.1) (3.0.6)\n",
      "Requirement already satisfied: thinc<8.3.0,>=8.1.8 in /Users/mohdzahan/anaconda3/lib/python3.11/site-packages (from spacy<3.8.0,>=3.7.2->en-core-web-md==3.7.1) (8.2.2)\n",
      "Requirement already satisfied: wasabi<1.2.0,>=0.9.1 in /Users/mohdzahan/anaconda3/lib/python3.11/site-packages (from spacy<3.8.0,>=3.7.2->en-core-web-md==3.7.1) (0.9.1)\n",
      "Requirement already satisfied: srsly<3.0.0,>=2.4.3 in /Users/mohdzahan/anaconda3/lib/python3.11/site-packages (from spacy<3.8.0,>=3.7.2->en-core-web-md==3.7.1) (2.4.8)\n",
      "Requirement already satisfied: catalogue<2.1.0,>=2.0.6 in /Users/mohdzahan/anaconda3/lib/python3.11/site-packages (from spacy<3.8.0,>=3.7.2->en-core-web-md==3.7.1) (2.0.10)\n",
      "Requirement already satisfied: weasel<0.4.0,>=0.1.0 in /Users/mohdzahan/anaconda3/lib/python3.11/site-packages (from spacy<3.8.0,>=3.7.2->en-core-web-md==3.7.1) (0.3.4)\n",
      "Requirement already satisfied: typer<0.10.0,>=0.3.0 in /Users/mohdzahan/anaconda3/lib/python3.11/site-packages (from spacy<3.8.0,>=3.7.2->en-core-web-md==3.7.1) (0.9.0)\n",
      "Requirement already satisfied: smart-open<7.0.0,>=5.2.1 in /Users/mohdzahan/anaconda3/lib/python3.11/site-packages (from spacy<3.8.0,>=3.7.2->en-core-web-md==3.7.1) (5.2.1)\n",
      "Requirement already satisfied: tqdm<5.0.0,>=4.38.0 in /Users/mohdzahan/anaconda3/lib/python3.11/site-packages (from spacy<3.8.0,>=3.7.2->en-core-web-md==3.7.1) (4.65.0)\n",
      "Requirement already satisfied: requests<3.0.0,>=2.13.0 in /Users/mohdzahan/anaconda3/lib/python3.11/site-packages (from spacy<3.8.0,>=3.7.2->en-core-web-md==3.7.1) (2.31.0)\n",
      "Requirement already satisfied: pydantic!=1.8,!=1.8.1,<3.0.0,>=1.7.4 in /Users/mohdzahan/anaconda3/lib/python3.11/site-packages (from spacy<3.8.0,>=3.7.2->en-core-web-md==3.7.1) (1.10.8)\n",
      "Requirement already satisfied: jinja2 in /Users/mohdzahan/anaconda3/lib/python3.11/site-packages (from spacy<3.8.0,>=3.7.2->en-core-web-md==3.7.1) (3.1.2)\n",
      "Requirement already satisfied: setuptools in /Users/mohdzahan/anaconda3/lib/python3.11/site-packages (from spacy<3.8.0,>=3.7.2->en-core-web-md==3.7.1) (68.0.0)\n",
      "Requirement already satisfied: packaging>=20.0 in /Users/mohdzahan/anaconda3/lib/python3.11/site-packages (from spacy<3.8.0,>=3.7.2->en-core-web-md==3.7.1) (23.1)\n",
      "Requirement already satisfied: langcodes<4.0.0,>=3.2.0 in /Users/mohdzahan/anaconda3/lib/python3.11/site-packages (from spacy<3.8.0,>=3.7.2->en-core-web-md==3.7.1) (3.3.0)\n",
      "Requirement already satisfied: numpy>=1.19.0 in /Users/mohdzahan/anaconda3/lib/python3.11/site-packages (from spacy<3.8.0,>=3.7.2->en-core-web-md==3.7.1) (1.24.3)\n",
      "Requirement already satisfied: typing-extensions>=4.2.0 in /Users/mohdzahan/anaconda3/lib/python3.11/site-packages (from pydantic!=1.8,!=1.8.1,<3.0.0,>=1.7.4->spacy<3.8.0,>=3.7.2->en-core-web-md==3.7.1) (4.9.0)\n",
      "Requirement already satisfied: charset-normalizer<4,>=2 in /Users/mohdzahan/anaconda3/lib/python3.11/site-packages (from requests<3.0.0,>=2.13.0->spacy<3.8.0,>=3.7.2->en-core-web-md==3.7.1) (2.0.4)\n",
      "Requirement already satisfied: idna<4,>=2.5 in /Users/mohdzahan/anaconda3/lib/python3.11/site-packages (from requests<3.0.0,>=2.13.0->spacy<3.8.0,>=3.7.2->en-core-web-md==3.7.1) (3.4)\n",
      "Requirement already satisfied: urllib3<3,>=1.21.1 in /Users/mohdzahan/anaconda3/lib/python3.11/site-packages (from requests<3.0.0,>=2.13.0->spacy<3.8.0,>=3.7.2->en-core-web-md==3.7.1) (1.26.16)\n",
      "Requirement already satisfied: certifi>=2017.4.17 in /Users/mohdzahan/anaconda3/lib/python3.11/site-packages (from requests<3.0.0,>=2.13.0->spacy<3.8.0,>=3.7.2->en-core-web-md==3.7.1) (2024.7.4)\n",
      "Requirement already satisfied: blis<0.8.0,>=0.7.8 in /Users/mohdzahan/anaconda3/lib/python3.11/site-packages (from thinc<8.3.0,>=8.1.8->spacy<3.8.0,>=3.7.2->en-core-web-md==3.7.1) (0.7.9)\n",
      "Requirement already satisfied: confection<1.0.0,>=0.0.1 in /Users/mohdzahan/anaconda3/lib/python3.11/site-packages (from thinc<8.3.0,>=8.1.8->spacy<3.8.0,>=3.7.2->en-core-web-md==3.7.1) (0.1.4)\n",
      "Requirement already satisfied: click<9.0.0,>=7.1.1 in /Users/mohdzahan/anaconda3/lib/python3.11/site-packages (from typer<0.10.0,>=0.3.0->spacy<3.8.0,>=3.7.2->en-core-web-md==3.7.1) (8.0.4)\n",
      "Requirement already satisfied: cloudpathlib<0.17.0,>=0.7.0 in /Users/mohdzahan/anaconda3/lib/python3.11/site-packages (from weasel<0.4.0,>=0.1.0->spacy<3.8.0,>=3.7.2->en-core-web-md==3.7.1) (0.16.0)\n",
      "Requirement already satisfied: MarkupSafe>=2.0 in /Users/mohdzahan/anaconda3/lib/python3.11/site-packages (from jinja2->spacy<3.8.0,>=3.7.2->en-core-web-md==3.7.1) (2.1.1)\n",
      "\u001b[38;5;2m✔ Download and installation successful\u001b[0m\n",
      "You can now load the package via spacy.load('en_core_web_md')\n"
     ]
    }
   ],
   "source": [
    "!python -m spacy download en_core_web_md"
   ]
  },
  {
   "cell_type": "code",
   "execution_count": 14,
   "id": "82f3f8c1",
   "metadata": {},
   "outputs": [],
   "source": [
    "nlp = spacy.load('en_core_web_md', disable = ['parser', 'ner'])\n",
    "\n",
    "def lemmatization(texts, allowed_postags=['NOUN', 'ADJ']):\n",
    "    output = []\n",
    "    for text in texts:\n",
    "        doc = nlp(text)\n",
    "        output.append([token.lemma_ for token in doc if token.pos_ in allowed_postags])\n",
    "    return output\n",
    "\n",
    "tokenized_reviews = lemmatization(df['reviews'].tolist())"
   ]
  },
  {
   "cell_type": "code",
   "execution_count": null,
   "id": "1fd96d94",
   "metadata": {},
   "outputs": [],
   "source": [
    "def remove_topic(tokenized_reviews):\n",
    "    unwanted = ['phone', 'oneplus','mobile']\n",
    "    for i in unwanted:\n",
    "        while i in tokenized_reviews:\n",
    "            tokenized_reviews.remove(i)\n",
    "    return tokenized_reviews\n",
    "\n",
    "tokenized_reviews = remove_topic(tokenized_reviews)\n",
    "tokenized_reviews"
   ]
  },
  {
   "cell_type": "code",
   "execution_count": 15,
   "id": "a1f04a7d",
   "metadata": {},
   "outputs": [
    {
     "name": "stdout",
     "output_type": "stream",
     "text": [
      "[['oneplus', 'week', 'price', 'range', 'phone', 'extraordinary', 'battery', 'life', 'life', 'easy', 'phone', 'review', 'powerful', 'good', 'work', 'term', 'efficiency', 'heating', 'summer', 'gte', 'phone', 'heating', 'problem', 'last', 'year', 'non', 'existent', 'timedisplay', 'capable', 'dolby', 'vision', 'dolby', 'tech', 'experience', 'immersive', 'price', 'haptic', 'good', 'iphone', 'oxygen', 'good', 'oxygen', 'upgrade', 'year', 'year', 'security', 'update', 'frequent', 'useful', 'phone', 'overall', 'life', 'part', 'window', 'power', 'button', 'old', 'op', 'supportcamera', 'decent', 'iphone', 'low', 'light', 'shot', 'oneplus', 'camera', 'flagship', 'cheap', 'pixel', 'disappointment', 'front', 'camera', 'buy', 'phone', 'vivo', 'oppo', 'approach', 'skin', 'smooth', 'bright', 'front', 'video', 'shame', 'leastcon', 'annoying', 'bugsfeature', 'small', 'updatedisplay', 'bright', 'indoor', 'iphone', 'ultra', 'thoseone', 'apparent', 'disadvantage', 'lack', 'wireless', 'ip', 'rating', 'compromise', 'quad', 'hd', 'display', 'price', 'reverse', 'wireless', 'charging', 'earbud', 'last', 'beautiful', 'thing', 'phone', 'charger', 'screen', 'guard', 'phone', 'case', 'dollar', 'company', 'lakhi', 'helpful', 'oneplus', 'qualcomm', 'year', 'platform', 'year'], ['lot', 'research', 'green', 'line', 'issue', 'life', 'time', 'screen', 'positive', 'move', 'trust', 'customersprosprimary', 'camera', 'task', 'smoothlygb', 'usb', 'year', 'update', 'year', 'security', 'update', 'configuration', 'future', 'proofbattery', 'last', 'day', 'battery', 'screen', 'time', 'speed', 'awesome', 'min', 'many', 'useful', 'feature', 'v', 'shape', 'pattern', 'lock', 'screen', 'torch', 'draw', 'shape', 'pattern', 'lock', 'screen', 'launch', 'camera', 'hand', 'selfie', 'photoconsminor', 'bug', 'time', 'mts', 'reconnectget', 'manageable', 'kind', 'main', 'draw', 'backwill', 'review', 'updated', 'usage'], ['oneplus', 'family', 'member', 'oneplus', 'oneplus', 'pro', 'screen', 'quality', 'colour', 'battery', 'heavy', 'usage', 'hr', 'screen', 'time', 'camera', 'portrait', 'shot', 'awesome', 'front', 'camera', 'average', 'oneplus', 'ui', 'easy', 'handle', 'past', 'year', 'performance', 'lag', 'bgmi', 'day', 'day', 'taskscon', 'price', 'range', 'ip', 'water', 'resistant', 'continuous', 'usage', 'time', 'ui', 'normal', 'time', 'poor', 'call', 'quality', 'regular', 'call', 'disconnect', 'sure', 'mobile', 'network', 'oneplus', 'year', 'longlasting', 'performance', 'oneplus'], ['phone', 'year', 'ui', 'perk', 'realized', 'fact', 'bad', 'deal', 'phone', 'worth', 'lot', 'money', 'phone', 'worth', 'money', 'flaw', 'lot', 'people', 'many', 'camera', 'processing', 'video', 'quality', 'flagship', 'wireless', 'many', 'flaw', 'suitthe', 'unit', 'fine', 'heating', 'issue', 'thing', 'software', 'wise', 'unit', 'fine', 'phone', 'take', 'min', 'charge', 'screen', 'e', 'panel', 'good', 'battery', 'life', 'hard', 'absolute', 'top', 'tier', 'person', 'office', 'meeting', 'phone', 'thing', 'solid', 'battery', 'life', 'last', 'good', 'careful', 'glass', 'grip', 'sound', 'good', 'quality', 'bass', 'loudness', 'stereo', 'speakersnow', 'phone', 'worth', 'period', 'version', 'bad', 'deal', 'charger', 'extra', 'appreciatei', 'money', 'r', 'price', 'star', 'phone', 'tht', 'hand', 'great', 'use', 'glitch', 'software', 'issue', 'hardware', 'issue', 'thing', 'couple', 'year', 'sucker', 'update'], ['operating', 'system', 'oxygeno', 'good', 'switch', 'oxygeno', 'good', 'person', 'thing', 'previous', 'version', 'personal', 'experience', 'ui', 'experience', 'clean', 'bloatware', 'lot', 'good', 'tutorial', 'help', 'good', 'haptic', 'feedback', 'good', 'much', 'good', 'haptic', 'feedback', 'overall', 'experience', 'couple', 'bug', 'minor', 'overall', 'solid', 'minimalistic', 'software', 'feature', 'multiple', 'app', 'convenient', 'landscape', 'mode', 'notification', 'panel', 'change', 'orientation', 'small', 'quality', 'life', 'thing', 'software', 'usefulone', 'thing', 'despise', 'software', 'individual', 'notification', 'annoying', 'notification', 'swiping', 'click', 'notification', 'click', 'open', 'application', 'hope', 'fix', 'least', 'toggle', 'change', 'behaviourcamera', 'big', 'camera', 'enthusiast', 'camera', 'apple', 'price', 'range', 'decent', 'shot', 'product', 'shutter', 'speed', 'decent', 'overall', 'good', 'enough', 'casual', 'userscreen', 'good', 'much', 'departmentbattery', 'life', 'full', 'day', 'moderate', 'usage', 'high', 'brightness', 'p', 'speed', 'plug', 'minute', 'full', 'battery', 'lot', 'battery', 'health', 'good', 'longerperformance', 'good', 'casual', 'usage', 'sure', 'gaming', 'heavy', 'mobile', 'gamer', 'laptop', 'mobile', 'gaming', 'online', 'review', 'good', 'mobile', 'gamingdesign', 'good', 'enough', 'casual', 'user', 'camera', 'annoying', 'big', 'fan', 'glass', 'back', 'glad', 'case', 'good', 'enough', 'people', 'alert', 'slider', 'good', 'featuresound', 'good', 'casual', 'user', 'phone', 'day', 'day', 'solid', 'option', 'phone'], ['family', 'several', 'oneplus', 'device', 'early', 'one', 'company', 'bearing', 'direction', 'flagship', 'killer', 'tagline', 'wrong', 'market', 'share', 'phone', 'excellent', 'phone', 'next', 'pro', 'release', 'apple', 'series', 'impressive', 'phoneswhen', 'hasselblad', 'stuff', 'live', 'launch', 'online', 'thought', 'company', 'track', 'many', 'reviewer', 'speed', 'processor', 'refresh', 'rate', 'hype', 'back', 'track', 'phone', 'gb', 'excited', 'prospect', 'highend', 'first', 'letdown', 'horrific', 'camera', 'picture', 'quality', 'phone', 'lowlevel', 'picture', 'quality', 'lifeless', 'dud', 'outdoor', 'condition', 'indoor', 'hasselblad', 'horrible', 'photo', 'quality', 'ismany', 'function', 'time', 'reel', 'photo', 'app', 'phone', 'hardware', 'app', 'smoothness', 'fluidic', 'colour', 'option', 'vivid', 'natural', 'pro', 'weird', 'photo', 'cloud', 'phone', 'different', 'character', 'attachment', 'product', 'handthe', 'slimness', 'excellent', 'premium', 'good', 'battery', 'life', 'speed', 'many', 'thing', 'good', 'professional', 'review', 'magazine', 'many', 'miss', 'trick', 'height', 'everyone', 'founder', 'company', 'identity', 'nail', 'right', 'head', 'apple', 'identity', 'friend', 'impressed', 'natural', 'skin', 'tone', 'picture', 'spicethe', 'oneplus', 'identity', 'thing', 'phonewill', 'able', 'plethora', 'flaw', 'future', 'update', 'wrong', 'idea', 'camera', 'wrong', 'poor', 'quality', 'resultson', 'close', 'look', 'picture', 'quality', 'oppo', 'type', 'result', 'skin', 'plasticy', 'men', 'skin', 'makeuped', 'trait', 'oppo', 'phone', 'people', 'girl', 'smooth', 'baby', 'dollsmany', 'thing', 'right', 'phone', 'spite', 'late', 'processor', 'high', 'ram', 'goodsince', 'return', 'option', 'exchange', 'date', 'hand', 'thought', 'camera', 'poor', 'qualityit', 'regretswill', 'oneplus', 'route', 'oppo', 'phone', 'good', 'old', 'oneplus', 'dead', 'gone______________i', 'hope', 'reader', 'many', 'positive', 'review', 'phone', 'personal', 'oneplus', 'experience', 'severe', 'letdown'], ['review', 'month', 'usagegood', 'thing', 'superb', 'additional', 'hd', 'feature', 'great', 'content', 'strong', 'audio', 'earphone', 'great', 'primary', 'portrait', 'lense', 'camera', 'setup', 'good', 'low', 'light', 'next', 'level', 'experience', 'good', 'battery', 'hrs', 'sot', 'sleek', 'design', 'corner', 'ridiculous', 'slow', 'regular', 'security', 'update', 'far', 'glitch', 'flagship', 'experiencething', 'front', 'camera', 'good', 'photo', 'bad', 'hdr', 'video', 'video', 'call', 'display', 'bright', 'phone', 'shutter', 'lag', 'camera', 'consistency', 'image', 'time', 'video', 'noise', 'reduction', 'non', 'existent', 'night', 'mode', 'usable', 'result', 'mode', 'fps'], ['second', 'day', 'satisfying', 'oneplus', 'oneplus', 'site', 'deal', 'mobile', 'week', 'slow', 'systemall', 'apprehensive', 'oneplus', 'year', 'call', 'oneplus', 'well', 'good', 'top', 'notchso', 'good', 'delivery', 'day', 'item', 'customer', 'care', 'customer', 'amazing', 'item', 'delivery', 'person', 'sheer', 'professionalism', 'shoppingadding', 'month', 'smooth', 'interface', 'fast', 'speed', 'decent', 'camera', 'battery', 'life', 'last', 'day', 'nice', 'curvy', 'navigation', 'cool', 'heavy', 'hand', 'previous', 'brightness', 'good', 'contrast', 'sharpness', 'brightness'], ['great', 'money', 'storage', 'expansion', 'slot', 'use', 'space', 'overall', 'great', 'phonehate', 'stock', 'eg', 'speed', 'dialing', 'sms', 'manual', 'select', 'text', 'delete', 'button', 'placement', 'volume', 'low', 'additional', 'glass', 'protection', 'camera', 'bump', 'phone', 'case', 'pathetic', 'low', 'effort'], ['oneplus', 'variant', 'black', 'great', 'performance', 'month', 'lag', 'clicking', 'picture', 'video', 'movie', 'last', 'day', 'speed', 'great', 'keep', 'min', 'work', 'day', 'limited', 'usagecamera', 'quality', 'excellent', 'process', 'picture', 'way', 'professional', 'shotthe', 'back', 'black', 'variant', 'soft', 'touch', 'picture', 'itno', 'delay', 'fingerprint', 'scanning', 'issueif', 'oneplus', 'bcz', 'similar', 'late', 'tech', 'heavy', 'discount', 'price', 'point', 'difference', 'variant', 'feel', 'gb', 'month', 'bud', 'great', 'price'], ['good', 'amazon'], ['oneplus', 'exceptional', 'device', 'reason', 'thrilled', 'purchaseperformance', 'absolute', 'powerhouse', 'late', 'snapdragon', 'processor', 'task', 'throw', 'gaming', 'speed', 'responsiveness', 'impressive', 'daily', 'activity', 'efficient', 'everdisplay', 'display', 'visual', 'delight', 'panel', 'sharp', 'stunning', 'color', 'deep', 'black', 'video', 'web', 'playing', 'game', 'short', 'breathtakingcamera', 'camera', 'system', 'topnotch', 'stunning', 'photo', 'remarkable', 'detail', 'clarity', 'low', 'light', 'condition', 'versatility', 'camera', 'various', 'shooting', 'mode', 'feature', 'creativity', 'photography', 'life', 'battery', 'life', 'phone', 'fantastic', 'full', 'day', 'running', 'power', 'feature', 'gamechanger', 'quick', 'charge', 'hour', 'usage', 'ready', 'oxygeno', 'clean', 'intuitive', 'user', 'interface', 'tradition', 'smooth', 'customizable', 'android', 'experience', 'frequent', 'update', 'phone', 'stay', 'uptodate', 'securebuild', 'quality', 'build', 'quality', 'exceptional', 'premium', 'hand', 'solid', 'sleek', 'design', 'device', 'network', 'technologyvalue', 'money', 'feature', 'performance', 'oneplus', 'excellent', 'value', 'money', 'flagshiplevel', 'performance', 'bankin', 'summary', 'smartphone', 'tick', 'true', 'flagship', 'device', 'remarkable', 'performance', 'outstanding', 'display', 'impressive', 'camera', 'capability', 'design', 'premium', 'happy', 'purchase', 'market', 'new', 'smartphone', 'true', 'marvel', 'innovation', 'excellence'], ['nice', 'phone'], ['phone', 'great', 'let', 'con', 'team', 'bug', 'asappro', 'great', 'value', 'money', 'great', 'camera', 'video', 'great', 'battery', 'life', 'amazing', 'dolby', 'atmo', 'sound', 'earpod', 'movie', 'curve', 'screen', 'good', 'good', 'screen', 'quality', 'amazing', 'fast', 'w', 'charger', 'quick', 'shower', 'charge', 'fast', 'play', 'game', 'battleground', 'smoothlycon', 'notification', 'drawer', 'pain', 'gesture', 'notification', 'panel', 'swipe', 'phone', 'charger', 'power', 'fingerprint', 'senser', 'big', 'pain', 'pattern', 'face', 'fingerprint', 'senser', 'unable', 'multiple', 'attempt', 'clear', 'print', 'finger', 'bad', 'phone', 'fingerprint', 'oneplus', 'app', 'drawer', 'sometime', 'stuck', 'open', 'app', 'app', 'drawer', 'use', 'slider', 'slientvibrateringer', 'find', 'page', 'slider', 'opening', 'able', 'download', 'app', 'issue', 'issue', 'torch', 'warm', 'light', 'flash', 'user', 'option', 'close', 'app', 'application', 'many', 'app', 'background', 'app', 'close', 'app', 'ringtone', 'loud', 'enough', 'full', 'volume', 'phone', 'buggy', 'smooth', 'software', 'experience', 'oneplus', 'look', 'feedback', 'bug', 'phone', 'experiencethank', 'happy', 'switch', 'oneplus', 'thank', 'amazon', 'safe', 'delivery'], ['loyal', 'customer', 'plushappy', 'product', 'price', 'performance'], ['good', 'product', 'lagcamera', 'issue', 'oneplus'], ['great', 'phone', 'superior', 'camera', 'awesome', 'battery', 'life', 'phone', 'first', 'phone', 'apple', 'wife', 'good'], ['heating'], ['lot', 'excitement', 'phone', 'purchase', 'year', 'iphone', 'key', 'factor', 'op', 'good', 'example', 'spec', 'sheet', 'great', 'phone', 'reality', 'wrong', 'op', 'lot', 'pro', 'con', 'day', 'day', 'experience', 'oxygen', 'fast', 'clutter', 'free', 'bug', 'well', 'late', 'software', 'update', 'bad', 'start', 'display', 'late', 'notification', 'old', 'message', 'useless', 'op', 'software', 'update', 'able', 'last', 'monthfingerprint', 'sensor', 'optical', 'fingerprint', 'sensor', 'op', 'little', 'sweaty', 'wet', 'rare', 'fingerprint', 'sensor', 'op', 'camera', 'package', 'impressive', 'spec', 'sheet', 'experience', 'underwhelming', 'due', 'poor', 'software', 'processing', 'shutter', 'speed', 'iphone', 'white', 'balance', 'inconsistent', 'human', 'subject', 'bright', 'op', 'good', 'nature', 'portrait', 'shot', 'vivid', 'color', 'great', 'hdr', 'output', 'perfect', 'edge', 'detection', 'main', 'cam', 'selfie', 'cam', 'bland', 'acceptable', 'pic', 'daylightperformance', 'spec', 'sheet', 'business', 'app', 'opening', 'time', 'multi', 'tasking', 'graphic', 'intensive', 'game', 'performance', 'battery', 'time', 'finish', 'breakfast', 'hour', 'lack', 'wireless', 'chargingi', 'hope', 'photo', 'processing', 'performance', 'great', 'hardware', 'package'], ['oneplus', 'model', 'function', 'year', 'oneplus', 'difference'], ['month', 'usage', 'camera', 'disappointedcamera', 'app', 'kind', 'filter', 'photo', 'face', 'good', 'light', 'oneplus', 'well', 'term', 'camera', 'low', 'light', 'performance', 'worstbattery', 'fast', 'mobile', 'heating', 'mobile', 'fast', 'phoneperformance', 'performance', 'wise', 'good', 'performance', 'allmemory', 'gbit', 'support', 'hdmi', 'type', 'c', 'cable', 'many', 'time', 'quality', 'goodnot', 'worth', 'k'], ['phone', 'month', 'app', 'min', 'phone', 'start', 'heating', 'increase', 'brightness', 'heating', 'min', 'video', 'min', 'camera', 'quality', 'poor', 'low', 'light', 'condition', 'people', 'low', 'light', 'annoying', 'option', 'way', 'use', 'camera', 'min', 'heating', 'good', 'phone', 'winter', 'warmth', 'handle'], ['month', 'useas', 'priceback', 'camera', 'lightsfront', 'camera', 'colour', 'skin', 'variant', 'game', 'unnecessary', 'app', 'phone', 'lag', 'time', 'normal', 'usesdisplay', 'quality', 'good', 'good', 'part', 'fast', 'fastspeaker', 'good'], [], ['month', 'use', 'wrong', 'decision', 'iphone', 'pre', 'launch', 'eventboss', 'student', 'apple', 'class', 'silver', 'begger', 'screen', 'sensitivity', 'issue', 'press', 'multiple', 'time', 'q', 'character', 'column', 'sometime', 'case', 'today', 'pillow', 'month', 'usehassalblad', 'camera', 'hype', 'segment', 'camera', 'hardware', 'use', 'software', 'upscale', 'quality', 'time', 'process', 'image', 'battery', 'backup', 'equivalent', 'iphone', 'last', 'day', 'normal', 'use', 'speed', 'high', 'charge', 'full', 'minute', 'deviation', 'specification', 'wireless', 'charging', 'due', 'top', 'hierarchy', 'nonavailability', 'wireless', 'charging', 'run', 'race', 'position', 'impressed', 'review', 'company', 'consumer', 'upscales', 'cost', 'divide', 'rule', 'iphone', 'segment', 'follower', 'customer'], ['review', 'phone', 'great', 'displayhaptic', 'speed', 'good', 'take', 'min', 'smoothness', 'ram', 'management', 'bug', 'thereback', 'camera', 'good', 'colour', 'improvement', 'bug', 'screen', 'stuck', 'blackout', 'annoying', 'restart', 'phone', 'againbattery', 'fastereven', 'gaming', 'performance', 'bad', 'phone', 'cpu', 'usage', 'able', 'fps', 'low', 'settingscamera', 'descent', 'natural', 'colour', 'therefront', 'camera', 'able', 'record', 'video', 'fps', 'colour', 'warm', 'toneno', 'ip', 'rating', 'scrolling', 'software', 'vision', 'support', 'speaker', 'phone', 'good', 'term', 'hardware', 'software', 'bad', 'stupid', 'bug', 'software', 'integration', 'hardware', 'software', 'update', 'thing', 'fixeddont', 'phone', 'gaming', 'ui', 'experience', 'r', 'worth', 'update', 'review', 'issue', 'update'], ['medium', 'month', 'usageperformance', 'fps', 'high', 'video', 'high', 'performance', 'modeit', 'crush', 'pubgcodany', 'realtime', 'raytracing', 'game', 'advantage', 'amazing', 'ltpomost', 'people', 'worrysound', 'amazinghaptic', 'good', 'classcamera', 'daylight', 'phone', 'bad', 'samsung', 'flagship', 'video', 'daylight', 'comparable', 'flagship', 'bad', 'zoomvideo', 'feature', 'mode', 'night', 'image', 'pitch', 'black', 'adjacent', 'building', 'safe', 'night', 'amazing', 'battery', 'life', 'minsstorage', 'speed', 'well', 'entry', 'level', 'flagship', 'lpddrx', 'phone', 'handle', 'butter', 'decent', 'camera', 'good', 'class'], ['gamer', 'photo', 'enthusiast', 'phone', 'audiovideo', 'pure', 'tech', 'enthusiast', 'experience', 'late', 'techi', 'month', 'old', 'option', 'pro', 'oneplus', 'oneplus', 'capabilitieswireless', 'ip', 'sheer', 'reason', 'late', 'processor', 'heart', 'phone', 'phone', 'month', 'technology', 'obsolete', 'work', 'much', 'difference', 'day', 'time', 'difference', 'screen', 'bit', 'large', 'phone', 'heavy', 'screen', 'amazing', 'dolby', 'vision', 'staggering', 'resolution', 'density', 'camera', 'different', 'time', 'color', 'calibration', 'camera', 'theme', 'colororange', 'weird', 'navic', 'positioning', 'system', 'year', 'oneplus', 'navic', 'support', 'big', 'difference', 'notice', 'speed', 'old', 'w', 'charger', 'juice', 'minute', 'less', 'capacity', 'battery', 'charger', 'oneplus', 'able', 'car', 'placewithout', 'phone', 'nice', 'phone', 'flagship', 'offer', 'similar', 'specification', 'oneplus', 'oxygeno', 'operating', 'system', 'price', 'factor'], ['offline', 'music', 'player', 'facility', 'next', 'update', 'goodwill'], ['flagship', 'first', 'time', 'delighted', 'first', 'oneplus', 'device', 'review', 'month', 'usageprosbattery', 'life', 'day', 'normal', 'usage', 'gamingcharging', 'time', 'excellent', 'screen', 'great', 'sunlight', 'adaptive', 'brightness', 'crazy', 'fast', 'processor', 'load', 'fast', 'camera', 'quality', 'great', 'highlight', 'low', 'light', 'excellent', 'color', 'reproduction', 'normal', 'lighting', 'quiet', 'nervous', 'long', 'time', 'miui', 'many', 'con', 'essential', 'feature', 'pricingcon', 'ir', 'blaster', 'r', 'big', 'disappointment', 'big', 'disappointmentthey', 'phone', 'form', 'factor', 'slim', 'big', 'issuethe', 'phone', 'heavy', 'due', 'large', 'screeneven', 'large', 'hand', 'bad', 'casing', 'jean', 'pocket', 'wireless', 'flagship', 'great', 'deal', 'configuration', 'sturdy', 'buildit', 'last', 'target', 'life', 'next', 'year', 'oneplus'], ['video', 'player', 'videoplaymutecurrent', 'time', 'duration', 'stream', 'type', 'liveseek', 'time', 'xplayback', 'ratechapterschaptersdescriptionsdescription', 'selectedcaptionscaption', 'selectedaudio', 'modal', 'fast', 'charging', 'capability', 'phone', 'great', 'sot', 'good', 'bright', 'color', 'screen', 'camera', 'appreciative', 'portrait', 'great', 'option', 'good', 'camera', 'generic', 'well', 'flagship', 'phone', 'way', 'time', 'pixel', 'iphone', 'well', 'bet', 'price', 'camera', 'concern', 'rest', 'fast', 'capability', 'peace', 'device'], ['highlightsgood', 'design', 'next', 'level', 'feelsuper', 'qualitygreat', 'distribution', 'weightdisplay', 'super', 'little', 'glare', 'camerasspeaker', 'fingerprint', 'sensor', 'real', 'bigdealconsmemory', 'bad', 'selfie', 'super', 'feature', 'lessbecause', 'bad', 'filemangerno', 'dual', 'app', 'option', 'app', 'appno', 'calender', 'music', 'playerno', 'word', 'etcacessbility', 'option', 'issue', 'youtube', 'short', 'less', 'colletion', 'free', 'wallpaper', 'theme', 'font', 'good', 'feature', 'rich', 'ui', 'bloat', 'ware', 'disappointed', 'oxygenostransfer', 'speed', 'slow', 'type', 'ip', 'charge'], ['medium', 'pro', 'back', 'camera', 'powerful', 'sure', 'great', 'quick', 'charging', 'min', 'sot', 'hrs', 'beautiful', 'vivid', 'display', 'design', 'awesome', 'call', 'quality', 'audio', 'perfectcon', 'front', 'camera', 'ordinary', 'good', 'portrait', 'performance', 'heating', 'issue', 'timenot', 'ip', 'minor', 'bug', 'software', 'issue', 'screen', 'refresh', 'rate', 'screen', 'icon', 'word', 'nice', 'op', 'issue', 'otaor', 'spend', 'ip'], ['product', 'lot', 'hesitation', 'last', 'year', 'product', 'awesome', 'rounder', 'phone', 'op', 'eye', 'friendly', 'cherry', 'top', 'dolby', 'vision', 'support', 'multimedia', 'consumption', 'op', 'camera', 'score', 'op', 'bag', 'front', 'p', 'battery', 'op', 'clear', 'winner', 'daily', 'driver', 'support', 'recharge', 'recharge', 'minute', 'battery', 'performance', 'top', 'notch', 'op', 'op', 'clear', 'winner', 'op', 'bag', 'ui', 'value', 'money', 'op', 'reception', 'op', 'quality', 'clear', 'outdoor', 'condition', 'speaker', 'loud', 'clear', 'immersive', 'speaker', 'system', 'ip', 'rating', 'loss', 'charger', 'box', 'haptic', 'feedback', 'op', 'clear', 'advantageconclusion', 'first', 'product', 'oneplus', 'planning', 'new', 'phone', 'budget', 'reliable', 'phone', 'ram', 'variant', 'ufs', 'secure', 'performance', 'year', 'atleastdirect', 'competitor', 'op', 'pixel', 'user', 'pixel', 'iphone', 'compromise', 'telephoto', 'lens', 'speed', 'feature', 'useful', 'outdoor', 'clicking', 'portrait', 'dslr', 'level'], ['phone', 'day', 'return', 'policy', 'return', 'service', 'centre', 'problem', 'last', 'day', 'fine', 'good', 'service', 'provider', 'online', 'replacement', 'day', 'day', 'order', 'order', 'electronic', 'shop', 'village', 'worthy', 'order', 'costly', 'item'], ['lot', 'problem', 'green', 'line', 'issue'], ['camera', 'quality', 'good'], ['premium', 'flagship', 'phone', 'premium', 'phone', 'late', 'processor', 'tech', 'value', 'beast'], ['package', 'product', 'sim', 'card', 'removal', 'pin', 'item', 'box'], ['phone', 'quality', 'good', 'price', 'worthyflagship', 'killer', 'amazon', 'delivery', 'service', 'seller', 'city', 'amazon', 'delivery', 'day', 'order', 'delivery', 'person', 'delivery'], ['awesome', 'good', 'camera', 'fast', 'quick', 'overall', 'good', 'flagship', 'smartphone', 'price', 'range'], ['phone', 'high', 'value', 'money', 'course', 'camera', 'good', 'iphonesamsung', 'comparable', 'issue', 'minor', 'ui', 'bug', 'late', 'software', 'update', 'processor', 'excellent', 'screen', 'good', 'well', 'iphone', 'battery', 'life', 'average', 'charger', 'superb'], ['last', 'year', 'issue', 'normal', 'software', 'bug'], ['oneplus', 'mobile', 'year', 'problem', 'old', 'phone', 'last', 'phone', 'oneplus', 'good', 'choose', 'oneplus', 'else', 'phone', 'satisfied', 'phone', 'fordisplayperformancebattery', 'omg', 'min', 'speaker', 'awesome', 'surround', 'sound', 'full', 'volume', 'speaker', 'goodcamera', 'goodreliable', 'durable', 'many', 'year', 'experience', 'oneplus', 'mobile', 'year', 'myth', 'phone', 'reliable', 'opinion', 'disappointed', 'decision'], ['battery', 'life', 'speed', 'good', 'performance', 'good', 'read', 'speed', 'high', 'display', 'quality', 'amazingthe', 'drawback', 'camera', 'good'], ['mobile', 'amazon', 'gifted', 'friend', 'happy', 'issue', 'switch', 'day', 'delivery', 'smooth', 'heating', 'issue', 'camera', 'quality', 'performance', 'good', 'app', 'fast', 'keypad', 'smooth', 'overall', 'good', 'mobile', 'worth', 'love', 'well', 'mobile', 'great'], ['review', 'year', 'good', 'performance', 'great', 'experience', 'lag', 'amazing', 'display', 'sound', 'quality', 'microphone', 'installation', 'security', 'update', 'calendar', 'meeting', 'calendar', 'smart', 'charging', 'phone', 'stop', 'stop', 'late', 'night', 'hour', 'day', 'camera', 'weird', 'photo', 'room', 'indoor', 'lighting', 'normal', 'photo', 'mode', 'kind', 'photo', 'light', 'balance', 'kind', 'weird', 'pop', 'aura', 'body', 'yellowish', 'tone', 'good'], ['overall', 'great', 'phone', 'something', 'frustrate', 'user', 'phone', 'touchresponse', 'bug', 'close', 'notification', 'open', 'app', 'drawer', 'left', 'right', 'swipe', 'delete', 'buttonkeeping', 'mind', 'screen', 'tall', 'response', 'touch', 'gesture', 'hand', 'usethe', 'whole', 'reason', 'new', 'phone', 'old', 'phone', 'bug', 'stuck', 'new', 'phone', 'issue', 'hype', 'thrill', 'excitement', 'last', 'patch', 'issue', 'pinch', 'zoom', 'pinch', 'widget', 'annoying', 'matter', 'ooofffffone'], ['avid', 'tech', 'enthusiast', 'hand', 'new', 'oneplus', 'g', 'design', 'phone', 'sleek', 'modern', 'large', 'inch', 'display', 'streaming', 'video', 'social', 'medium', 'joy', 'refresh', 'rate', 'smooth', 'seamless', 'performancebut', 'impressed', 'camera', 'oneplus', 'rear', 'camera', 'whopping', 'primary', 'sensor', 'powerful', 'camera', 'setup', 'market', 'photo', 'phone', 'stunningthe', 'battery', 'life', 'lasting', 'day', 'heavy', 'use', 'fast', 'feature', 'mean', 'full', 'power', 'time', 'g', 'capability', 'phone', 'ready', 'nextoverall', 'oneplus', 'g', 'market', 'new', 'phone', 'powerful', 'stylish', 'device', 'sure', 'impressin', 'term', 'performance', 'true', 'powerhouse', 'phone', 'capable', 'task', 'app', 'breeze', 'gaming', 'smooth', 'responsivethe', 'g', 'outstanding', 'phone', 'front', 'market', 'new', 'smartphone', 'good', 'design', 'performance', 'camera', 'technology', 'true', 'masterpiece', 'tech', 'enthusiast'], ['long', 'time', 'observation', 'lot', 'basic', 'layout', 'many', 'gesture', 'work', 'workprofile', 'vpn', 'time', 'access', 'company', 'mail', 'silent', 'notification', 'vpn', 'notification', 'quiet', 'annoying', 'notification', 'disabled', 'call', 'quality', 'good', 'ear', 'speaker', 'low', 'volume', 'reason', 'late', 'headphone', 'plug', 'wired', 'type', 'c', 'headphone', 'connection', 'annoying', 'thing', 'time', 'amazon', 'app', 'freeze', 'restart', 'request', 'basic', 'clean', 'much', 'change'], ['amazing', 'battery', 'minimum', 'hour', 'light', 'usage', 'lat', 'great', 'phone', 'quick', 'lag', 'good', 'option', 'customisationcamera', 'amazing', 'pre', 'filter', 'picture', 'time', 'photo', 'mean', 'intensity', 'color', 'good', 'buy'], ['oneplus', 'last', 'year', 'phone', 'fine', 'aspect', 'year', 'battery', 'major', 'pain', 'charge', 'time', 'day', 'time', 'half', 'hour', 'oneplus', 'charger', 'red', 'cable', 'satisfied', 'oneplus', 'aspect', 'charger', 'minute', 'hour', 'performance'], ['month', 'usagepron', 'display', 'quality', 'top', 'notch', 'good', 'movie', 'loversbattery', 'life', 'main', 'advantage', 'last', 'long', 'hour', 'screen', 'camera', 'quality', 'click', 'good', 'photo', 'video', 'take', 'min', 'fast', 'haptic', 'feedback', 'beast', 'phone', 'match', 'strength', 'op', 'speaker', 'top', 'notch', 'decent', 'performancecon', 'freezing', 'time', 'memc', 'chip', 'previous', 'device', 'high', 'phone', 'heat', 'heating', 'management', 'bug', 'application', 'whatsapp', 'photo', 'visible', 'put', 'story', 'long', 'time', 'hope', 'day', 'oneplus', 'well', 'software', 'update'], ['op', 'beast', 'battery', 'phone', 'amazon', 'extra', 'replacement', 'phone', 'yah', 'op', 'frank', 'op', 'fan', 'boy', 'beast', 'chip', 'phone', 'beast', 'camera', 'good', 'front', 'cam', 'front', 'cam', 'boring', 'good', 'thank', 'amazon'], ['good', 'exchange', 'value', 'phonebattery', 'backup', 'nice', 'nice', 'display', 'great', 'camerareview', 'monthsi', 'sharing', 'pro', 'con', 'issue', 'phone', 'front', 'camera', 'bad', 'price', 'point', 'camera', 'unable', 'balance', 'light', 'backgrounda', 'whitish', 'picture', 'op', 'r', 'issue', 'phone', 'clean', 'front', 'camera', 'clear', 'issue', 'battry', 'backup', 'daily', 'use', 'screen', 'time', 'avarage', 'hr', 'battery', 'full', 'day', 'worry', 'last', 'minute', 'phone', 'charge', 'office', 'charge', 'green', 'line', 'software', 'security', 'update', 'monthlyjust', 'phone', 'dryye', 'bit', 'rainfall', 'splashing', 'harm', 'phone', 'phone', 'dry', 'use', 'screen', 'protector', 'flim', 'protection', 'use', 'phone', 'stuck', 'volumepower', 'issue', 'service', 'centre', 'month', 'coz', 'tempared', 'glass', 'uv', 'light', 'gluaside', 'lil', 'bit', 'issue', 'phone'], ['top', 'line', 'spec', 'flagship', 'device', 'worthy', 'price', 'device', 'good', 'performance', 'expectationsissue', 'excessive', 'battery', 'drain', 'sot', 'max', 'hour', 'optimization', 'update', 'year', 'old', 'device', 'long', 'week', 'old', 'oneplus', 'disappointing', 'battery', 'oxygen', 'lot', 'experience', 'oneplus', 'flagship', 'fan', 'sale', 'service', 'good', 'none', 'case', 'case', 'battery', 'drain', 'replacement', 'refund', 'camera', 'decent', 'worth', 'k', 'fingerprint', 'sensor', 'time', 'great', 'work', 'unlock'], ['performance', 'lag', 'week', 'face', 'unlock', 'touch', 'unlock', 'fast', 'iphone', 'many', 'application', 'phone', 'break', 'sweat', 'new', 'processor', 'good', 'job', 'practical', 'gb', 'ramsecurity', 'lot', 'security', 'feature', 'phone', 'face', 'unlock', 'pattern', 'password', 'number', 'fingerprintscreen', 'bright', 'screen', 'little', 'ok', 'curved', 'screen', 'good', 'lookcamera', 'picture', 'quality', 'back', 'camera', 'decent', 'drawback', 'overexpose', 'photo', 'time', 'white', 'balance', 'photo', 'front', 'camera', 'telephoto', 'macro', 'decent', 'job', 'front', 'camera', 'decent', 'picture', 'photo', 'patchy', 'excess', 'sharpness', 'low', 'light', 'mode', 'video', 'decent', 'qualityconnectivity', 'great', 'apparent', 'lag', 'network', 'ooklabattery', 'battery', 'backup', 'decent', 'phone', 'last', 'day', 'moderate', 'new', 'processor', 'fast', 'phone', 'heat', 'overuse', 'previous', 'oneplus', 'w', 'charger', 'good', 'charge', 'full', 'phone', 'min', 'practical', 'scenario', 'phonebuild', 'phone', 'little', 'bulky', 'side', 'feeling', 'disappear', 'phone', 'sturdy', 'look', 'good', 'handoverall', 'good', 'purchase'], ['overall', 'good', 'phone', 'decent', 'look', 'hand', 'bulkycamera', 'good', 'heptic', 'feedback', 'good'], ['onepluse', 'gaming'], ['good', 'phone', 'price'], ['delivery', 'day', 'good', 'camera', 'upto', 'mark', 'simple', 'classy', 'hold', 'phone', 'thing', 'portrait', 'mode', 'background', 'image', 'video', 'recording', 'strange', 'flagship', 'phone', 'silent', 'vibrate', 'phone', 'slider', 'right', 'hand', 'side', 'mah', 'battery', 'basic', 'app'], ['big', 'upgrade', 'point', 'awesome', 'improvement', 'flagship', 'killer', 'awesomebattery', 'performance', 'outstandingheptic', 'speaker', 'need', 'update', 'flagship', 'portrait', 'lense', 'sharp', 'good', 'click', 'sharp', 'pic', 'main', 'enough', 'light', 'warm', 'color', 'shift', 'sensor', 'pic', 'low', 'light', 'performance', 'main', 'good', 'good', 'low', 'light', 'performance', 'portrait', 'lense', 'betteroverall', 'camera', 'hardware', 'flagship', 'killer', 'mark', 'compete', 'camera', 'phone', 'future', 'bug', 'app', 'medium', 'playing', 'backgroundwill', 'update', 'review', 'new', 'update'], ['super', 'mobile', 'premium', 'quality', 'fast', 'dslr', 'rear', 'camera', 'camera', 'optimisation', 'software', 'update', 'cal', 'quality', 'super', 'dolby', 'atmo', 'good', 'g', 'internet', 'super', 'speed', 'mobile', 'doubt', 'pakka', 'flagship'], ['good', 'phonebeen', 'month', 'great', 'smooth', 'user', 'interface', 'fast', 'camera', 'fantastic'], ['quality', 'phone', 'display', 'buttery', 'great', 'phone'], ['oneplus', 'series', 'usual', 'op', 'top', 'line', 'hardware', 'phone', 'old', 'reputation', 'lot', 'doprosgreat', 'camera', 'front', 'back', 'camera', 'nice', 'photo', 'happy', 'macro', 'photosbattery', 'life', 'good', 'last', 'full', 'day', 'sot', 'hrs', 'usage', 'use', 'office', 'email', 'chat', 'medium', 'sup', 'fastg', 'reception', 'great', 'mbps', 'city', 'feedback', 'hepatic', 'feedback', 'great', 'phoneconsi', 'serious', 'concern', 'software', 'old', 'oxygen', 'issuesthe', 'refresh', 'rate', 'visible', 'scrolling', 'gallery', 'app', 'tube', 'amazon', 'app', 'tube', 'page', 'stuck', 'sometimethe', 'app', 'drawer', 'issue', 'time', 'first', 'scroll', 'great', 'lag', 'app', 'rami', 'wifi', 'strong', 'happen', 'automaticallyin', 'camera', 'usage', 'bit', 'min', 'phone', 'bit', 'happy', 'top', 'line', 'hardware', 'last', 'hope', 'oneplus', 'fix', 'software', 'issue', 'possible'], ['perfect', 'touch', 'quality', 'battery', 'good', 'feature', 'appearance', 'lovely'], ['camera', 'telephoto', 'decentfront', 'camera', 'p', 'fps', 'bad', 'front', 'camera', 'video', 'camera', 'sensor', 'old', 'imx', 'battery', 'life', 'good', 'fhd', 'resolution', 'decent', 'qhd', 'resolutionnot', 'noticeable', 'difference', 'resolution', 'resolutionrefresh', 'rate', 'app', 'fps', 'ookla', 'app', 'software', 'speed', 'fast', 'practical', 'testfeel', 'handspeaker', 'loud', 'depth', 'sound'], ['month', 'reviewedcamera', 'superfingerprint', 'sensor', 'superbattery', 'life', 'awesomeusability', 'good', 'useupdate', 'goodoverload', 'app', 'usage', 'goodwhile', 'phone', 'hot', 'min', 'battery', 'message', 'app', 'padding', 'read', 'message'], ['device', 'good', 'starhalf', 'star', 'software', 'limitation', 'camera', 'selfie', 'turn', 'show', 'option', 'permanent', 'hotspot', 'warning', 'annoying', 'option', 'free', 'variant', 'oxygen', 'issue', 'definitelyr', 'everything', 'good', 'pay', 'free', 'z', 'amazing', 'devicefinal', 'verdict', 'budget', 'phone'], ['phone', 'last', 'phone', 'phone', 'phone', 'several', 'option', 'mind', 'pro', 'iqoo', 'wireless', 'headphone', 'value', 'money', 'ultra', 'iphone', 'great', 'phone', 'none', 'thing', 'multitaskingdisplay', 'word', 'methe', 'security', 'update', 'extrarefresh', 'rate', 'gaminggreat', 'battery', 'backupvery', 'normal', 'battery', 'issue', 'file', 'manager', 'open', 'reason', 'time', 'glitch', 'wireless', 'headphone', 'jackwill', 'lot', 'money', 'competition', 'doubt', 'advice', 'right', 'decision'], ['awesome', 'panel', 'displaybattery', 'last', 'day', 'minscamera', 'good', 'ultra', 'iphone', 'compare', 'budget', 'smartphone', 'good', 'other', 'video', 'quality', 'matt', 'finish', 'metal', 'body', 'haptic', 'feedback', 'good', 'alert', 'slider', 'oxygen', 'great', 'smooth', 'oxygen', 'layer', 'extra', 'app', 'green', 'pink', 'line', 'issue', 'talk', 'customer', 'care', 'phone', 'take', 'video', 'update', 'update', 'issue', 'display', 'free'], ['pic', 'natural', 'photo', 'iphone', 'front', 'camera', 'poor', 'regret'], ['iphone', 'happy', 'feature', 'present', 'iphone', 'pro', 'model', 'lakh', 'good', 'thing', 'battery', 'speed', 'min', 'full', 'charge', 'day', 'screen', 'resolution', 'adaptive', 'refresh', 'rate', 'camera', 'fan', 'great', 'night', 'shot', 'year', 'year', 'security', 'wifi', 'update', 'good', 'thing', 'company', 'love', 'mobile', 'haptic', 'next', 'level', 'support', 'dolby', 'vision', 'dolby', 'atmo', 'overall', 'good', 'phone'], ['good', 'well', 'yr', 'old', 'phonecamera', 'good', 'iphone', 'good', 'good', 'phone', 'benchmark', 'flagship', 'phone'], ['medium', 'excellent', 'device', 'priceim', 'stubby', 'review', 'log', 'report', 'bad', 'deviceuntil', 'phone', 'great', 'old', 'oneplus', 'yore', 'good', 'part', 'good', 'mask', 'weight', 'size', 'device', 'wellit', 'joy', 'type', 'fabulous', 'hapticsthe', 'screen', 'battery', 'life', 'qhd', 'heat', 'initial', 'setup', 'heatup', 'normal', 'usage', 'warmish', 'session', 'hot', 'warmishwill', 'report', 'specific', 'day', 'device', 'today'], ['first', 'thing', 'oxygen', 'bloatware', 'clean', 'experience', 'superfast', 'way', 'superior', 'excellent', 'camera', 'setup', 'good', 'colour', 'video', 'fast', 'charger', 'fast', 'mean', 'rapid', 'charging', 'max', 'speed', 'useful', 'multi', 'tasking', 'king', 'app', 'background', 'lag', 'good', 'sound', 'output', 'overall', 'light', 'phone', 'ergonomic', 'excellent', 'absolute', 'good', 'haptic', 'battery', 'life', 'okay', 'hour', 'screen', 'timeoneplus', 'good', 'effort', 'disastrous', 'year', 'oneplus', 'right', 'track'], ['update', 'new', 'piece', 'replacement', 'oneplus', 'service', 'center', 'day', 'flagship', 'replacement', 'hoursanyway', 'customer', 'service', 'center', 'personnel', 'courteous', 'helpfulthe', 'performance', 'fantastic', 'initial', 'impression', 'goodearli', 'updatereceived', 'defective', 'piece', 'amazon', 'past', 'day', 'replacementthere', 'upside', 'buying', 'amazon', 'local', 'store', 'phone', 'new', 'phone', 'bad', 'dust', 'screen', 'protectorlook', 'quality', 'check', 'day', 'product'], ['money', 'device', 'perfect', 'big', 'photography', 'shot', 'good', 'usedafter', 'monthsi', 'right', 'decision', 'opgreat', 'free', 'performancewonderful', 'battery', 'backup', 'hour', 'heavy', 'usage', 'time', 'content', 'consumption', 'youtube', 'video', 'streaming', 'movie', 'viewingcood', 'enough', 'camera', 'useperfect', 'display', 'qualitycharge', 'phone', 'minute', 'wireless', 'capacity', 'old', 'opproin', 'good', 'phone', 'buy'], ['edge', 'curved', 'screen', 'good', 'responsive', 'powered', 'oxygen', 'new', 'arsenal', 'cool', 'feature', 'gesture', 'op', 'basic', 'screen', 'guard', 'package', 'phone'], ['many', 'photo', 'photo', 'quality', 'dslr', 'photo'], ['oneplus', 'huge', 'difference', 'planning', 'switch', 'iphone', 'phone', 'good', 'oneplus', 'bang', 'flawless', 'beautiful', 'design', 'proscamera', 'awesome', 'hasselbladprocessor', 'powerfuldisplay', 'confor', 'heavy', 'phone', 'use', 'cover', 'protection', 'fast', 'processor', 'beautiful', 'design', 'awesome', 'camera', 'setup'], ['good', 'device', 'smooth', 'user', 'experience'], ['phone', 'year', 'backside', 'phone', 'glass', 'phone', 'drop', 'glass', 'backcover', 'service', 'center', 'change', 'inr', 'month', 'replacement', 'fulfill', 'basic', 'requirement', 'happy', 'feature'], ['phone', 'multi', 'task', 'heavy', 'office', 'usage', 'online', 'movieslive', 'cricket', 'last', 'couple', 'day', 'active', 'streaming', 'ipl', 'match', 'phone', 'great', 'processor', 'high', 'memory', 'heat', 'heating', 'issue', 'company', 'seller', 'great', 'job', 'delivery', 'packaging'], ['super', 'model', 'much'], ['good', 'phone', 'price', 'software', 'update'], ['good', 'flagship', 'long', 'timedisplay', 'quality', 'iphone', 'good', 'android', 'specification', 'flagship', 'price', 'pointoverall', 'phone', 'design', 'good', 'slippery', 'cover', 'uncomfortable'], ['pro', 'good', 'camera', 'display', 'sturdy', 'design', 'smooth', 'operation', 'excellent', 'battery', 'fast', 'chargingcon', 'front', 'camera', 'notch', 'center', 'selfi', 'eye'], ['thing', 'wireless', 'charging'], ['version', 'phone', 'smooth', 'display', 'bright', 'enough', 'outdoors', 'battery', 'life', 'good', 'last', 'day', 'charge', 'typical', 'scenario', 'good', 'thoroughlynegative', 'speed', 'slow', 'old', 'oneplus', 'speed', 'speed', 'app', 'app', 'drawer', 'slow', 'annoying', 'notification', 'bit', 'easy', 'minimum', 'brightness', 'bright'], ['performance', 'display', 'touch', 'snappy', 'touchs', 'delay', 'matter', 'heavy', 'gaming', 'normallydisplay', 'display', 'use', 'colour', 'content', 'text', 'crisp', 'clear', 'brightness', 'sound', 'loudspeaker', 'loud', 'bassy', 'high', 'volume', 'phone', 'camera', 'well', 'last', 'phone', 'probuild', 'quality', 'quality', 'good', 'premium', 'device', 'charger', 'omg', 'charge', 'nap', 'video', 'phone', 'chargedbattery', 'battery', 'normal', 'usage', 'hour', 'continuous', 'gaming', 'game', 'setting', 'resolution'], ['pro', 'year', 'amazing', 'feeling', 'much', 'difference', 'phone', 'size', 'camera', 'performance', 'wise', 'performance', 'issue', 'parallel', 'app', 'rarelyjust', 'change', 'old', 'phone', 'screen', 'able', 'phone', 'next', 'year', 'full', 'formatting', 'time', 'good', 'investmentfun', 'part', 'front', 'popup', 'camera', 'available', 'used', 'cool', 'disappointed', 'kid', 'non', 'one', 'goodgesture', 'old', 'good', 'new', 'one', 'oxygen', 'crop'], ['phone', 'good', 'heat', 'normal', 'usage', 'front', 'selfie', 'camera', 'photo', 'hdr', 'video', 'full', 'brightness'], ['mobile', 'great', 'phone', 'chip', 'performancecamera', 'mark', 'hassalbald', 'giving', 'feel', 'flagship', 'mobilenotification', 'dropdown', 'working', 'sometimesfingerprint', 'sometime', 'manual', 'pin', 'flagship', 'speed', 'accuracyi', 'bad', 'experience', 'amazon', 'delivery', 'delivery', 'boy', 'delivery', 'boy', 'fake', 'call', 'day', 'delivery', 'post', 'delivery', 'date', 'amazon', 'delivery', 'delivery', 'boy', 'behaviour'], ['nice'], ['fine', 'new', 'disabled', 'dialer', 'dialler', 'originalwork', 'fine', 'contact', 'message', 'app', 'phone', 'good', 'photo', 'well', 'press', 'power', 'button', 'restart', 'shutoff', 'reset', 'power', 'botton', 'option', 'additional', 'setting', 'purposelat', 'update', 'old', 'motherboardmain', 'board', 'failure', 'datum', 'irretrievable', 'year', 'old', 'quality', 'phone', 'general', 'company', 'successful', 'first', 'cost', 'cutting', 'production', 'customer', 'ride', 'datum', 'monthly', 'basis', 'rating'], ['couple', 'bug', 'daily', 'usage', 'outstanding', 'phone', 'speed', 'insane', 'battery', 'life', 'camera', 'decent', 'clicking', 'picture', 'front', 'camera', 'capability', 'able', 'video', 'sound', 'loud', 'crisp', 'ui', 'customisable', 'way', 'premium', 'phone', 'noticeable', 'device'], ['great', 'camera', 'good', 'superb', 'speed', 'battery', 'drain', 'happy', 'phone'], ['pro', 'good', 'battery', 'life', 'half', 'day', 'good', 'screen', 'sound', 'quality', 'camera', 'decent', 'overall', 'good', 'performance', 'nice', 'haptic', 'feedback', 'good', 'hand', 'feelcon', 'oneplus', 'mobile', 'thing', 'available', 'oneplus', 'shelf', 'swipe', 'right', 'ram', 'management', 'high', 'gb', 'ram'], ['first', 'phone', 'beast', 'aspect', 'screen', 'camera', 'battery', 'everything', 'top', 'notchno', 'software', 'issue', 'forget', 'day', 'heavy', 'usercurved', 'screen', 'beautifulr', 'positive', 'issue', 'issue', 'global', 'oneplus', 'user', 'issue', 'specific', 'model', 'certain', 'app', 'browser', 'momentary', 'second', 'phone', 'battery', 'temperature', 'little', 'high', 'side', 'hand', 'deg', 'high', 'phone', 'ambient', 'temperaturerest', 'fabulous', 'device', 'price', 'range'], ['good', 'device', 'price', 'practical', 'reason', 'anti', 'reflective', 'display', 'glass', 'protector', 'advantage', 'bright', 'op', 'decent', 'price', 'score', 'fast', 'ultrasonic', 'fingerprint', 'sensor', 'glass', 'protector', 'hit', 'contrary', 'op', 'optical', 'fingerprint', 'sensor', 'unlock', 'op', 'battery', 'segment', 'good', 'op', 'clear', 'winner', 'term', 'fast', 'recharge', 'sot', 'op', 'stop', 'option', 'well', 'camera', 'footage', 'well', 'op', 'op', 'bad', 'allit', 'good', 'photograph', 'op', 'sultra', 'term', 'scenerio', 'version', 'feature', 'gemini', 'ultra', 'upcoming', 'ai', 'feature', 'hand', 'comfort', 'price', 'op', 'well', 'choice'], ['oneplus', 'review', 'powerhouse', 'oneplus', 'new', 'benchmark', 'impressive', 'specification', 'featuresprosample', 'memory', 'internal', 'storage', 'oneplus', 'smooth', 'ample', 'space', 'file', 'appspowerful', 'processor', 'chipset', 'device', 'blazingfast', 'performance', 'seamless', 'user', 'experienceexceptional', 'camera', 'system', 'triple', 'camera', 'setup', 'main', 'sensor', 'periscope', 'lens', 'stunning', 'photo', 'video', 'device', 'performance', 'thank', 'powerful', 'hardware', 'software', 'oneplus', 'snappy', 'responsiveness', 'lagfree', 'operationadvanced', 'network', 'connectivity', 'wide', 'range', 'network', 'technology', 'lightningfast', 'internet', 'speed', 'reliable', 'connectivity', 'goadditional', 'featuresimmersive', 'display', 'inch', 'display', 'dolby', 'vision', 'support', 'vibrant', 'color', 'high', 'contrast', 'immersive', 'experiencepremium', 'glass', 'front', 'aluminum', 'frame', 'gorilla', 'glass', 'sleek', 'durable', 'designversatile', 'option', 'wireless', 'wireless', 'charging', 'oneplus', 'convenient', 'solutionsenhanced', 'audio', 'device', 'stereo', 'speaker', 'audio', 'support', 'immersive', 'sound', 'experience', 'music', 'movie', 'gamingcon', 'ip', 'protection', 'bit', 'bulky', 'deviceoverall', 'flagship', 'smartphone', 'aspect', 'topnotch', 'performance', 'premium', 'design', 'power', 'user', 'photography', 'enthusiast', 'multimedia', 'lover', 'device', 'sure'], ['yr', 'hand', 'proper', 'flagship', 'awesome', 'know', 'display', 'beautiful', 'resolution', 'good', 'type', 'content', 'great', 'basic', 'whatsapp', 'great', 'itbattery', 'mah', 'monsterous', 'user', 'day', 'proper', 'flagship', 'setup', 'apple', 'impressed', 'sample', 'pic', 'xxxxx', 'word', 'excellent', 'oxygen', 'effective', 'store', 'flys', 'speaker', 'haptic', 'negative', 'fingerprint', 'scanner', 'optical', 'ultrasonic', 'time', 'usageoveralll', 'great', 'buy', 'pixel', 'series', 'apple', 'phone', 'regret', 'bit', 'cheer'], ['oneplus', 'fan', 'oneplus', 'single', 'version', 'launch', 'time', 'oneplus', 'version', 'great', 'phone', 'great', 'feature', 'oneplus', 'pro', 'battery', 'backup', 'awesome', 'loaded', 'app', 'hr', 'backup', 'heavy', 'multi', 'task', 'app', 'crisp', 'lag', 'allphone', 'heat', 'long', 'hour', 'bit', 'warmth', 'rapid', 'charging', 'charge', 'clear', 'good', 'volumeir', 'blaster', 'charmcon', 'camera', 'clarity', 'low', 'light', 'bright', 'light', 'daylight', 'photo', 'awesomevolume', 'button', 'bit', 'concern', 'button', 'right', 'power', 'buttoncant', 'hand', 'bulky', 'unsafe', 'camera', 'portion', 'bit', 'big'], ['phone', 'touchscreen', 'problematic', 'right', 'beginningafter', 'customer', 'service', 'time', 'replacement', 'agent', 'span', 'day', 'problem', 'false', 'hope', 'refunding', 'amount', 'poor', 'service', 'feedback', 'day', 'radio', 'silence', 'favour', 'gadget', 'least'], ['phone', 'hesitant', 'change', 'trust', 'real', 'flagship', 'killer', 'battery', 'backup', 'user', 'good', 'area', 'improvement', 'ip', 'rating', 'rest', 'good', 'comparison', 'phone', 'competition', 'aspect'], ['camera', 'display', 'good', 'enoughos', 'little', 'slow', 'opening', 'phonefast'], ['lot', 'outsidevideo', 'shift', 'warm', 'cool', 'tone', 'video', 'call', 'annoyinghad', 'bloatware', 'price', 'rangenot', 'compact', 'phone', 'guess', 'compact', 'phone', 'deadoverall', 'camera', 'quality', 'goodperformance', 'notch', 'gamer', 'last', 'yearsbattery', 'advertisedfast', 'charge', 'fastwifi', 'connection', 'quality', 'goodstop', 'con', 'charger', 'box', 'apple', 'good', 'curve', 'screen', 'option', 'money', 'ultra', 'half', 'price'], ['excellent', 'phone', 'great', 'battery', 'camera'], ['interested', 'public', 'school', 'system', 'profession', 'body', 'language', 'profession', 'link', 'body', 'language'], ['great', 'phone', 'foythe', 'price', 'point'], ['medium', 'good', 'camera', 'nice', 'battery', 'backup', 'superfastperformance', 'wise', 'phone', 'top', 'phone', 'heat', 'lowerfor', 'content', 'phone', 'immersive', 'experience', 'product', 'worth', 'money'], ['camera', 'lot', 'modesmooth', 'functionsnot', 'much', 'difference', 'camera', 'battery', 'feature', 'hold'], ['good', 'phone'], ['excellent'], ['mobile'], ['mobile', 'good', 'camera', 'light', 'patanormal', 'condition', 'exposure'], ['overall', 'good', 'phoneand', 'good', 'performance', 'money'], ['perfect', 'rounder', 'phone', 'cost', 'battery', 'life', 'outstanding', 'last', 'day', 'full', 'phone', 'much', 'social', 'medium', 'stuff', 'general', 'mobile', 'user', 'battery', 'outstanding', 'clean', 'version', 'colour', 'os', 'camera', 'quality', 'par', 'costly', 'flagship', 'camera', 'quality', 'less', 'true', 'life', 'image', 'well', 'phone'], ['good', 'phone', 'feature', 'markbut', 'battery', 'backup', 'little', 'betteroverall', 'phone', 'premium'], ['video', 'player', 'videoplaymutecurrent', 'time', 'duration', 'stream', 'type', 'liveseek', 'time', 'xplayback', 'ratechapterschaptersdescriptionsdescription', 'selectedcaptionscaption', 'selectedaudio', 'modal', 'money', 'powerful', 'processor', 'camera', 'battery', 'phone', 'battery', 'iphone', 'camera', 'audio', 'sound', 'quality', 'great', 'finetune', 'camera', 'picture', 'quality', 'audio', 'quality', 'standout', 'competition'], ['display', 'stunning', 'visual', 'gaming', 'smooth', 'experience', 'good', 'iphone'], ['display', 'sound', 'great', 'camera', 'day', 'great', 'match', 'true', 'coloursone', 'oxygen', 'great', 'update', 'happy', 'battery', 'performance', 'well'], ['value', 'money', 'flagship', 'mind', 'heavy', 'bulky', 'phone', 'pain', 'pocket', 'occasional', 'lag', 'smooth'], ['year', 'model', 'series', 'device', 'able', 'chnage', 'mind', 'time', 'awesome', 'camera', 'massive', 'battery', 'life', 'tough', 'competitor', 'ultra', 'pen', 'ok', 'lakh', 'use', 'satisfied', 'phone', 'massive', 'battery', 'watt', 'charger', 'nice', 'case', 'phone', 'screenguard', 'camera', 'well', 'ultra', 'tough', 'compitition', 'ultra', 'nice', 'liquid', 'feel', 'display', 'well', 'timecon', 'none', 'moment'], ['good', 'product', 'bestit', 'phone', 'camera', 'awesome', 'battery', 'speed', 'rs', 'credit', 'card'], ['phone', 'perfect', 'good', 'phonerecommend'], ['passionate', 'photography', 'depth', 'field', 'good', 'phone'], ['phone', 'month', 'whatsapp', 'stuck', 'workaround', 'whatsapp', 'stuck'], [], ['phone', 'last', 'phone', 'galaxy', 'note', 'real', 'good', 'phone', 'day', 'phone'], ['video', 'player', 'videoplaymutecurrent', 'time', 'duration', 'stream', 'type', 'liveseek', 'time', 'xplayback', 'ratechapterschaptersdescriptionsdescription', 'selectedcaptionscaption', 'selectedaudio', 'modal', 'window'], ['iphone', 'iphone', 'battery', 'backup', 'display', 'quality', 'topnotch', 'phonebattery', 'good', 'full', 'charge', 'minsdisplay', 'quality', 'nice', 'processor', 'camera', 'many', 'youtube', 'video', 'reviewer', 'camera', 'opinion', 'enough', 'image', 'wellit', 'x', 'master', 'mode', 'update', 'win', 'portrait', 'mode'], ['nice', 'wise'], ['fan', 'due', 'reliability', 'quality'], ['camera', 'speed', 'processor', 'display', 'resolution', 'sound', 'quality', 'ipit', 'fact', 'many', 'water', 'superb', 'mobile', 'worth', 'penny'], ['software', 'optimisation', 'good', 'good', 'processor', 'snap', 'phone', 'processor', 'well', 'performance'], ['camera', 'quality', 'superbno', 'heating', 'issue', 'magic', 'charge', 'approx', 'minutedisplay', 'smooth'], ['user', 'box', 'great', 'possession', 'quality', 'n', 'premium'], ['excellent', 'phone', 'amazing', 'camera', 'pricerange', 'available'], ['min', 'camera', 'quality', 'good', 'battery', 'good', 'value', 'money'], ['pro', 'comparison', 'change', 'crispy', 'display', 'camera', 'vivo', 'well', 'oneplus', 'update', 'good', 'phone', 'price', 'giving', 'price', 'great', 'deal', 'quality', 'musicdisplay', 'performance', 'par'], ['time', 'track', 'awesome', 'phone', 'great', 'hardware', 'time', 'surprised', 'good', 'camera', 'phone', 'great', 'work', 'oneplus'], ['oneplus', 'third', 'oneplus', 'phone', 'oneplus', 'oneplus', 'good', 'brand', 'trusta', 'speed', 'clarity', 'quality', 'good'], ['medium', 'flagship', 'killer', 'price', 'happy', 'see', 'price', 'available', 'good', 'exchange', 'everthing', 'good', 'concern', 'screen', 'turn', 'camera', 'good', 'interesting', 'battery', 'life', 'fantastic', 'fantastic', 'ip', 'phone'], ['upto', 'expectation', 'screen', 'unresponsive'], ['money'], ['flagship', 'killer', 'love', 'ultra', 'iphone', 'pro', 'category'], ['good', 'display', 'performance', 'vibration', 'motorgood', 'camera', 'featuresaverage', 'speaker', 'averagequality', 'wisecamera', 'design', 'hand', 'top', 'heavy', 'picture', 'camera', 'bad', 'redbattery', 'performance', 'good'], ['fun', 'use'], ['satisfied', 'decision', 'purchase', 'mobile'], ['people', 'buy', 'iphone', 'range', 'decision', 'way', 'well', 'iphone', 'max'], ['mobile'], ['display', 'curve', 'good'], ['oneplus', 'device', 'previous', 'oneplus', 'oneplus', 'r'], ['premium', 'price'], ['phone', 'awesome', 'love', 'photography', 'gaming'], ['good', 'oneplus', 'device', 'good', 'potrait', 'good'], ['fine'], ['camera', 'display', 'quality', 'good', 'happy', 'purchase'], ['rounder', 'sturdy', 'phone', 'good', 'class', 'camera', 'display', 'sound', 'work', 'wonder', 'lag'], ['good', 'mobilevery', 'clear', 'cameraprocessor', 'backup', 'good'], ['good', 'phone'], ['excellent'], [], ['amazing', 'camera', 'performance'], ['excellent'], ['best'], ['phone', 'good', 'phone', 'camera', 'failsif', 'cameraa', 'serious', 'heating', 'issue', 'battery', 'drain'], ['camera', 'bad', 'normal', 'budget', 'phone', 'photo', 'enhance', 'appvery', 'disappointed', 'telephoto', 'lens', 'work', 'money'], ['hardware', 'issue', 'जत', 'जस', 'cost', 'controlling', 'issue', 'आपक'], ['medium', 'screen', 'flicker', 'step', 'phone', 'screen', 'black'], ['display', 'quality', 'bad'], ['pic', 'quality', 'good'], ['red', 'dot', 'screen'], ['dead', 'pixel', 'oneplus', 'usual', 'bad', 'quality', 'product'], ['phone', 'day', 'phone', 'battery'], ['week', 'phone', 'loading', 'screenwhich', 'customer', 'care', 'notbut', 'op', 'window', 'open', 'phonebeside', 'many', 'minor', 'glitch', 'thank'], ['phone', 'working', 'photo', 'video', 'amazing', 'even', 'night', 'mode', 'phone'], ['audiophile', 'external', 'usb', 'glitch', 'lot', 'return', 'window', 'stuck'], ['phone', 'ram', 'price', 'equal', 'iphone', 'lagging', 'issue'], ['camera', 'quality', 'poor', 'quality', 'poor', 'vivo', 'x', 'good', 'phone'], ['medium'], ['phone', 'weird', 'huge', 'camera', 'lens', 'uncomfortable', 'hold', 'oxygeno', 'buggy', 'copy', 'oppos', 'lot', 'ghost', 'ridiculous', 'design', 'edge', 'reliable', 'phone', 'iphone', 'extra', 'amount', 'lot', 'cheap', 'alternative', 'review'], ['camera', 'great', 'zoom', 'sort', 'shaky', 'due', 'air', 'condition', 'man', 'good', 'switch', 'yellow', 'blue', 'screen', 'reading', 'condition', 'phone', 'middle', 'camera', 'worth', 'easy', 'use', 'ittook', 'day', 'good', 'connectivity', 'pretty', 'phone', 'battery', 'bit', 'fast', 'usual', 'stillit', 'good', 'battery', 'backup'], ['curve', 'side', 'screen', 'difficult', 'select', 'click', 'elselove', 'fast', 'charging', 'speedhow', 'long', 'battery', 'laststhe', 'price', 'iphonethe', 'camera', 'quality', 'many', 'feature', 'option', 'glad', 'early', 'phone', 'year', 'display', 'here'], ['op', 'camerab', 'processor', 'good', 'good', 'volume', 'op', 'favorite', 'phone'], ['thrilled', 'new', 'oneplus', 'build', 'quality', 'exceptional', 'premium', 'photography', 'capability', 'outstanding', 'moment', 'stunning', 'detail', 'battery', 'charge', 'superfast', 'busy', 'lifestyle', 'sleek', 'design', 'head', 'overall', 'topnotch', 'device', 'expectationsmust', 'buynit'], ['website', 'amazing', 'photo', 'great', 'performance', 'price', 'bit', 'low', 'good', 'phone'], ['performance', 'top', 'notch', 'display', 'good', 'bestcamera', 'good', 'typegaming', 'video', 'world', 'experience'], ['good', 'photo', 'quality', 'color', 'good', 'product'], ['lining', 'problem', 'support', 'good', 'bad', 'brandnever', 'purchase', 'oneplusnever', 'use', 'customer', 'service', 'problem'], ['performance', 'little', 'bit', 'heavy', 'ofcourse', 'big', 'battery', 'heavycamera', 'reason'], ['oneplus', 'phone', 'issue', 'monthsi', 'phonescamera', 'quality', 'daysreceiver'], ['oneplus', 'incredible', 'experience', 'sleek', 'modern', 'stunning', 'display', 'detail', 'life', 'performance', 'topnotch', 'thank', 'powerful', 'processor', 'ample', 'ram', 'making', 'breezeone', 'camera', 'system', 'oneplus', 'stunning', 'photo', 'video', 'condition', 'battery', 'life', 'impressive', 'full', 'day', 'heavy', 'usage', 'capability', 'clean', 'interface', 'useful', 'feature', 'overall', 'user', 'experience', 'connectivity', 'connected', 'blazing', 'speed', 'gooverall', 'oneplus', 'expectation', 'way', 'true', 'flagship', 'device', 'performance', 'design', 'innovation', 'market', 'new', 'smartphone', 'look', 'oneplus'], ['phone', 'wireless', 'feature', 'wireless', 'charging', 'safe', 'case', 'costly'], ['bad', 'phone', 'usedworst', 'issuesbattery', 'fastworst', 'front', 'cameraoverall', 'bad', 'phone'], [], ['good', 'product', 'month'], ['r', 'contenderthe', 'oneplus', 'r', 'strong', 'option', 'featurepacked', 'phone', 'competitive', 'price', 'here', 'breakdown', 'craft', 'reviewstrengthsdisplay', 'bright', 'vibrant', 'display', 'excellent', 'sharpness', 'angle', 'perfect', 'hdr', 'contentperformance', 'fast', 'thank', 'late', 'snapdragon', 'processor', 'gaming', 'easebattery', 'life', 'exceptional', 'battery', 'life', 'full', 'day', 'heavy', 'use', 'charging', 'refueling', 'breezesoftware', 'clean', 'userfriendly', 'oxygeno', 'smooth', 'experience', 'ton', 'customization', 'optionsvalue', 'flagshiplevel', 'specs', 'affordable', 'price', 'point', 'considerationcamera', 'good', 'daylight', 'lowlight', 'performance', 'video', 'capability', 'curved', 'display', 'lack', 'mediocre', 'water', 'resistance', 'rating', 'ip', 'usersoverallthe', 'oneplus', 'r', 'great', 'choice', 'user', 'performance', 'battery', 'life', 'clean', 'software', 'experience', 'live', 'average', 'camera', 'design', 'quirk', 'lot', 'phone', 'moneyhere', 'additional', 'tip', 'reviewmention', 'long', 'phoneshare', 'specific', 'example', 'experience', 'camera', 'battery', 'life', 'etcmention', 'accessory', 'phone', 'case', 'screen', 'protectorconclude', 'phone', 'good', 'fit', 'strength', 'weakness', 'wellrounded', 'review', 'potential', 'buyer', 'oneplus', 'r', 'right', 'phone'], ['wonderful', 'mobile', 'price', 'segment', 'r', 'good', 'class', 'heavy', 'battery', 'good', 'performance', 'heating', 'issue', 'amazing', 'display', 'good', 'phone', 'android', 'user', 'price', 'segment'], ['r', 'mixed', 'experience', 'standout', 'feature', 'significant', 'drawback', 'display', 'vibrant', 'color', 'crisp', 'resolution', 'battery', 'life', 'uninterrupted', 'usage', 'day', 'inclusion', 'alert', 'slider', 'convenience', 'speaker', 'impressive', 'sound', 'main', 'camera', 'highquality', 'image', 'moment', 'clarity', 'detail', 'camera', 'short', 'expectation', 'mediocre', 'result', 'speed', 'commendable', 'minimal', 'downtimeunfortunately', 'major', 'flaw', 'overall', 'microphone', 'call', 'quality', 'loudspeaker', 'recipient', 'difficulty', 'user', 'voice', 'recording', 'clarity', 'detracting', 'device', 'functionalityin', 'conclusion', 'r', 'several', 'commendable', 'feature', 'stellar', 'display', 'reliable', 'battery', 'life', 'presence', 'subpar', 'microphone', 'hamper', 'usability', 'potential', 'buyer', 'factor', 'purchase', 'decision'], ['oneplus', 'r', 'last', 'year', 'satisfied', 'brand', 'phone', 'redmi', 'idle', 'thought', 'brand', 'new', 'oneplus', 'r', 'delivery', 'bad', 'delivery', 'experience', 'due', 'foolish', 'delivery', 'guy', 'due', 'complain', 'customer', 'service', 'suitable', 'action', 'phone', 'day', 'premium', 'phone', 'great', 'display', 'fantastic', 'camera', 'megapixelsi', 'ram', 'variant', 'phone', 'satisfied', 'performance', 'watt', 'high', 'speed', 'issue', 'phone', 'heating', 'datum', 'r', 'much', 'thought', 'interested', 'category', 'premium', 'friend'], ['good', 'purchase', 'worth', 'fast', 'power', 'efficient', 'performance', 'indistinguishable', 'day', 'day', 'usage', 'unlikely', 'notice', 'difference', 'benchmark', 'specification', 'real', 'life', 'day', 'day', 'usage', 'difference', 'power', 'user', 'lot', 'application', 'phone', 'hour', 'day', 'chamber', 'device', 'excellent', 'temperature', 'game', 'duration', 'display', 'feature', 'resolution', 'low', 'noticeable', 'naked', 'eye', 'magnification', 'good', 'display', 'hdr', 'performance', 'different', 'experience', 'shot', 'camera', 'i', 'oneplus', 'experience', 'center', 'well', 'idea', 'note', 'nit', 'small', 'white', 'portion', 'display', 'sunlight', 'max', 'brightness', 'full', 'display', 'bright', 'direct', 'sunlight', 'battery', 'life', 'impressive', 'hour', 'sot', 'charger', 'min', 'display', 'hand', 'wet', 'smartphone', 'bezel', 'slim', 'chin', 'small', 'oneplus', 'equal', 'con', 'ill', 'wireless', 'telephoto', 'smooth', 'reliable', 'device', 'solid', 'performance', 'battery', 'life', 'decent', 'camera', 'display', 'experience', 'sure', 'camera', 'good', 'iphone', 'oneplus', 'r'], ['good', 'class', 'smooth', 'performance', 'good', 'performance', 'camera', 'pixel', 'good', 'mobile', 'battery', 'long', 'day', 'full'], ['big', 'fat', 'elephant', 'camera', 'bad', 'mediocre', 'average', 'badr', 'phone', 'amazing', 'smoothness', 'ui', 'style', 'setting', 'app', 'experience', 'whole', 'positive', 'app', 'backgroundi', 'whatsapp', 'default', 'wonder', 'app', 'memory', 'ram', 'vitathe', 'storage', 'speed', 'phone', 'mac', 'transfer', 'datum', 'daily', 'workhorse', 'office', 'app', 'background', 'outdoor', 'battery', 'high', 'selling', 'factor', 'charger', 'phone', 'min', 'charger', 'fast', 'support', 'chargerdisplay', 'bright', 'content', 'haptic', 'great', 'audio', 'quality', 'volume', 'awesome', 'i', 'color', 'option', 'white', 'variant', 'almond', 'pro', 'oneplus', 'future', 'non', 'obstructive', 'screen', 'pro', 'thin', 'bezel', 'screen', 'deed'], ['overall', 'good', 'sturdy', 'fast', 'phone', 'screen', 'quality', 'camera', 'good', 'front', 'camera', 'pathetic', 'sample', 'picture', 'place', 'back', 'camera', 'click', 'lot', 'selfie', 'app', 'gmail', 'battery', 'performance', 'first', 'month', 'good', 'heating', 'company', 'charger', 'call', 'volume'], ['user', 'year', 'iphone', 'happy', 'decisionin', 'department', 'display', 'design', 'performance', 'battery', 'flagship', 'level', 'noncamera', 'guy', 'camera', 'bit', 'okaish', 'excellent', 'telephoto', 'thing', 'user', 'software', 'phone', 'nice', 'well', 'area', 'well', 'overall', 'flagship', 'premium', 'experiencejust', 'hope', 'guy', 'team', 'oxygeno', 'future', 'model', 'ohh', 'boyy', 'phone', 'future', 'model', 'indian', 'smartphone', 'market', 'long', 'time'], ['pro', 'premium', 'look', 'feelcon', 'open', 'sodexo', 'app', 'code', 'camera', 'initial', 'stage', 'second', 'average', 'good', 'haptic', 'feedback', 'good', 'previous', 'mobile'], ['good', 'mobileno', 'compromise', 'performancedisplay', 'sound', 'much', 'cheating', 'issue', 'star', 'battery', 'drain', 'fast', 'mah', 'battery', 'good', 'flagship', 'phone'], ['application', 'gmail', 'mobile', 'hand'], ['display', 'classai', 'plusbut', 'big', 'boost', 'camera', 'image'], ['phone', 'premium', 'phone', 'time', 'brand', 'charger', 'oneplusoverall', 'gaming', 'experience', 'amazing', 'charge', 'minute', 'full', 'heating', 'issue', 'phone', 'smooth', 'phone', 'network', 'connectivity', 'issue'], ['perfect', 'camera', 'quality', 'curvy', 'display', 'edge', 'corner', 'inventory', 'bgmi', 'play', 'lag', 'big', 'battery', 'peak', 'brightness', 'value', 'money'], ['good', 'performance', 'week', 'bit', 'heavy', 'due', 'powerful', 'battery', 'keen', 'gorilla', 'glass', 'screen', 'worried', 'screen', 'safety'], ['good', 'performance', 'opinion', 'insurance'], ['overall', 'bombfeature', 'lag', 'date', 'architect', 'viewer', 'file', 'display', 'quality', 'amazing', 'show', 'phone', 'client', 'camera', 'quality', 'good', 'great', 'good', 'one', 'phone', 'iphone', 'point', 'camera', 'well', 'oneplus', 'phone', 'pic', 'phone', 'warm', 'output', 'bad', 'phone', 'improved', 'great', 'magnetic', 'charging', 'front', 'camera', 'video', 'glass', 'prone', 'small', 'scratch', 'screen', 'guard', 'phone'], ['fast', 'upto', 'mark', 'night', 'morning', 'old', 'oneplus'], ['quality', 'excellent', 'charging', 'hr', 'game', 'bgmi', 'little', 'bit', 'warm', 'bit', 'crasis', 'goodcamera', 'average'], ['medium', 'consumption', 'camera', 'term', 'gaming', 'performance', 'bad', 'processor', 'game', 'mobile', 'full', 'performance', 'processor', 'major', 'problem', 'curved', 'display'], ['heating', 'issue', 'bug', 'haptic', 'worth', 'note', 'software', 'update', 'year', 'telephoto', 'camera', 'ultra', 'wide', 'well', 'k', 'selfi', 'camerabut', 'picky', 'negative', 'much', 'price', 'range', 'ufs', 'wireless', 'esim', 'worth', 'note', 'negative', 'many', 'first', 'mid', 'range', 'flag', 'ship', 'bit', 'man', 'fluid', 'lag', 'animation', 'ui', 'fun', 'touch', 'haptic', 'iqoo', 'pro', 'damn', 'camera', 'good', 'subjective', 'display', 'usual', 'range', 'good', 'ir', 'blaster', 'alert', 'slider', 'underrated', 'problem', 'crisp', 'clear', 'gamer', 'performance', 'day', 'usage', 'lag', 'battery', 'bit', 'batterybut', 'usual', 'worth', 'noteso', 'postive', 'phonedealbreaker', 'haptic', 'course', 'chip'], ['r', 'bet', 'market', 'specification', 'lot', 'youtube', 'video', 'comparison', 'doubt', 'phone', 'correct', 'specification', 'issue', 'awesome', 'work', 'app', 'fast', 'lag', 'freeze', 'app'], ['phone', 'unlocked', 'anyones', 'fingerprint', 'bad', 'technology'], ['agar', 'good', 'mobile', 'h'], ['mobile', 'quality', 'screen', 'sound', 'camera', 'dolby', 'vision', 'dolby', 'vision', 'feature'], ['camera', 'good', 'average', 'low', 'light', 'noise', 'performance', 'ofcourse', 'battery', 'mah', 'battery', 'display', 'display', 'good', 'sound', 'duel', 'speaker', 'haptic', 'good', 'haptic', 'network', 'connection', 'ui', 'clean', 'useful', 'feature', 'quality', 'matel', 'frame', 'glass', 'front', 'back', 'ip', 'ipno', 'heating', 'issue', 'high', 'end', 'graphic', 'game', 'phone', 'warm', 'need', 'mind', 'summer', 'display', 'issueoverall', 'screen', 'protection', 'cover', 'big', 'hand', 'heavy', 'weight', 'distribution', 'good', 'value', 'money'], ['r', 'good', 'daily', 'usage', 'heating', 'good', 'quality'], ['data', 'transfer', 'apple', 'android', 'good', 'glitch', 'effective', 'love', 'way', 'phone', 'techy', 'know', 'value', 'money', 'device', 'value', 'money', 'nice', 'camera', 'quality', 'interface', 'oxygen', 'interface', 'complaint', 'thereill', 'long', 'term', 'usage', 'review', 'time'], ['gorgeous', 'heating', 'issue', 'heavy', 'game', 'grid', 'auto', 'sport', 'cosmic', 'ect', 'strong', 'body', 'victua', 'protection', 'value', 'money', 'touch', 'responsive', 'quality', 'mindblowing'], ['good', 'product', 'premium', 'smooth', 'easy', 'superb', 'photo', 'good', 'good', 'buycareful', 'delivery', 'product', 'day', 'delivery'], ['r', 'world', 'smartphone', 'here', 'sleek', 'elegant', 'design', 'r', 'eye', 'slim', 'profile', 'premium', 'build', 'quality', 'exude', 'sophistication', 'styledisplay', 'short', 'stunning', 'vivid', 'color', 'sharp', 'detail', 'smooth', 'responsiveness', 'interaction', 'pleasure', 'video', 'game', 'web', 'oneplus', 'rs', 'display', 'late', 'snapdragon', 'processor', 'ample', 'ram', 'r', 'blaze', 'task', 'breeze', 'app', 'game', 'lag', 'camera', 'setup', 'r', 'impressive', 'multiple', 'lense', 'technology', 'stunning', 'photo', 'video', 'condition', 'landscape', 'closeups', 'oneplus', 'rs', 'camera', 'life', 'battery', 'life', 'r', 'exceptional', 'large', 'battery', 'capacity', 'efficient', 'optimization', 'full', 'day', 'heavy', 'usage', 'fast', 'support', 'top', 'battery', 'oxygeno', 'good', 'market', 'clean', 'customizable', 'useful', 'feature', 'user', 'experience', 'bloatware', 'unnecessary', 'clutteroverall', 'r', 'flagship', 'smartphone', 'right', 'stunning', 'design', 'topnotch', 'performance', 'impressive', 'camera', 'capability', 'battery', 'life', 'userfriendly', 'software', 'device', 'sure', 'delight', 'smartphone', 'user', 'market', 'premium', 'smartphone', 'front', 'look', 'r'], ['nice', 'phone'], ['quality', 'top', 'notch', 'heating', 'issue', 'good', 'camera', 'good', 'picture', 'quality', 'skill', 'fps', 'constant', 'time', 'fps', 'bgmi', 'rate', 'star'], ['smartphone', 'good', 'quality', 'premium', 'great', 'shoping', 'experience'], ['reviewing', 'month', 'super', 'picture', 'excellent', 'battery', 'life', 'day', 'medium', 'usage', 'drain', 'fast', 'camera', 'good', 'cover', 'scratch', 'good', 'accessory'], [], ['new', 'r', 'phone', 'slim', 'smooth', 'classy', 'amazing', 'hand', 'packaging', 'good', 'overall', 'happy', 'feature', 'quality', 'phone', 'thank', 'supplier', 'time', 'delivery'], ['awesome', 'experience', 'device', 'line', 'issue', 'future'], ['phone', 'beastbattery', 'awesome', 'satisfied', 'comment', 'camera', 'quality', 'much', 'photo', 'thing'], ['phone', 'doubt', 'amazing', 'oneplus', 'phone', 'camera', 'excellent', 'phone', 'camera'], ['good', 'thingsperformance', 'quality', 'impressive', 'near', 'flagship', 'qualitycamera', 'okish', 'decent', 'photosdurability', 'questionable', 'chinese', 'brand'], [], ['battery', 'backup', 'performance', 'superbsound', 'quality', 'superbperformance', 'term', 'speed', 'lightning', 'fasto', 'bad', 'application', 'sometime', 'fingerprint', 'symbol', 'screen', 'actual', 'fingerprint', 'sensor', 'work', 'brand', 'new', 'issue', 'time', 'samsungthis', 'issue', 'r', 'model'], ['today', 'first', 'impression', 'quality', 'good', 'flagship', 'model', 'third', 'many', 'negative', 'review', 'confused', 'think', 'right', 'decision', 'buying', 'size', 'big', 'heavy', 'ok'], ['whole', 'phone', 'awesome', 'camera', 'setup', 'bad', 'price', 'budget'], ['prosbutter', 'smooth', 'efficientnever', 'heating', 'issuesgreat', 'battery', 'hour', 'sotw', 'charger', 'juice', 'phone', 'minutesdisplay', 'quality', 'top', 'notchsound', 'quality', 'haptic', 'back', 'metal', 'frame', 'premium', 'lookprimary', 'camera', 'good', 'output', 'enough', 'detail', 'excellent', 'colour', 'accuracy', 'exposuresoftware', 'excellent', 'bloatware', 'adsanimation', 'fluidity', 'ui', 'camera', 'telephoto', 'wide', 'angle', 'camera', 'price', 'pointufs', 'storagecompetitor', 'ufs', 'storage', 'low', 'price', 'pointnonetheless', 'overall', 'excellent', 'device'], ['camera', 'quality', 'overall', 'phone', 'good', 'day', 'battery', 'use'], ['camera', 'brilliant', 'screen', 'smooth', 'bright', 'battery', 'superfast', 'charger', 'phone', 'overall', 'phone', 'worth', 'money'], ['heat', 'gaming'], ['premium'], ['phone', 'nice', 'value', 'money', 'phone', 'exchange', 'speed', 'fast', 'battery', 'backup', 'good'], ['careful', 'good', 'permanent', 'smudge', 'phone', 'metal', 'area', 'case', 'plane', 'care', 'phone', 'smudge', 'total', 'day', 'phone', 'op', 'r', 'paint', 'coating', 'op', 'paint', 'job', 'guess', 'permanent', 'smudge', 'metal', 'area', 'op', 'r', 'alcohol', 'yea', 'disadvantage', 'buying', 'opr'], ['good', 'mobile', 'camera', 'performance', 'delivery', 'happy'], ['good'], ['overall', 'good', 'camera', 'quality'], ['nice', 'premium', 'phonebuild', 'quality', 'top', 'notchdisplay', 'battery', 'sot', 'hr', 'g', 'simcamera', 'performance', 'great', 'phone', 'camera', 'performance', 'good', 'fps', 'morethan', 'hr', 'fps', 'phone', 'warm', 'fps', 'bgmi', 'normal', 'casual', 'player', 'bgmi', 'hr', 'fps', 'great', 'display', 'well', 'well', 'neo', 'well', 'iqoo', 'fun', 'os', 'premium', 'phonenfcneo', 'ip', 'cheap', 'quality', 'buildnote', 'hardcore', 'gamer', 'oneplus', 'r', 'purchase', 'iqoo', 'good', 'gaming', 'dedicated', 'gaming', 'chip', 'ufc', 'good', 'pricing', 'allrounder', 'phone', 'r'], ['quality', 'screen', 'fluidity', 'standard', 'marvelsi', 'pixel', 'iphone', 'big', 'fan', 'gang', 'last', 'time', 'phone', 'year', 'consistency', 'term', 'quality', 'year', 'term', 'new', 'feature', 'r', 'day', 'less', 'hour', 'flagship', 'ground', 'solid', 'wonder', 'quite', 'device', 'oxygen', 'much', 'complaint', 'price', 'w', 'charger', 'sweet', 'dealif', 'wrong'], ['mast', 'phone'], ['battery', 'life', 'quality'], ['screen', 'great', 'camera', 'touchscreen', 'little', 'touch', 'edge', 'app', 'phone', 'restarted', 'day', 'ear', 'little', 'weak', 'phone', 'difficult', 'person', 'network', 'strength', 'good', 'battery', 'last', 'whole', 'day', 'dual', 'sim', 'bluetooth', 'gps', 'hour', 'short'], ['good', 'performance', 'phone'], ['battery', 'display', 'camera', 'sound', 'goodthe', 'phone', 'bit', 'heavy', 'height', 'width', 'good', 'tall'], ['performance', 'good', 'software', 'experience', 'good', 'camera', 'averagebattery', 'speed', 'battery', 'backup', 'screen', 'time', 'hrsbuild', 'quality', 'good', 'glass', 'back', 'metal', 'frame', 'product'], ['many', 'negative', 'comment', 'review', 'good', 'experience', 'phone', 'satisfiedmain', 'pro', 'brightnesscon', 'ufs', 'storage', 'typemissing', 'featuresgo', 'confusion', 'price', 'segment', 'good', 'overall', 'phone', 'run'], ['r', 'lot', 'table', 'topnotch', 'performance', 'design', 'stellar', 'camera', 'system', 'oxygeno', 'device', 'smooth', 'intuitive', 'overall', 'user', 'experience', 'many', 'area', 'bit', 'short', 'battery', 'life', 'heavy', 'user', 'ufs', 'storage', 'extra', 'speed', 'file', 'app', 'compelling', 'option', 'premium', 'smartphone', 'blend', 'style', 'substance'], ['overpriced', 'stuff', 'battery', 'fast', 'camera', 'reason', 'fingerprint', 'sensor', 'accurate', 'user', 'fast', 'money', 'hereg', 'good', 'speed', 'redmi', 'g', 'phone', 'camera', 'sample', 'price', 'pay', 'lot', 'k'], ['overall', 'good', 'phone', 'gaming', 'performance', 'buttery', 'smooth', 'experience', 'day', 'day', 'usage', 'awesome', 'phone', 'drawback', 'camera', 'well', 'camera', 'price', 'range'], ['old', 'one', 'r', 'gb', 'much', 'ram', 'future', 'proofing', 'purposei', 'mobile', 'computer', 'work', 'complaint'], ['camera', 'excellent', 'charginglight', 'weight', 'good', 'phone'], ['smooth', 'interface', 'camera', 'quick', 'discharge', 'quickdisplay', 'cool'], ['battery', 'backup', 'design', 'smooth', 'touch', 'awesome', 'bit', 'heating', 'problem'], ['yesterday', 'evening', 'phone', 'power', 'discharge', 'aspect', 'little', 'disappointing', 'share', 'experience'], ['delivery', 'bad', 'happy'], ['device', 'fine', 'heating', 'problem', 'display', 'imessrive', 'experience', 'video', 'vibrant', 'little'], ['wonderful', 'smartphone'], ['recommendation', 'long', 'meetingsfast', 'chargingclarity', 'speakervoice', 'qualitylow', 'heatingoverall', 'satisfaction', 'chk', 'camera', 'quality', 'game'], ['high', 'performance', 'phone', 'decent', 'photography', 'battery', 'backup', 'good', 'time', 'screen', 'time', 'less', 'hour', 'gamingfingerprint', 'sensor', 'fast', 'sound', 'quality', 'good', 'screen', 'smooth', 'phone', 'clean', 'build', 'quality', 'good'], ['good'], ['camera', 'expectation', 'quality', 'pic', 'camera', 'balance', 'shadow', 'good', 'battery', 'good', 'smooth', 'touch', 'feelstep', 'count', 'app', 'improvement', 'application', 'dual', 'mode', 'appone', 'good', 'feature', 'cutout', 'pic', 'ability', 'select', 'cutout', 'person', 'cutout', 'picture', 'mode', 'store', 'image', 'pro', 'xdr', 'check', 'store', 'proxdr'], ['kind', 'phone', 'complete', 'package', 'full', 'packageit', 'awesome', 'use', 'case', 'battery', 'awesomethe', 'processor', 'awesome', 'toodisplay', 'cool', 'phone', 'brand', 'environment', 'saver'], [], ['satisfied'], ['great', 'product', 'experience'], ['aa', 'oneplus', 'pixel', 'series', 'great', 'thing', 'phone', 'display', 'bright', 'smooth', 'main', 'highlight', 'phone', 'battrey', 'huge', 'battrey', 'great', 'full', 'use', 'watch', 'full', 'day', 'battreyand', 'battery', 'low', 'supervooc', 'rescue', 'charge', 'phone', 'min', 'oxygen', 'many', 'great', 'feature', 'thing', 'appriciate', 'irblaster', 'flagshiptalking', 'negativescamera', 'false', 'commitment', 'ufs', 'storage', 'version', 'variant', 'acceptable'], ['perfect', 'mobile', 'battery', 'first', 'time', 'high', 'costmobile', 'heating', 'battery', 'defect', 'time', 'battery', 'heart', 'mobileotherwise', 'good', 'mobile', 'high', 'cost', 'market'], ['good', 'cell', 'phone'], ['phone', 'special', 'battery', 'beast', 'trust', 'heavy', 'use', 'day', 'charge', 'minscamera', 'usual', 'shot', 'excellent', 'main', 'sensor', 'exceptional', 'low', 'light', 'process', 'artificial', 'lightmany', 'little', 'heavy', 'weight', 'heavy', 'curved', 'front', 'easy', 'holdaudio', 'stereo', 'speaker', 'charming', 'earphone', 'experience', 'kratos', 'earphone', 'work', 'little', 'warmth', 'slight', 'heat', 'common', 'gaming', 'comment', 'thatfingerprint', 'sensor', 'little', 'upper', 'pro', 'phone', 'many', 'relevant', 'phone', 'price', 'phone', 'placementconsoxygeno', 'basic', 'similar', 'many', 'app', 'available', 'limited', 'app', 'day', 'memory', 'experience', 'exceptional', 'work', 'otherssome', 'social', 'app', 'time', 'sure', 'app', 'issue', 'issuefinal', 'verdict', 'good', 'upper', 'mid', 'range', 'phone', 'good', 'battery', 'life', 'good', 'value', 'money', 'phone'], ['great', 'value', 'money', 'oneplus', 'oneplus', 'r', 'toobut', 'free', 'earbud', 'little', 'bit', 'disappointment'], ['phone', 'doubt', 'good', 'overall', 'performance', 'exchange', 'person', 'rs', 'extra', 'power', 'button', 'hard', 'press'], ['phone', 'upto', 'expectation', 'month', 'great', 'camera', 'price', 'image', 'editor', 'great', 'multimedia', 'experience', 'amazing', 'screen', 'dolby', 'stereo', 'speaker', 'good', 'heavy', 'gaming', 'good', 'battery', 'backup', 'overall', 'phone', 'flagship', 'level'], ['overall', 'good', 'phone'], ['first', 'experience', 'r', 'build', 'quality', 'premium', 'top', 'notchbutter', 'smooth', 'experience', 'oxygen', 'display', 'nit', 'brightness', 'publisity', 'stunt', 'display', 'brightness', 'markand', 'battery', 'full', 'charging', 'min', 'battery', 'approximate', 'heavy', 'usage', 'approximate', 'hrscamera', 'quality', 'inprovement', 'water', 'dust', 'resistant', 'perfect', 'weight', 'balanceif', 'r'], ['good', 'buy', 'budget', 'k'], ['device', 'last', 'daysdevice', 'gooddisplaylook', 'amazingbattery', 'normal', 'batteryoverall', 'good', 'package', 'price', 'range'], [], ['awesome', 'display', 'fast', 'performance', 'battery', 'life', 'speed', 'excellent', 'priceoverall', 'satisfactory', 'product'], ['r', 'actual', 'flagship', 'killer', 'late', 'gimmick', 'stellar', 'display', 'great', 'battery', 'good', 'performance', 'opr', 'right', 'choice', 'cc', 'old', 'green', 'line', 'amazon', 'great', 'exchange', 'value'], ['amazing', 'product', 'chargercamera'], ['nice']]\n"
     ]
    }
   ],
   "source": [
    "print(tokenized_reviews)"
   ]
  },
  {
   "cell_type": "code",
   "execution_count": 16,
   "id": "a1934e54",
   "metadata": {},
   "outputs": [],
   "source": [
    "final_reviews = [' '.join(review) for review in tokenized_reviews]"
   ]
  },
  {
   "cell_type": "code",
   "execution_count": 17,
   "id": "f99d56df",
   "metadata": {},
   "outputs": [
    {
     "data": {
      "text/plain": [
       "['oneplus week price range phone extraordinary battery life life easy phone review powerful good work term efficiency heating summer gte phone heating problem last year non existent timedisplay capable dolby vision dolby tech experience immersive price haptic good iphone oxygen good oxygen upgrade year year security update frequent useful phone overall life part window power button old op supportcamera decent iphone low light shot oneplus camera flagship cheap pixel disappointment front camera buy phone vivo oppo approach skin smooth bright front video shame leastcon annoying bugsfeature small updatedisplay bright indoor iphone ultra thoseone apparent disadvantage lack wireless ip rating compromise quad hd display price reverse wireless charging earbud last beautiful thing phone charger screen guard phone case dollar company lakhi helpful oneplus qualcomm year platform year',\n",
       " 'lot research green line issue life time screen positive move trust customersprosprimary camera task smoothlygb usb year update year security update configuration future proofbattery last day battery screen time speed awesome min many useful feature v shape pattern lock screen torch draw shape pattern lock screen launch camera hand selfie photoconsminor bug time mts reconnectget manageable kind main draw backwill review updated usage',\n",
       " 'oneplus family member oneplus oneplus pro screen quality colour battery heavy usage hr screen time camera portrait shot awesome front camera average oneplus ui easy handle past year performance lag bgmi day day taskscon price range ip water resistant continuous usage time ui normal time poor call quality regular call disconnect sure mobile network oneplus year longlasting performance oneplus',\n",
       " 'phone year ui perk realized fact bad deal phone worth lot money phone worth money flaw lot people many camera processing video quality flagship wireless many flaw suitthe unit fine heating issue thing software wise unit fine phone take min charge screen e panel good battery life hard absolute top tier person office meeting phone thing solid battery life last good careful glass grip sound good quality bass loudness stereo speakersnow phone worth period version bad deal charger extra appreciatei money r price star phone tht hand great use glitch software issue hardware issue thing couple year sucker update',\n",
       " 'operating system oxygeno good switch oxygeno good person thing previous version personal experience ui experience clean bloatware lot good tutorial help good haptic feedback good much good haptic feedback overall experience couple bug minor overall solid minimalistic software feature multiple app convenient landscape mode notification panel change orientation small quality life thing software usefulone thing despise software individual notification annoying notification swiping click notification click open application hope fix least toggle change behaviourcamera big camera enthusiast camera apple price range decent shot product shutter speed decent overall good enough casual userscreen good much departmentbattery life full day moderate usage high brightness p speed plug minute full battery lot battery health good longerperformance good casual usage sure gaming heavy mobile gamer laptop mobile gaming online review good mobile gamingdesign good enough casual user camera annoying big fan glass back glad case good enough people alert slider good featuresound good casual user phone day day solid option phone',\n",
       " 'family several oneplus device early one company bearing direction flagship killer tagline wrong market share phone excellent phone next pro release apple series impressive phoneswhen hasselblad stuff live launch online thought company track many reviewer speed processor refresh rate hype back track phone gb excited prospect highend first letdown horrific camera picture quality phone lowlevel picture quality lifeless dud outdoor condition indoor hasselblad horrible photo quality ismany function time reel photo app phone hardware app smoothness fluidic colour option vivid natural pro weird photo cloud phone different character attachment product handthe slimness excellent premium good battery life speed many thing good professional review magazine many miss trick height everyone founder company identity nail right head apple identity friend impressed natural skin tone picture spicethe oneplus identity thing phonewill able plethora flaw future update wrong idea camera wrong poor quality resultson close look picture quality oppo type result skin plasticy men skin makeuped trait oppo phone people girl smooth baby dollsmany thing right phone spite late processor high ram goodsince return option exchange date hand thought camera poor qualityit regretswill oneplus route oppo phone good old oneplus dead gone______________i hope reader many positive review phone personal oneplus experience severe letdown',\n",
       " 'review month usagegood thing superb additional hd feature great content strong audio earphone great primary portrait lense camera setup good low light next level experience good battery hrs sot sleek design corner ridiculous slow regular security update far glitch flagship experiencething front camera good photo bad hdr video video call display bright phone shutter lag camera consistency image time video noise reduction non existent night mode usable result mode fps',\n",
       " 'second day satisfying oneplus oneplus site deal mobile week slow systemall apprehensive oneplus year call oneplus well good top notchso good delivery day item customer care customer amazing item delivery person sheer professionalism shoppingadding month smooth interface fast speed decent camera battery life last day nice curvy navigation cool heavy hand previous brightness good contrast sharpness brightness',\n",
       " 'great money storage expansion slot use space overall great phonehate stock eg speed dialing sms manual select text delete button placement volume low additional glass protection camera bump phone case pathetic low effort',\n",
       " 'oneplus variant black great performance month lag clicking picture video movie last day speed great keep min work day limited usagecamera quality excellent process picture way professional shotthe back black variant soft touch picture itno delay fingerprint scanning issueif oneplus bcz similar late tech heavy discount price point difference variant feel gb month bud great price',\n",
       " 'good amazon',\n",
       " 'oneplus exceptional device reason thrilled purchaseperformance absolute powerhouse late snapdragon processor task throw gaming speed responsiveness impressive daily activity efficient everdisplay display visual delight panel sharp stunning color deep black video web playing game short breathtakingcamera camera system topnotch stunning photo remarkable detail clarity low light condition versatility camera various shooting mode feature creativity photography life battery life phone fantastic full day running power feature gamechanger quick charge hour usage ready oxygeno clean intuitive user interface tradition smooth customizable android experience frequent update phone stay uptodate securebuild quality build quality exceptional premium hand solid sleek design device network technologyvalue money feature performance oneplus excellent value money flagshiplevel performance bankin summary smartphone tick true flagship device remarkable performance outstanding display impressive camera capability design premium happy purchase market new smartphone true marvel innovation excellence',\n",
       " 'nice phone',\n",
       " 'phone great let con team bug asappro great value money great camera video great battery life amazing dolby atmo sound earpod movie curve screen good good screen quality amazing fast w charger quick shower charge fast play game battleground smoothlycon notification drawer pain gesture notification panel swipe phone charger power fingerprint senser big pain pattern face fingerprint senser unable multiple attempt clear print finger bad phone fingerprint oneplus app drawer sometime stuck open app app drawer use slider slientvibrateringer find page slider opening able download app issue issue torch warm light flash user option close app application many app background app close app ringtone loud enough full volume phone buggy smooth software experience oneplus look feedback bug phone experiencethank happy switch oneplus thank amazon safe delivery',\n",
       " 'loyal customer plushappy product price performance',\n",
       " 'good product lagcamera issue oneplus',\n",
       " 'great phone superior camera awesome battery life phone first phone apple wife good',\n",
       " 'heating',\n",
       " 'lot excitement phone purchase year iphone key factor op good example spec sheet great phone reality wrong op lot pro con day day experience oxygen fast clutter free bug well late software update bad start display late notification old message useless op software update able last monthfingerprint sensor optical fingerprint sensor op little sweaty wet rare fingerprint sensor op camera package impressive spec sheet experience underwhelming due poor software processing shutter speed iphone white balance inconsistent human subject bright op good nature portrait shot vivid color great hdr output perfect edge detection main cam selfie cam bland acceptable pic daylightperformance spec sheet business app opening time multi tasking graphic intensive game performance battery time finish breakfast hour lack wireless chargingi hope photo processing performance great hardware package',\n",
       " 'oneplus model function year oneplus difference',\n",
       " 'month usage camera disappointedcamera app kind filter photo face good light oneplus well term camera low light performance worstbattery fast mobile heating mobile fast phoneperformance performance wise good performance allmemory gbit support hdmi type c cable many time quality goodnot worth k',\n",
       " 'phone month app min phone start heating increase brightness heating min video min camera quality poor low light condition people low light annoying option way use camera min heating good phone winter warmth handle',\n",
       " 'month useas priceback camera lightsfront camera colour skin variant game unnecessary app phone lag time normal usesdisplay quality good good part fast fastspeaker good',\n",
       " '',\n",
       " 'month use wrong decision iphone pre launch eventboss student apple class silver begger screen sensitivity issue press multiple time q character column sometime case today pillow month usehassalblad camera hype segment camera hardware use software upscale quality time process image battery backup equivalent iphone last day normal use speed high charge full minute deviation specification wireless charging due top hierarchy nonavailability wireless charging run race position impressed review company consumer upscales cost divide rule iphone segment follower customer',\n",
       " 'review phone great displayhaptic speed good take min smoothness ram management bug thereback camera good colour improvement bug screen stuck blackout annoying restart phone againbattery fastereven gaming performance bad phone cpu usage able fps low settingscamera descent natural colour therefront camera able record video fps colour warm toneno ip rating scrolling software vision support speaker phone good term hardware software bad stupid bug software integration hardware software update thing fixeddont phone gaming ui experience r worth update review issue update',\n",
       " 'medium month usageperformance fps high video high performance modeit crush pubgcodany realtime raytracing game advantage amazing ltpomost people worrysound amazinghaptic good classcamera daylight phone bad samsung flagship video daylight comparable flagship bad zoomvideo feature mode night image pitch black adjacent building safe night amazing battery life minsstorage speed well entry level flagship lpddrx phone handle butter decent camera good class',\n",
       " 'gamer photo enthusiast phone audiovideo pure tech enthusiast experience late techi month old option pro oneplus oneplus capabilitieswireless ip sheer reason late processor heart phone phone month technology obsolete work much difference day time difference screen bit large phone heavy screen amazing dolby vision staggering resolution density camera different time color calibration camera theme colororange weird navic positioning system year oneplus navic support big difference notice speed old w charger juice minute less capacity battery charger oneplus able car placewithout phone nice phone flagship offer similar specification oneplus oxygeno operating system price factor',\n",
       " 'offline music player facility next update goodwill',\n",
       " 'flagship first time delighted first oneplus device review month usageprosbattery life day normal usage gamingcharging time excellent screen great sunlight adaptive brightness crazy fast processor load fast camera quality great highlight low light excellent color reproduction normal lighting quiet nervous long time miui many con essential feature pricingcon ir blaster r big disappointment big disappointmentthey phone form factor slim big issuethe phone heavy due large screeneven large hand bad casing jean pocket wireless flagship great deal configuration sturdy buildit last target life next year oneplus',\n",
       " 'video player videoplaymutecurrent time duration stream type liveseek time xplayback ratechapterschaptersdescriptionsdescription selectedcaptionscaption selectedaudio modal fast charging capability phone great sot good bright color screen camera appreciative portrait great option good camera generic well flagship phone way time pixel iphone well bet price camera concern rest fast capability peace device',\n",
       " 'highlightsgood design next level feelsuper qualitygreat distribution weightdisplay super little glare camerasspeaker fingerprint sensor real bigdealconsmemory bad selfie super feature lessbecause bad filemangerno dual app option app appno calender music playerno word etcacessbility option issue youtube short less colletion free wallpaper theme font good feature rich ui bloat ware disappointed oxygenostransfer speed slow type ip charge',\n",
       " 'medium pro back camera powerful sure great quick charging min sot hrs beautiful vivid display design awesome call quality audio perfectcon front camera ordinary good portrait performance heating issue timenot ip minor bug software issue screen refresh rate screen icon word nice op issue otaor spend ip',\n",
       " 'product lot hesitation last year product awesome rounder phone op eye friendly cherry top dolby vision support multimedia consumption op camera score op bag front p battery op clear winner daily driver support recharge recharge minute battery performance top notch op op clear winner op bag ui value money op reception op quality clear outdoor condition speaker loud clear immersive speaker system ip rating loss charger box haptic feedback op clear advantageconclusion first product oneplus planning new phone budget reliable phone ram variant ufs secure performance year atleastdirect competitor op pixel user pixel iphone compromise telephoto lens speed feature useful outdoor clicking portrait dslr level',\n",
       " 'phone day return policy return service centre problem last day fine good service provider online replacement day day order order electronic shop village worthy order costly item',\n",
       " 'lot problem green line issue',\n",
       " 'camera quality good',\n",
       " 'premium flagship phone premium phone late processor tech value beast',\n",
       " 'package product sim card removal pin item box',\n",
       " 'phone quality good price worthyflagship killer amazon delivery service seller city amazon delivery day order delivery person delivery',\n",
       " 'awesome good camera fast quick overall good flagship smartphone price range',\n",
       " 'phone high value money course camera good iphonesamsung comparable issue minor ui bug late software update processor excellent screen good well iphone battery life average charger superb',\n",
       " 'last year issue normal software bug',\n",
       " 'oneplus mobile year problem old phone last phone oneplus good choose oneplus else phone satisfied phone fordisplayperformancebattery omg min speaker awesome surround sound full volume speaker goodcamera goodreliable durable many year experience oneplus mobile year myth phone reliable opinion disappointed decision',\n",
       " 'battery life speed good performance good read speed high display quality amazingthe drawback camera good',\n",
       " 'mobile amazon gifted friend happy issue switch day delivery smooth heating issue camera quality performance good app fast keypad smooth overall good mobile worth love well mobile great',\n",
       " 'review year good performance great experience lag amazing display sound quality microphone installation security update calendar meeting calendar smart charging phone stop stop late night hour day camera weird photo room indoor lighting normal photo mode kind photo light balance kind weird pop aura body yellowish tone good',\n",
       " 'overall great phone something frustrate user phone touchresponse bug close notification open app drawer left right swipe delete buttonkeeping mind screen tall response touch gesture hand usethe whole reason new phone old phone bug stuck new phone issue hype thrill excitement last patch issue pinch zoom pinch widget annoying matter ooofffffone',\n",
       " 'avid tech enthusiast hand new oneplus g design phone sleek modern large inch display streaming video social medium joy refresh rate smooth seamless performancebut impressed camera oneplus rear camera whopping primary sensor powerful camera setup market photo phone stunningthe battery life lasting day heavy use fast feature mean full power time g capability phone ready nextoverall oneplus g market new phone powerful stylish device sure impressin term performance true powerhouse phone capable task app breeze gaming smooth responsivethe g outstanding phone front market new smartphone good design performance camera technology true masterpiece tech enthusiast',\n",
       " 'long time observation lot basic layout many gesture work workprofile vpn time access company mail silent notification vpn notification quiet annoying notification disabled call quality good ear speaker low volume reason late headphone plug wired type c headphone connection annoying thing time amazon app freeze restart request basic clean much change',\n",
       " 'amazing battery minimum hour light usage lat great phone quick lag good option customisationcamera amazing pre filter picture time photo mean intensity color good buy',\n",
       " 'oneplus last year phone fine aspect year battery major pain charge time day time half hour oneplus charger red cable satisfied oneplus aspect charger minute hour performance',\n",
       " 'month usagepron display quality top notch good movie loversbattery life main advantage last long hour screen camera quality click good photo video take min fast haptic feedback beast phone match strength op speaker top notch decent performancecon freezing time memc chip previous device high phone heat heating management bug application whatsapp photo visible put story long time hope day oneplus well software update',\n",
       " 'op beast battery phone amazon extra replacement phone yah op frank op fan boy beast chip phone beast camera good front cam front cam boring good thank amazon',\n",
       " 'good exchange value phonebattery backup nice nice display great camerareview monthsi sharing pro con issue phone front camera bad price point camera unable balance light backgrounda whitish picture op r issue phone clean front camera clear issue battry backup daily use screen time avarage hr battery full day worry last minute phone charge office charge green line software security update monthlyjust phone dryye bit rainfall splashing harm phone phone dry use screen protector flim protection use phone stuck volumepower issue service centre month coz tempared glass uv light gluaside lil bit issue phone',\n",
       " 'top line spec flagship device worthy price device good performance expectationsissue excessive battery drain sot max hour optimization update year old device long week old oneplus disappointing battery oxygen lot experience oneplus flagship fan sale service good none case case battery drain replacement refund camera decent worth k fingerprint sensor time great work unlock',\n",
       " 'performance lag week face unlock touch unlock fast iphone many application phone break sweat new processor good job practical gb ramsecurity lot security feature phone face unlock pattern password number fingerprintscreen bright screen little ok curved screen good lookcamera picture quality back camera decent drawback overexpose photo time white balance photo front camera telephoto macro decent job front camera decent picture photo patchy excess sharpness low light mode video decent qualityconnectivity great apparent lag network ooklabattery battery backup decent phone last day moderate new processor fast phone heat overuse previous oneplus w charger good charge full phone min practical scenario phonebuild phone little bulky side feeling disappear phone sturdy look good handoverall good purchase',\n",
       " 'overall good phone decent look hand bulkycamera good heptic feedback good',\n",
       " 'onepluse gaming',\n",
       " 'good phone price',\n",
       " 'delivery day good camera upto mark simple classy hold phone thing portrait mode background image video recording strange flagship phone silent vibrate phone slider right hand side mah battery basic app',\n",
       " 'big upgrade point awesome improvement flagship killer awesomebattery performance outstandingheptic speaker need update flagship portrait lense sharp good click sharp pic main enough light warm color shift sensor pic low light performance main good good low light performance portrait lense betteroverall camera hardware flagship killer mark compete camera phone future bug app medium playing backgroundwill update review new update',\n",
       " 'super mobile premium quality fast dslr rear camera camera optimisation software update cal quality super dolby atmo good g internet super speed mobile doubt pakka flagship',\n",
       " 'good phonebeen month great smooth user interface fast camera fantastic',\n",
       " 'quality phone display buttery great phone',\n",
       " 'oneplus series usual op top line hardware phone old reputation lot doprosgreat camera front back camera nice photo happy macro photosbattery life good last full day sot hrs usage use office email chat medium sup fastg reception great mbps city feedback hepatic feedback great phoneconsi serious concern software old oxygen issuesthe refresh rate visible scrolling gallery app tube amazon app tube page stuck sometimethe app drawer issue time first scroll great lag app rami wifi strong happen automaticallyin camera usage bit min phone bit happy top line hardware last hope oneplus fix software issue possible',\n",
       " 'perfect touch quality battery good feature appearance lovely',\n",
       " 'camera telephoto decentfront camera p fps bad front camera video camera sensor old imx battery life good fhd resolution decent qhd resolutionnot noticeable difference resolution resolutionrefresh rate app fps ookla app software speed fast practical testfeel handspeaker loud depth sound',\n",
       " 'month reviewedcamera superfingerprint sensor superbattery life awesomeusability good useupdate goodoverload app usage goodwhile phone hot min battery message app padding read message',\n",
       " 'device good starhalf star software limitation camera selfie turn show option permanent hotspot warning annoying option free variant oxygen issue definitelyr everything good pay free z amazing devicefinal verdict budget phone',\n",
       " 'phone last phone phone phone several option mind pro iqoo wireless headphone value money ultra iphone great phone none thing multitaskingdisplay word methe security update extrarefresh rate gaminggreat battery backupvery normal battery issue file manager open reason time glitch wireless headphone jackwill lot money competition doubt advice right decision',\n",
       " 'awesome panel displaybattery last day minscamera good ultra iphone compare budget smartphone good other video quality matt finish metal body haptic feedback good alert slider oxygen great smooth oxygen layer extra app green pink line issue talk customer care phone take video update update issue display free',\n",
       " 'pic natural photo iphone front camera poor regret',\n",
       " 'iphone happy feature present iphone pro model lakh good thing battery speed min full charge day screen resolution adaptive refresh rate camera fan great night shot year year security wifi update good thing company love mobile haptic next level support dolby vision dolby atmo overall good phone',\n",
       " 'good well yr old phonecamera good iphone good good phone benchmark flagship phone',\n",
       " 'medium excellent device priceim stubby review log report bad deviceuntil phone great old oneplus yore good part good mask weight size device wellit joy type fabulous hapticsthe screen battery life qhd heat initial setup heatup normal usage warmish session hot warmishwill report specific day device today',\n",
       " 'first thing oxygen bloatware clean experience superfast way superior excellent camera setup good colour video fast charger fast mean rapid charging max speed useful multi tasking king app background lag good sound output overall light phone ergonomic excellent absolute good haptic battery life okay hour screen timeoneplus good effort disastrous year oneplus right track',\n",
       " 'update new piece replacement oneplus service center day flagship replacement hoursanyway customer service center personnel courteous helpfulthe performance fantastic initial impression goodearli updatereceived defective piece amazon past day replacementthere upside buying amazon local store phone new phone bad dust screen protectorlook quality check day product',\n",
       " 'money device perfect big photography shot good usedafter monthsi right decision opgreat free performancewonderful battery backup hour heavy usage time content consumption youtube video streaming movie viewingcood enough camera useperfect display qualitycharge phone minute wireless capacity old opproin good phone buy',\n",
       " 'edge curved screen good responsive powered oxygen new arsenal cool feature gesture op basic screen guard package phone',\n",
       " 'many photo photo quality dslr photo',\n",
       " 'oneplus huge difference planning switch iphone phone good oneplus bang flawless beautiful design proscamera awesome hasselbladprocessor powerfuldisplay confor heavy phone use cover protection fast processor beautiful design awesome camera setup',\n",
       " 'good device smooth user experience',\n",
       " 'phone year backside phone glass phone drop glass backcover service center change inr month replacement fulfill basic requirement happy feature',\n",
       " 'phone multi task heavy office usage online movieslive cricket last couple day active streaming ipl match phone great processor high memory heat heating issue company seller great job delivery packaging',\n",
       " 'super model much',\n",
       " 'good phone price software update',\n",
       " 'good flagship long timedisplay quality iphone good android specification flagship price pointoverall phone design good slippery cover uncomfortable',\n",
       " 'pro good camera display sturdy design smooth operation excellent battery fast chargingcon front camera notch center selfi eye',\n",
       " 'thing wireless charging',\n",
       " 'version phone smooth display bright enough outdoors battery life good last day charge typical scenario good thoroughlynegative speed slow old oneplus speed speed app app drawer slow annoying notification bit easy minimum brightness bright',\n",
       " 'performance display touch snappy touchs delay matter heavy gaming normallydisplay display use colour content text crisp clear brightness sound loudspeaker loud bassy high volume phone camera well last phone probuild quality quality good premium device charger omg charge nap video phone chargedbattery battery normal usage hour continuous gaming game setting resolution',\n",
       " 'pro year amazing feeling much difference phone size camera performance wise performance issue parallel app rarelyjust change old phone screen able phone next year full formatting time good investmentfun part front popup camera available used cool disappointed kid non one goodgesture old good new one oxygen crop',\n",
       " 'phone good heat normal usage front selfie camera photo hdr video full brightness',\n",
       " 'mobile great phone chip performancecamera mark hassalbald giving feel flagship mobilenotification dropdown working sometimesfingerprint sometime manual pin flagship speed accuracyi bad experience amazon delivery delivery boy delivery boy fake call day delivery post delivery date amazon delivery delivery boy behaviour',\n",
       " 'nice',\n",
       " 'fine new disabled dialer dialler originalwork fine contact message app phone good photo well press power button restart shutoff reset power botton option additional setting purposelat update old motherboardmain board failure datum irretrievable year old quality phone general company successful first cost cutting production customer ride datum monthly basis rating',\n",
       " 'couple bug daily usage outstanding phone speed insane battery life camera decent clicking picture front camera capability able video sound loud crisp ui customisable way premium phone noticeable device',\n",
       " 'great camera good superb speed battery drain happy phone',\n",
       " 'pro good battery life half day good screen sound quality camera decent overall good performance nice haptic feedback good hand feelcon oneplus mobile thing available oneplus shelf swipe right ram management high gb ram',\n",
       " 'first phone beast aspect screen camera battery everything top notchno software issue forget day heavy usercurved screen beautifulr positive issue issue global oneplus user issue specific model certain app browser momentary second phone battery temperature little high side hand deg high phone ambient temperaturerest fabulous device price range',\n",
       " 'good device price practical reason anti reflective display glass protector advantage bright op decent price score fast ultrasonic fingerprint sensor glass protector hit contrary op optical fingerprint sensor unlock op battery segment good op clear winner term fast recharge sot op stop option well camera footage well op op bad allit good photograph op sultra term scenerio version feature gemini ultra upcoming ai feature hand comfort price op well choice',\n",
       " 'oneplus review powerhouse oneplus new benchmark impressive specification featuresprosample memory internal storage oneplus smooth ample space file appspowerful processor chipset device blazingfast performance seamless user experienceexceptional camera system triple camera setup main sensor periscope lens stunning photo video device performance thank powerful hardware software oneplus snappy responsiveness lagfree operationadvanced network connectivity wide range network technology lightningfast internet speed reliable connectivity goadditional featuresimmersive display inch display dolby vision support vibrant color high contrast immersive experiencepremium glass front aluminum frame gorilla glass sleek durable designversatile option wireless wireless charging oneplus convenient solutionsenhanced audio device stereo speaker audio support immersive sound experience music movie gamingcon ip protection bit bulky deviceoverall flagship smartphone aspect topnotch performance premium design power user photography enthusiast multimedia lover device sure',\n",
       " 'yr hand proper flagship awesome know display beautiful resolution good type content great basic whatsapp great itbattery mah monsterous user day proper flagship setup apple impressed sample pic xxxxx word excellent oxygen effective store flys speaker haptic negative fingerprint scanner optical ultrasonic time usageoveralll great buy pixel series apple phone regret bit cheer',\n",
       " 'oneplus fan oneplus single version launch time oneplus version great phone great feature oneplus pro battery backup awesome loaded app hr backup heavy multi task app crisp lag allphone heat long hour bit warmth rapid charging charge clear good volumeir blaster charmcon camera clarity low light bright light daylight photo awesomevolume button bit concern button right power buttoncant hand bulky unsafe camera portion bit big',\n",
       " 'phone touchscreen problematic right beginningafter customer service time replacement agent span day problem false hope refunding amount poor service feedback day radio silence favour gadget least',\n",
       " 'phone hesitant change trust real flagship killer battery backup user good area improvement ip rating rest good comparison phone competition aspect',\n",
       " 'camera display good enoughos little slow opening phonefast',\n",
       " 'lot outsidevideo shift warm cool tone video call annoyinghad bloatware price rangenot compact phone guess compact phone deadoverall camera quality goodperformance notch gamer last yearsbattery advertisedfast charge fastwifi connection quality goodstop con charger box apple good curve screen option money ultra half price',\n",
       " 'excellent phone great battery camera',\n",
       " 'interested public school system profession body language profession link body language',\n",
       " 'great phone foythe price point',\n",
       " 'medium good camera nice battery backup superfastperformance wise phone top phone heat lowerfor content phone immersive experience product worth money',\n",
       " 'camera lot modesmooth functionsnot much difference camera battery feature hold',\n",
       " 'good phone',\n",
       " 'excellent',\n",
       " 'mobile',\n",
       " 'mobile good camera light patanormal condition exposure',\n",
       " 'overall good phoneand good performance money',\n",
       " 'perfect rounder phone cost battery life outstanding last day full phone much social medium stuff general mobile user battery outstanding clean version colour os camera quality par costly flagship camera quality less true life image well phone',\n",
       " 'good phone feature markbut battery backup little betteroverall phone premium',\n",
       " 'video player videoplaymutecurrent time duration stream type liveseek time xplayback ratechapterschaptersdescriptionsdescription selectedcaptionscaption selectedaudio modal money powerful processor camera battery phone battery iphone camera audio sound quality great finetune camera picture quality audio quality standout competition',\n",
       " 'display stunning visual gaming smooth experience good iphone',\n",
       " 'display sound great camera day great match true coloursone oxygen great update happy battery performance well',\n",
       " 'value money flagship mind heavy bulky phone pain pocket occasional lag smooth',\n",
       " 'year model series device able chnage mind time awesome camera massive battery life tough competitor ultra pen ok lakh use satisfied phone massive battery watt charger nice case phone screenguard camera well ultra tough compitition ultra nice liquid feel display well timecon none moment',\n",
       " 'good product bestit phone camera awesome battery speed rs credit card',\n",
       " 'phone perfect good phonerecommend',\n",
       " 'passionate photography depth field good phone',\n",
       " 'phone month whatsapp stuck workaround whatsapp stuck',\n",
       " '',\n",
       " 'phone last phone galaxy note real good phone day phone',\n",
       " 'video player videoplaymutecurrent time duration stream type liveseek time xplayback ratechapterschaptersdescriptionsdescription selectedcaptionscaption selectedaudio modal window',\n",
       " 'iphone iphone battery backup display quality topnotch phonebattery good full charge minsdisplay quality nice processor camera many youtube video reviewer camera opinion enough image wellit x master mode update win portrait mode',\n",
       " 'nice wise',\n",
       " 'fan due reliability quality',\n",
       " 'camera speed processor display resolution sound quality ipit fact many water superb mobile worth penny',\n",
       " 'software optimisation good good processor snap phone processor well performance',\n",
       " 'camera quality superbno heating issue magic charge approx minutedisplay smooth',\n",
       " 'user box great possession quality n premium',\n",
       " 'excellent phone amazing camera pricerange available',\n",
       " 'min camera quality good battery good value money',\n",
       " 'pro comparison change crispy display camera vivo well oneplus update good phone price giving price great deal quality musicdisplay performance par',\n",
       " 'time track awesome phone great hardware time surprised good camera phone great work oneplus',\n",
       " 'oneplus third oneplus phone oneplus oneplus good brand trusta speed clarity quality good',\n",
       " 'medium flagship killer price happy see price available good exchange everthing good concern screen turn camera good interesting battery life fantastic fantastic ip phone',\n",
       " 'upto expectation screen unresponsive',\n",
       " 'money',\n",
       " 'flagship killer love ultra iphone pro category',\n",
       " 'good display performance vibration motorgood camera featuresaverage speaker averagequality wisecamera design hand top heavy picture camera bad redbattery performance good',\n",
       " 'fun use',\n",
       " 'satisfied decision purchase mobile',\n",
       " 'people buy iphone range decision way well iphone max',\n",
       " 'mobile',\n",
       " 'display curve good',\n",
       " 'oneplus device previous oneplus oneplus r',\n",
       " 'premium price',\n",
       " 'phone awesome love photography gaming',\n",
       " 'good oneplus device good potrait good',\n",
       " 'fine',\n",
       " 'camera display quality good happy purchase',\n",
       " 'rounder sturdy phone good class camera display sound work wonder lag',\n",
       " 'good mobilevery clear cameraprocessor backup good',\n",
       " 'good phone',\n",
       " 'excellent',\n",
       " '',\n",
       " 'amazing camera performance',\n",
       " 'excellent',\n",
       " 'best',\n",
       " 'phone good phone camera failsif cameraa serious heating issue battery drain',\n",
       " 'camera bad normal budget phone photo enhance appvery disappointed telephoto lens work money',\n",
       " 'hardware issue जत जस cost controlling issue आपक',\n",
       " 'medium screen flicker step phone screen black',\n",
       " 'display quality bad',\n",
       " 'pic quality good',\n",
       " 'red dot screen',\n",
       " 'dead pixel oneplus usual bad quality product',\n",
       " 'phone day phone battery',\n",
       " 'week phone loading screenwhich customer care notbut op window open phonebeside many minor glitch thank',\n",
       " 'phone working photo video amazing even night mode phone',\n",
       " 'audiophile external usb glitch lot return window stuck',\n",
       " 'phone ram price equal iphone lagging issue',\n",
       " 'camera quality poor quality poor vivo x good phone',\n",
       " 'medium',\n",
       " 'phone weird huge camera lens uncomfortable hold oxygeno buggy copy oppos lot ghost ridiculous design edge reliable phone iphone extra amount lot cheap alternative review',\n",
       " 'camera great zoom sort shaky due air condition man good switch yellow blue screen reading condition phone middle camera worth easy use ittook day good connectivity pretty phone battery bit fast usual stillit good battery backup',\n",
       " 'curve side screen difficult select click elselove fast charging speedhow long battery laststhe price iphonethe camera quality many feature option glad early phone year display here',\n",
       " 'op camerab processor good good volume op favorite phone',\n",
       " 'thrilled new oneplus build quality exceptional premium photography capability outstanding moment stunning detail battery charge superfast busy lifestyle sleek design head overall topnotch device expectationsmust buynit',\n",
       " 'website amazing photo great performance price bit low good phone',\n",
       " 'performance top notch display good bestcamera good typegaming video world experience',\n",
       " 'good photo quality color good product',\n",
       " 'lining problem support good bad brandnever purchase oneplusnever use customer service problem',\n",
       " 'performance little bit heavy ofcourse big battery heavycamera reason',\n",
       " 'oneplus phone issue monthsi phonescamera quality daysreceiver',\n",
       " 'oneplus incredible experience sleek modern stunning display detail life performance topnotch thank powerful processor ample ram making breezeone camera system oneplus stunning photo video condition battery life impressive full day heavy usage capability clean interface useful feature overall user experience connectivity connected blazing speed gooverall oneplus expectation way true flagship device performance design innovation market new smartphone look oneplus',\n",
       " 'phone wireless feature wireless charging safe case costly',\n",
       " 'bad phone usedworst issuesbattery fastworst front cameraoverall bad phone',\n",
       " '',\n",
       " 'good product month',\n",
       " 'r contenderthe oneplus r strong option featurepacked phone competitive price here breakdown craft reviewstrengthsdisplay bright vibrant display excellent sharpness angle perfect hdr contentperformance fast thank late snapdragon processor gaming easebattery life exceptional battery life full day heavy use charging refueling breezesoftware clean userfriendly oxygeno smooth experience ton customization optionsvalue flagshiplevel specs affordable price point considerationcamera good daylight lowlight performance video capability curved display lack mediocre water resistance rating ip usersoverallthe oneplus r great choice user performance battery life clean software experience live average camera design quirk lot phone moneyhere additional tip reviewmention long phoneshare specific example experience camera battery life etcmention accessory phone case screen protectorconclude phone good fit strength weakness wellrounded review potential buyer oneplus r right phone',\n",
       " 'wonderful mobile price segment r good class heavy battery good performance heating issue amazing display good phone android user price segment',\n",
       " 'r mixed experience standout feature significant drawback display vibrant color crisp resolution battery life uninterrupted usage day inclusion alert slider convenience speaker impressive sound main camera highquality image moment clarity detail camera short expectation mediocre result speed commendable minimal downtimeunfortunately major flaw overall microphone call quality loudspeaker recipient difficulty user voice recording clarity detracting device functionalityin conclusion r several commendable feature stellar display reliable battery life presence subpar microphone hamper usability potential buyer factor purchase decision',\n",
       " 'oneplus r last year satisfied brand phone redmi idle thought brand new oneplus r delivery bad delivery experience due foolish delivery guy due complain customer service suitable action phone day premium phone great display fantastic camera megapixelsi ram variant phone satisfied performance watt high speed issue phone heating datum r much thought interested category premium friend',\n",
       " 'good purchase worth fast power efficient performance indistinguishable day day usage unlikely notice difference benchmark specification real life day day usage difference power user lot application phone hour day chamber device excellent temperature game duration display feature resolution low noticeable naked eye magnification good display hdr performance different experience shot camera i oneplus experience center well idea note nit small white portion display sunlight max brightness full display bright direct sunlight battery life impressive hour sot charger min display hand wet smartphone bezel slim chin small oneplus equal con ill wireless telephoto smooth reliable device solid performance battery life decent camera display experience sure camera good iphone oneplus r',\n",
       " 'good class smooth performance good performance camera pixel good mobile battery long day full',\n",
       " 'big fat elephant camera bad mediocre average badr phone amazing smoothness ui style setting app experience whole positive app backgroundi whatsapp default wonder app memory ram vitathe storage speed phone mac transfer datum daily workhorse office app background outdoor battery high selling factor charger phone min charger fast support chargerdisplay bright content haptic great audio quality volume awesome i color option white variant almond pro oneplus future non obstructive screen pro thin bezel screen deed',\n",
       " 'overall good sturdy fast phone screen quality camera good front camera pathetic sample picture place back camera click lot selfie app gmail battery performance first month good heating company charger call volume',\n",
       " 'user year iphone happy decisionin department display design performance battery flagship level noncamera guy camera bit okaish excellent telephoto thing user software phone nice well area well overall flagship premium experiencejust hope guy team oxygeno future model ohh boyy phone future model indian smartphone market long time',\n",
       " 'pro premium look feelcon open sodexo app code camera initial stage second average good haptic feedback good previous mobile',\n",
       " 'good mobileno compromise performancedisplay sound much cheating issue star battery drain fast mah battery good flagship phone',\n",
       " 'application gmail mobile hand',\n",
       " 'display classai plusbut big boost camera image',\n",
       " 'phone premium phone time brand charger oneplusoverall gaming experience amazing charge minute full heating issue phone smooth phone network connectivity issue',\n",
       " 'perfect camera quality curvy display edge corner inventory bgmi play lag big battery peak brightness value money',\n",
       " 'good performance week bit heavy due powerful battery keen gorilla glass screen worried screen safety',\n",
       " 'good performance opinion insurance',\n",
       " 'overall bombfeature lag date architect viewer file display quality amazing show phone client camera quality good great good one phone iphone point camera well oneplus phone pic phone warm output bad phone improved great magnetic charging front camera video glass prone small scratch screen guard phone',\n",
       " 'fast upto mark night morning old oneplus',\n",
       " 'quality excellent charging hr game bgmi little bit warm bit crasis goodcamera average',\n",
       " 'medium consumption camera term gaming performance bad processor game mobile full performance processor major problem curved display',\n",
       " 'heating issue bug haptic worth note software update year telephoto camera ultra wide well k selfi camerabut picky negative much price range ufs wireless esim worth note negative many first mid range flag ship bit man fluid lag animation ui fun touch haptic iqoo pro damn camera good subjective display usual range good ir blaster alert slider underrated problem crisp clear gamer performance day usage lag battery bit batterybut usual worth noteso postive phonedealbreaker haptic course chip',\n",
       " 'r bet market specification lot youtube video comparison doubt phone correct specification issue awesome work app fast lag freeze app',\n",
       " 'phone unlocked anyones fingerprint bad technology',\n",
       " 'agar good mobile h',\n",
       " 'mobile quality screen sound camera dolby vision dolby vision feature',\n",
       " 'camera good average low light noise performance ofcourse battery mah battery display display good sound duel speaker haptic good haptic network connection ui clean useful feature quality matel frame glass front back ip ipno heating issue high end graphic game phone warm need mind summer display issueoverall screen protection cover big hand heavy weight distribution good value money',\n",
       " 'r good daily usage heating good quality',\n",
       " 'data transfer apple android good glitch effective love way phone techy know value money device value money nice camera quality interface oxygen interface complaint thereill long term usage review time',\n",
       " 'gorgeous heating issue heavy game grid auto sport cosmic ect strong body victua protection value money touch responsive quality mindblowing',\n",
       " 'good product premium smooth easy superb photo good good buycareful delivery product day delivery',\n",
       " 'r world smartphone here sleek elegant design r eye slim profile premium build quality exude sophistication styledisplay short stunning vivid color sharp detail smooth responsiveness interaction pleasure video game web oneplus rs display late snapdragon processor ample ram r blaze task breeze app game lag camera setup r impressive multiple lense technology stunning photo video condition landscape closeups oneplus rs camera life battery life r exceptional large battery capacity efficient optimization full day heavy usage fast support top battery oxygeno good market clean customizable useful feature user experience bloatware unnecessary clutteroverall r flagship smartphone right stunning design topnotch performance impressive camera capability battery life userfriendly software device sure delight smartphone user market premium smartphone front look r',\n",
       " 'nice phone',\n",
       " 'quality top notch heating issue good camera good picture quality skill fps constant time fps bgmi rate star',\n",
       " 'smartphone good quality premium great shoping experience',\n",
       " 'reviewing month super picture excellent battery life day medium usage drain fast camera good cover scratch good accessory',\n",
       " '',\n",
       " 'new r phone slim smooth classy amazing hand packaging good overall happy feature quality phone thank supplier time delivery',\n",
       " 'awesome experience device line issue future',\n",
       " 'phone beastbattery awesome satisfied comment camera quality much photo thing',\n",
       " 'phone doubt amazing oneplus phone camera excellent phone camera',\n",
       " 'good thingsperformance quality impressive near flagship qualitycamera okish decent photosdurability questionable chinese brand',\n",
       " '',\n",
       " 'battery backup performance superbsound quality superbperformance term speed lightning fasto bad application sometime fingerprint symbol screen actual fingerprint sensor work brand new issue time samsungthis issue r model',\n",
       " 'today first impression quality good flagship model third many negative review confused think right decision buying size big heavy ok',\n",
       " 'whole phone awesome camera setup bad price budget',\n",
       " 'prosbutter smooth efficientnever heating issuesgreat battery hour sotw charger juice phone minutesdisplay quality top notchsound quality haptic back metal frame premium lookprimary camera good output enough detail excellent colour accuracy exposuresoftware excellent bloatware adsanimation fluidity ui camera telephoto wide angle camera price pointufs storagecompetitor ufs storage low price pointnonetheless overall excellent device',\n",
       " 'camera quality overall phone good day battery use',\n",
       " 'camera brilliant screen smooth bright battery superfast charger phone overall phone worth money',\n",
       " 'heat gaming',\n",
       " 'premium',\n",
       " 'phone nice value money phone exchange speed fast battery backup good',\n",
       " 'careful good permanent smudge phone metal area case plane care phone smudge total day phone op r paint coating op paint job guess permanent smudge metal area op r alcohol yea disadvantage buying opr',\n",
       " 'good mobile camera performance delivery happy',\n",
       " 'good',\n",
       " 'overall good camera quality',\n",
       " 'nice premium phonebuild quality top notchdisplay battery sot hr g simcamera performance great phone camera performance good fps morethan hr fps phone warm fps bgmi normal casual player bgmi hr fps great display well well neo well iqoo fun os premium phonenfcneo ip cheap quality buildnote hardcore gamer oneplus r purchase iqoo good gaming dedicated gaming chip ufc good pricing allrounder phone r',\n",
       " 'quality screen fluidity standard marvelsi pixel iphone big fan gang last time phone year consistency term quality year term new feature r day less hour flagship ground solid wonder quite device oxygen much complaint price w charger sweet dealif wrong',\n",
       " 'mast phone',\n",
       " 'battery life quality',\n",
       " 'screen great camera touchscreen little touch edge app phone restarted day ear little weak phone difficult person network strength good battery last whole day dual sim bluetooth gps hour short',\n",
       " 'good performance phone',\n",
       " 'battery display camera sound goodthe phone bit heavy height width good tall',\n",
       " 'performance good software experience good camera averagebattery speed battery backup screen time hrsbuild quality good glass back metal frame product',\n",
       " 'many negative comment review good experience phone satisfiedmain pro brightnesscon ufs storage typemissing featuresgo confusion price segment good overall phone run',\n",
       " 'r lot table topnotch performance design stellar camera system oxygeno device smooth intuitive overall user experience many area bit short battery life heavy user ufs storage extra speed file app compelling option premium smartphone blend style substance',\n",
       " 'overpriced stuff battery fast camera reason fingerprint sensor accurate user fast money hereg good speed redmi g phone camera sample price pay lot k',\n",
       " 'overall good phone gaming performance buttery smooth experience day day usage awesome phone drawback camera well camera price range',\n",
       " 'old one r gb much ram future proofing purposei mobile computer work complaint',\n",
       " 'camera excellent charginglight weight good phone',\n",
       " 'smooth interface camera quick discharge quickdisplay cool',\n",
       " 'battery backup design smooth touch awesome bit heating problem',\n",
       " 'yesterday evening phone power discharge aspect little disappointing share experience',\n",
       " 'delivery bad happy',\n",
       " 'device fine heating problem display imessrive experience video vibrant little',\n",
       " 'wonderful smartphone',\n",
       " 'recommendation long meetingsfast chargingclarity speakervoice qualitylow heatingoverall satisfaction chk camera quality game',\n",
       " 'high performance phone decent photography battery backup good time screen time less hour gamingfingerprint sensor fast sound quality good screen smooth phone clean build quality good',\n",
       " 'good',\n",
       " 'camera expectation quality pic camera balance shadow good battery good smooth touch feelstep count app improvement application dual mode appone good feature cutout pic ability select cutout person cutout picture mode store image pro xdr check store proxdr',\n",
       " 'kind phone complete package full packageit awesome use case battery awesomethe processor awesome toodisplay cool phone brand environment saver',\n",
       " '',\n",
       " 'satisfied',\n",
       " 'great product experience',\n",
       " 'aa oneplus pixel series great thing phone display bright smooth main highlight phone battrey huge battrey great full use watch full day battreyand battery low supervooc rescue charge phone min oxygen many great feature thing appriciate irblaster flagshiptalking negativescamera false commitment ufs storage version variant acceptable',\n",
       " 'perfect mobile battery first time high costmobile heating battery defect time battery heart mobileotherwise good mobile high cost market',\n",
       " 'good cell phone',\n",
       " 'phone special battery beast trust heavy use day charge minscamera usual shot excellent main sensor exceptional low light process artificial lightmany little heavy weight heavy curved front easy holdaudio stereo speaker charming earphone experience kratos earphone work little warmth slight heat common gaming comment thatfingerprint sensor little upper pro phone many relevant phone price phone placementconsoxygeno basic similar many app available limited app day memory experience exceptional work otherssome social app time sure app issue issuefinal verdict good upper mid range phone good battery life good value money phone',\n",
       " 'great value money oneplus oneplus r toobut free earbud little bit disappointment',\n",
       " 'phone doubt good overall performance exchange person rs extra power button hard press',\n",
       " 'phone upto expectation month great camera price image editor great multimedia experience amazing screen dolby stereo speaker good heavy gaming good battery backup overall phone flagship level',\n",
       " 'overall good phone',\n",
       " 'first experience r build quality premium top notchbutter smooth experience oxygen display nit brightness publisity stunt display brightness markand battery full charging min battery approximate heavy usage approximate hrscamera quality inprovement water dust resistant perfect weight balanceif r',\n",
       " 'good buy budget k',\n",
       " 'device last daysdevice gooddisplaylook amazingbattery normal batteryoverall good package price range',\n",
       " '',\n",
       " 'awesome display fast performance battery life speed excellent priceoverall satisfactory product',\n",
       " 'r actual flagship killer late gimmick stellar display great battery good performance opr right choice cc old green line amazon great exchange value',\n",
       " 'amazing product chargercamera',\n",
       " 'nice']"
      ]
     },
     "execution_count": 17,
     "metadata": {},
     "output_type": "execute_result"
    }
   ],
   "source": [
    "final_reviews"
   ]
  },
  {
   "cell_type": "code",
   "execution_count": 18,
   "id": "9a945fe3",
   "metadata": {},
   "outputs": [
    {
     "data": {
      "text/plain": [
       "'criteria = [\"battery\", \"storage\", \"cost\", \"performance\", \"camera\", \"quality\", \"value\", \"appearance\"]\\n\\nfor review in tokenized_reviews:\\n    for criterion in criteria:\\n        if criterion not in review:\\n            review.append(criterion)'"
      ]
     },
     "execution_count": 18,
     "metadata": {},
     "output_type": "execute_result"
    }
   ],
   "source": [
    "'''criteria = [\"battery\", \"storage\", \"cost\", \"performance\", \"camera\", \"quality\", \"value\", \"appearance\"]\n",
    "\n",
    "for review in tokenized_reviews:\n",
    "    for criterion in criteria:\n",
    "        if criterion not in review:\n",
    "            review.append(criterion)'''"
   ]
  },
  {
   "cell_type": "code",
   "execution_count": 19,
   "id": "947757ea",
   "metadata": {},
   "outputs": [],
   "source": [
    "dictionary = corpora.Dictionary(tokenized_reviews)"
   ]
  },
  {
   "cell_type": "code",
   "execution_count": 20,
   "id": "167d624b",
   "metadata": {},
   "outputs": [],
   "source": [
    "tfidf_vectorizer = TfidfVectorizer(max_features=5000)\n",
    "tfidf_matrix = tfidf_vectorizer.fit_transform(final_reviews)"
   ]
  },
  {
   "cell_type": "code",
   "execution_count": 21,
   "id": "c0eceda0",
   "metadata": {},
   "outputs": [
    {
     "name": "stdout",
     "output_type": "stream",
     "text": [
      "(300, 1861)\n"
     ]
    }
   ],
   "source": [
    "print(tfidf_matrix.shape)"
   ]
  },
  {
   "cell_type": "code",
   "execution_count": 22,
   "id": "abf80515",
   "metadata": {},
   "outputs": [],
   "source": [
    "corpus = gensim.matutils.Sparse2Corpus(tfidf_matrix, documents_columns=False)"
   ]
  },
  {
   "cell_type": "code",
   "execution_count": 23,
   "id": "943614f9",
   "metadata": {},
   "outputs": [],
   "source": [
    "id2word = dict((v, k) for k, v in tfidf_vectorizer.vocabulary_.items())"
   ]
  },
  {
   "cell_type": "code",
   "execution_count": 24,
   "id": "b0bd4076",
   "metadata": {},
   "outputs": [],
   "source": [
    "LDA = gensim.models.ldamodel.LdaModel\n",
    "\n",
    "lda_model = LDA(corpus, num_topics=5, random_state=100, chunksize=1000, iterations=500,id2word=id2word,alpha = 'auto',eta='auto')"
   ]
  },
  {
   "cell_type": "code",
   "execution_count": 25,
   "id": "9aaf2c81",
   "metadata": {},
   "outputs": [
    {
     "data": {
      "text/plain": [
       "[(0,\n",
       "  '0.008*\"phone\" + 0.006*\"camera\" + 0.006*\"good\" + 0.005*\"battery\" + 0.004*\"day\" + 0.004*\"performance\" + 0.003*\"display\" + 0.003*\"oneplus\" + 0.003*\"usage\" + 0.003*\"month\"'),\n",
       " (1,\n",
       "  '0.014*\"good\" + 0.010*\"phone\" + 0.008*\"oneplus\" + 0.006*\"camera\" + 0.006*\"quality\" + 0.006*\"performance\" + 0.004*\"bad\" + 0.004*\"issue\" + 0.004*\"overall\" + 0.004*\"photo\"'),\n",
       " (2,\n",
       "  '0.009*\"phone\" + 0.008*\"good\" + 0.005*\"camera\" + 0.004*\"mobile\" + 0.004*\"quality\" + 0.003*\"super\" + 0.003*\"bad\" + 0.003*\"fps\" + 0.003*\"battery\" + 0.003*\"flagship\"'),\n",
       " (3,\n",
       "  '0.016*\"good\" + 0.008*\"quality\" + 0.008*\"phone\" + 0.007*\"price\" + 0.006*\"camera\" + 0.006*\"great\" + 0.005*\"premium\" + 0.005*\"battery\" + 0.005*\"mobile\" + 0.005*\"performance\"'),\n",
       " (4,\n",
       "  '0.009*\"phone\" + 0.008*\"excellent\" + 0.008*\"nice\" + 0.006*\"camera\" + 0.005*\"good\" + 0.005*\"battery\" + 0.004*\"experience\" + 0.004*\"issue\" + 0.004*\"display\" + 0.004*\"iphone\"')]"
      ]
     },
     "execution_count": 25,
     "metadata": {},
     "output_type": "execute_result"
    }
   ],
   "source": [
    "lda_model.print_topics()"
   ]
  },
  {
   "cell_type": "code",
   "execution_count": 26,
   "id": "99715232",
   "metadata": {},
   "outputs": [
    {
     "name": "stdout",
     "output_type": "stream",
     "text": [
      "(0, '0.008*\"phone\" + 0.006*\"camera\" + 0.006*\"good\" + 0.005*\"battery\" + 0.004*\"day\" + 0.004*\"performance\" + 0.003*\"display\" + 0.003*\"oneplus\" + 0.003*\"usage\" + 0.003*\"month\"')\n",
      "(1, '0.014*\"good\" + 0.010*\"phone\" + 0.008*\"oneplus\" + 0.006*\"camera\" + 0.006*\"quality\" + 0.006*\"performance\" + 0.004*\"bad\" + 0.004*\"issue\" + 0.004*\"overall\" + 0.004*\"photo\"')\n",
      "(2, '0.009*\"phone\" + 0.008*\"good\" + 0.005*\"camera\" + 0.004*\"mobile\" + 0.004*\"quality\" + 0.003*\"super\" + 0.003*\"bad\" + 0.003*\"fps\" + 0.003*\"battery\" + 0.003*\"flagship\"')\n",
      "(3, '0.016*\"good\" + 0.008*\"quality\" + 0.008*\"phone\" + 0.007*\"price\" + 0.006*\"camera\" + 0.006*\"great\" + 0.005*\"premium\" + 0.005*\"battery\" + 0.005*\"mobile\" + 0.005*\"performance\"')\n",
      "(4, '0.009*\"phone\" + 0.008*\"excellent\" + 0.008*\"nice\" + 0.006*\"camera\" + 0.005*\"good\" + 0.005*\"battery\" + 0.004*\"experience\" + 0.004*\"issue\" + 0.004*\"display\" + 0.004*\"iphone\"')\n"
     ]
    }
   ],
   "source": [
    "\n",
    "topics = lda_model.print_topics(num_words=10)\n",
    "for topic in topics:\n",
    "    print(topic)"
   ]
  },
  {
   "cell_type": "code",
   "execution_count": 27,
   "id": "0d8da1b0",
   "metadata": {},
   "outputs": [
    {
     "data": {
      "text/plain": [
       "['phone',\n",
       " 'camera',\n",
       " 'good',\n",
       " 'battery',\n",
       " 'day',\n",
       " 'performance',\n",
       " 'display',\n",
       " 'oneplus',\n",
       " 'usage',\n",
       " 'month',\n",
       " 'good',\n",
       " 'phone',\n",
       " 'oneplus',\n",
       " 'camera',\n",
       " 'quality',\n",
       " 'performance',\n",
       " 'bad',\n",
       " 'issue',\n",
       " 'overall',\n",
       " 'photo',\n",
       " 'phone',\n",
       " 'good',\n",
       " 'camera',\n",
       " 'mobile',\n",
       " 'quality',\n",
       " 'super',\n",
       " 'bad',\n",
       " 'fps',\n",
       " 'battery',\n",
       " 'flagship',\n",
       " 'good',\n",
       " 'quality',\n",
       " 'phone',\n",
       " 'price',\n",
       " 'camera',\n",
       " 'great',\n",
       " 'premium',\n",
       " 'battery',\n",
       " 'mobile',\n",
       " 'performance',\n",
       " 'phone',\n",
       " 'excellent',\n",
       " 'nice',\n",
       " 'camera',\n",
       " 'good',\n",
       " 'battery',\n",
       " 'experience',\n",
       " 'issue',\n",
       " 'display',\n",
       " 'iphone']"
      ]
     },
     "execution_count": 27,
     "metadata": {},
     "output_type": "execute_result"
    }
   ],
   "source": [
    "topic_list = []\n",
    "\n",
    "for topic in topics:\n",
    "    topic_num, topic_words = topic\n",
    "    words = [word.split('*')[1].strip('\"') for word in topic_words.split(\" + \")]\n",
    "    topic_list.append(words)\n",
    "\n",
    "topic_lda_Oneplus=[]\n",
    "[topic_lda_Oneplus.extend(k) for k in topic_list ]\n",
    "topic_lda_Oneplus"
   ]
  },
  {
   "cell_type": "code",
   "execution_count": 30,
   "id": "cfe5b90e",
   "metadata": {},
   "outputs": [
    {
     "data": {
      "text/plain": [
       "['camera',\n",
       " 'good',\n",
       " 'battery',\n",
       " 'day',\n",
       " 'performance',\n",
       " 'display',\n",
       " 'usage',\n",
       " 'month',\n",
       " 'good',\n",
       " 'camera',\n",
       " 'quality',\n",
       " 'performance',\n",
       " 'bad',\n",
       " 'issue',\n",
       " 'overall',\n",
       " 'photo',\n",
       " 'good',\n",
       " 'camera',\n",
       " 'quality',\n",
       " 'super',\n",
       " 'bad',\n",
       " 'fps',\n",
       " 'battery',\n",
       " 'flagship',\n",
       " 'good',\n",
       " 'quality',\n",
       " 'price',\n",
       " 'camera',\n",
       " 'great',\n",
       " 'premium',\n",
       " 'battery',\n",
       " 'performance',\n",
       " 'excellent',\n",
       " 'nice',\n",
       " 'camera',\n",
       " 'good',\n",
       " 'battery',\n",
       " 'experience',\n",
       " 'issue',\n",
       " 'display',\n",
       " 'iphone']"
      ]
     },
     "execution_count": 30,
     "metadata": {},
     "output_type": "execute_result"
    }
   ],
   "source": [
    "def remove_topic(topic_lda_Oneplus):\n",
    "    t = ['phone', 'oneplus','mobile']\n",
    "    for i in t:\n",
    "        while i in topic_lda_Oneplus:\n",
    "            topic_lda_Oneplus.remove(i)\n",
    "    return topic_lda_Oneplus\n",
    "\n",
    "topic_lda_Oneplus = remove_topic(topic_lda_Oneplus)\n",
    "topic_lda_Oneplus"
   ]
  },
  {
   "cell_type": "code",
   "execution_count": 29,
   "id": "6245afc8",
   "metadata": {},
   "outputs": [
    {
     "name": "stdout",
     "output_type": "stream",
     "text": [
      "\n",
      "Coherence Score:  0.7103389287889972\n"
     ]
    }
   ],
   "source": [
    "coherence_model_lda = CoherenceModel(\n",
    "    model=lda_model, \n",
    "    texts=tokenized_reviews, \n",
    "    dictionary=dictionary, \n",
    "    coherence='c_v'\n",
    ")\n",
    "coherence_lda = coherence_model_lda.get_coherence()\n",
    "print('\\nCoherence Score: ', coherence_lda)"
   ]
  }
 ],
 "metadata": {
  "kernelspec": {
   "display_name": "Python 3 (ipykernel)",
   "language": "python",
   "name": "python3"
  },
  "language_info": {
   "codemirror_mode": {
    "name": "ipython",
    "version": 3
   },
   "file_extension": ".py",
   "mimetype": "text/x-python",
   "name": "python",
   "nbconvert_exporter": "python",
   "pygments_lexer": "ipython3",
   "version": "3.11.5"
  }
 },
 "nbformat": 4,
 "nbformat_minor": 5
}
