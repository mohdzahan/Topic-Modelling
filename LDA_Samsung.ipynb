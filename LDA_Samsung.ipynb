{
 "cells": [
  {
   "cell_type": "code",
   "execution_count": 1,
   "id": "7aaabd82",
   "metadata": {},
   "outputs": [],
   "source": [
    "import pandas as pd\n",
    "import nltk\n",
    "import re, random, os\n",
    "from nltk.corpus import stopwords\n",
    "import spacy\n",
    "from sklearn.feature_extraction.text import TfidfVectorizer\n",
    "import gensim\n",
    "from gensim import corpora\n",
    "from gensim.models import LdaModel\n",
    "from gensim.models.coherencemodel import CoherenceModel"
   ]
  },
  {
   "cell_type": "code",
   "execution_count": 2,
   "id": "601c13bc",
   "metadata": {},
   "outputs": [],
   "source": [
    "df = pd.read_csv('Samsung_reviews.csv')"
   ]
  },
  {
   "cell_type": "code",
   "execution_count": 3,
   "id": "b08a8710",
   "metadata": {},
   "outputs": [
    {
     "data": {
      "text/plain": [
       "(300, 5)"
      ]
     },
     "execution_count": 3,
     "metadata": {},
     "output_type": "execute_result"
    }
   ],
   "source": [
    "df.shape"
   ]
  },
  {
   "cell_type": "code",
   "execution_count": 4,
   "id": "962d331a",
   "metadata": {},
   "outputs": [
    {
     "data": {
      "text/html": [
       "<div>\n",
       "<style scoped>\n",
       "    .dataframe tbody tr th:only-of-type {\n",
       "        vertical-align: middle;\n",
       "    }\n",
       "\n",
       "    .dataframe tbody tr th {\n",
       "        vertical-align: top;\n",
       "    }\n",
       "\n",
       "    .dataframe thead th {\n",
       "        text-align: right;\n",
       "    }\n",
       "</style>\n",
       "<table border=\"1\" class=\"dataframe\">\n",
       "  <thead>\n",
       "    <tr style=\"text-align: right;\">\n",
       "      <th></th>\n",
       "      <th>Unnamed: 0</th>\n",
       "      <th>Model</th>\n",
       "      <th>rating</th>\n",
       "      <th>title</th>\n",
       "      <th>review_text</th>\n",
       "    </tr>\n",
       "  </thead>\n",
       "  <tbody>\n",
       "    <tr>\n",
       "      <th>0</th>\n",
       "      <td>0</td>\n",
       "      <td>Samsung s20</td>\n",
       "      <td>5.0 out of 5 stars</td>\n",
       "      <td>5.0 out of 5 stars\\nS20- Better than Ultra!!\\n</td>\n",
       "      <td>\\nI'm coming from  S8. I didn't have any issue...</td>\n",
       "    </tr>\n",
       "    <tr>\n",
       "      <th>1</th>\n",
       "      <td>1</td>\n",
       "      <td>Samsung s20</td>\n",
       "      <td>1.0 out of 5 stars</td>\n",
       "      <td>1.0 out of 5 stars\\nNothing could be worst exp...</td>\n",
       "      <td>\\nNothing could be worst experience than this....</td>\n",
       "    </tr>\n",
       "    <tr>\n",
       "      <th>2</th>\n",
       "      <td>2</td>\n",
       "      <td>Samsung s20</td>\n",
       "      <td>5.0 out of 5 stars</td>\n",
       "      <td>5.0 out of 5 stars\\nGorgeous &amp; ergonomic form,...</td>\n",
       "      <td>\\nWhen you take a S20 into your hand, it is ba...</td>\n",
       "    </tr>\n",
       "    <tr>\n",
       "      <th>3</th>\n",
       "      <td>3</td>\n",
       "      <td>Samsung s20</td>\n",
       "      <td>4.0 out of 5 stars</td>\n",
       "      <td>4.0 out of 5 stars\\nGood camera phone with ave...</td>\n",
       "      <td>\\nReview after 1.5 months of use. Body and loo...</td>\n",
       "    </tr>\n",
       "    <tr>\n",
       "      <th>4</th>\n",
       "      <td>4</td>\n",
       "      <td>Samsung s20</td>\n",
       "      <td>3.0 out of 5 stars</td>\n",
       "      <td>3.0 out of 5 stars\\nReview After 4 Days.\\n</td>\n",
       "      <td>\\nI bought My S20 Last week its been 4 day I a...</td>\n",
       "    </tr>\n",
       "    <tr>\n",
       "      <th>5</th>\n",
       "      <td>5</td>\n",
       "      <td>Samsung s20</td>\n",
       "      <td>5.0 out of 5 stars</td>\n",
       "      <td>5.0 out of 5 stars\\nPowerpacked: everything is...</td>\n",
       "      <td>\\n*Reviewing after using it for 5 days*I had d...</td>\n",
       "    </tr>\n",
       "    <tr>\n",
       "      <th>6</th>\n",
       "      <td>6</td>\n",
       "      <td>Samsung s20</td>\n",
       "      <td>1.0 out of 5 stars</td>\n",
       "      <td>1.0 out of 5 stars\\nDamaged product\\n</td>\n",
       "      <td>\\nIts damaged even before using....kindly canc...</td>\n",
       "    </tr>\n",
       "    <tr>\n",
       "      <th>7</th>\n",
       "      <td>7</td>\n",
       "      <td>Samsung s20</td>\n",
       "      <td>5.0 out of 5 stars</td>\n",
       "      <td>5.0 out of 5 stars\\nMasterpiece Galaxy S 20\\n</td>\n",
       "      <td>\\nThis is my first premium phone and I am in L...</td>\n",
       "    </tr>\n",
       "    <tr>\n",
       "      <th>8</th>\n",
       "      <td>8</td>\n",
       "      <td>Samsung s20</td>\n",
       "      <td>3.0 out of 5 stars</td>\n",
       "      <td>3.0 out of 5 stars\\nIt is a huge downgrade whe...</td>\n",
       "      <td>\\nSo earlier samsung used to produce phones wi...</td>\n",
       "    </tr>\n",
       "    <tr>\n",
       "      <th>9</th>\n",
       "      <td>9</td>\n",
       "      <td>Samsung s20</td>\n",
       "      <td>5.0 out of 5 stars</td>\n",
       "      <td>5.0 out of 5 stars\\nRead this review before yo...</td>\n",
       "      <td>\\nFirst of all Delivery was really fast by ama...</td>\n",
       "    </tr>\n",
       "  </tbody>\n",
       "</table>\n",
       "</div>"
      ],
      "text/plain": [
       "   Unnamed: 0        Model              rating  \\\n",
       "0           0  Samsung s20  5.0 out of 5 stars   \n",
       "1           1  Samsung s20  1.0 out of 5 stars   \n",
       "2           2  Samsung s20  5.0 out of 5 stars   \n",
       "3           3  Samsung s20  4.0 out of 5 stars   \n",
       "4           4  Samsung s20  3.0 out of 5 stars   \n",
       "5           5  Samsung s20  5.0 out of 5 stars   \n",
       "6           6  Samsung s20  1.0 out of 5 stars   \n",
       "7           7  Samsung s20  5.0 out of 5 stars   \n",
       "8           8  Samsung s20  3.0 out of 5 stars   \n",
       "9           9  Samsung s20  5.0 out of 5 stars   \n",
       "\n",
       "                                               title  \\\n",
       "0     5.0 out of 5 stars\\nS20- Better than Ultra!!\\n   \n",
       "1  1.0 out of 5 stars\\nNothing could be worst exp...   \n",
       "2  5.0 out of 5 stars\\nGorgeous & ergonomic form,...   \n",
       "3  4.0 out of 5 stars\\nGood camera phone with ave...   \n",
       "4         3.0 out of 5 stars\\nReview After 4 Days.\\n   \n",
       "5  5.0 out of 5 stars\\nPowerpacked: everything is...   \n",
       "6              1.0 out of 5 stars\\nDamaged product\\n   \n",
       "7      5.0 out of 5 stars\\nMasterpiece Galaxy S 20\\n   \n",
       "8  3.0 out of 5 stars\\nIt is a huge downgrade whe...   \n",
       "9  5.0 out of 5 stars\\nRead this review before yo...   \n",
       "\n",
       "                                         review_text  \n",
       "0  \\nI'm coming from  S8. I didn't have any issue...  \n",
       "1  \\nNothing could be worst experience than this....  \n",
       "2  \\nWhen you take a S20 into your hand, it is ba...  \n",
       "3  \\nReview after 1.5 months of use. Body and loo...  \n",
       "4  \\nI bought My S20 Last week its been 4 day I a...  \n",
       "5  \\n*Reviewing after using it for 5 days*I had d...  \n",
       "6  \\nIts damaged even before using....kindly canc...  \n",
       "7  \\nThis is my first premium phone and I am in L...  \n",
       "8  \\nSo earlier samsung used to produce phones wi...  \n",
       "9  \\nFirst of all Delivery was really fast by ama...  "
      ]
     },
     "execution_count": 4,
     "metadata": {},
     "output_type": "execute_result"
    }
   ],
   "source": [
    "df.head(10)"
   ]
  },
  {
   "cell_type": "code",
   "execution_count": 5,
   "id": "fffc595e",
   "metadata": {},
   "outputs": [],
   "source": [
    "import re\n",
    "\n",
    "def remove_ratings(title):\n",
    "    return re.sub(r'\\d+\\.\\d+ out of \\d+ stars', '', title).strip()"
   ]
  },
  {
   "cell_type": "code",
   "execution_count": 6,
   "id": "b3dbacbc",
   "metadata": {},
   "outputs": [],
   "source": [
    "df['title'] = df['title'].apply(remove_ratings)"
   ]
  },
  {
   "cell_type": "code",
   "execution_count": 7,
   "id": "a23417c7",
   "metadata": {},
   "outputs": [],
   "source": [
    "df['reviews'] =df['review_text']"
   ]
  },
  {
   "cell_type": "code",
   "execution_count": 8,
   "id": "31e11b33",
   "metadata": {},
   "outputs": [
    {
     "name": "stderr",
     "output_type": "stream",
     "text": [
      "[nltk_data] Downloading package stopwords to\n",
      "[nltk_data]     /Users/mohdzahan/nltk_data...\n",
      "[nltk_data]   Package stopwords is already up-to-date!\n"
     ]
    },
    {
     "data": {
      "text/plain": [
       "True"
      ]
     },
     "execution_count": 8,
     "metadata": {},
     "output_type": "execute_result"
    }
   ],
   "source": [
    "nltk.download('stopwords')"
   ]
  },
  {
   "cell_type": "code",
   "execution_count": 9,
   "id": "47c550b2",
   "metadata": {},
   "outputs": [
    {
     "name": "stderr",
     "output_type": "stream",
     "text": [
      "[nltk_data] Downloading package punkt to /Users/mohdzahan/nltk_data...\n",
      "[nltk_data]   Package punkt is already up-to-date!\n"
     ]
    },
    {
     "data": {
      "text/plain": [
       "True"
      ]
     },
     "execution_count": 9,
     "metadata": {},
     "output_type": "execute_result"
    }
   ],
   "source": [
    "nltk.download('punkt')"
   ]
  },
  {
   "cell_type": "code",
   "execution_count": 10,
   "id": "fa3cb1f7",
   "metadata": {},
   "outputs": [],
   "source": [
    "emoji_pattern = re.compile(\n",
    "    \"[\"\n",
    "    \"\\U0001F600-\\U0001F64F\"  # emoticons\n",
    "    \"\\U0001F300-\\U0001F5FF\"  # symbols & pictographs\n",
    "    \"\\U0001F680-\\U0001F6FF\"  # transport & map symbols\n",
    "    \"\\U0001F1E0-\\U0001F1FF\"  # flags (iOS)\n",
    "    \"\\U00002702-\\U000027B0\"\n",
    "    \"\\U000024C2-\\U0001F251\"\n",
    "    \"]+\",\n",
    "    flags=re.UNICODE\n",
    ")"
   ]
  },
  {
   "cell_type": "code",
   "execution_count": null,
   "id": "b780211a",
   "metadata": {},
   "outputs": [],
   "source": []
  },
  {
   "cell_type": "code",
   "execution_count": 11,
   "id": "02917ffb",
   "metadata": {},
   "outputs": [],
   "source": [
    "\n",
    "df['reviews'] = df['reviews'].astype(str)"
   ]
  },
  {
   "cell_type": "code",
   "execution_count": 12,
   "id": "c92accf8",
   "metadata": {},
   "outputs": [],
   "source": [
    "from nltk.corpus import stopwords\n",
    "\n",
    "stop_words = stopwords.words('english')\n",
    "\n",
    "def preprocess(text):\n",
    "    text = text.replace('\\n', '.')\n",
    "    text = emoji_pattern.sub(r'', text)  \n",
    "    text = re.sub(r'\\d+', '', text)  \n",
    "    text = re.sub(r'\\s+', ' ', text)  \n",
    "    text = re.sub(r'[^\\w\\s]', '', text)\n",
    "    text = text.lower()  \n",
    "    text = ' '.join(word for word in text.split() if word not in stop_words)  \n",
    "    return text\n",
    "\n",
    "df['reviews'] = df['reviews'].apply(preprocess)"
   ]
  },
  {
   "cell_type": "code",
   "execution_count": null,
   "id": "01675b93",
   "metadata": {},
   "outputs": [],
   "source": []
  },
  {
   "cell_type": "code",
   "execution_count": 13,
   "id": "82f3f8c1",
   "metadata": {},
   "outputs": [],
   "source": [
    "nlp = spacy.load('en_core_web_md', disable = ['parser', 'ner'])\n",
    "\n",
    "def lemmatization(texts, allowed_postags=['NOUN', 'ADJ']):\n",
    "    output = []\n",
    "    for text in texts:\n",
    "        doc = nlp(text)\n",
    "        output.append([token.lemma_ for token in doc if token.pos_ in allowed_postags])\n",
    "    return output\n",
    "\n",
    "tokenized_reviews = lemmatization(df['reviews'].tolist())"
   ]
  },
  {
   "cell_type": "code",
   "execution_count": null,
   "id": "cf767667",
   "metadata": {},
   "outputs": [],
   "source": [
    "def remove_topic(tokenized_reviews):\n",
    "    unwanted = ['phone', 'oneplus','mobile']\n",
    "    for i in unwanted:\n",
    "        while i in tokenized_reviews:\n",
    "            tokenized_reviews.remove(i)\n",
    "    return tokenized_reviews\n",
    "\n",
    "tokenized_reviews = remove_topic(tokenized_reviews)\n",
    "tokenized_reviews"
   ]
  },
  {
   "cell_type": "code",
   "execution_count": 14,
   "id": "a1f04a7d",
   "metadata": {},
   "outputs": [
    {
     "name": "stdout",
     "output_type": "stream",
     "text": [
      "[['phone', 'year', 'worth', 'screen', 'tall', 'phone', 'similar', 'size', 'phone', 'processor', 'smart', 'switch', 'phone', 'easy', 'samsung', 'flexible', 'lot', 'customization', 'screen', 'thing', 'beautiful', 'toned', 'useless', 'curved', 'side', 'screen', 'hole', 'front', 'great', 'refresh', 'rate', 'resolution', 'samsung', 'incredible', 'display', 'difference', 'resolution', 'refresh', 'rate', 'phone', 'camera', 'great', 'flagship', 'phone', 'good', 'tech', 'notice', 'minor', 'benefit', 'difference', 'thing', 'setting', 'great', 'picture', 'scenario', 'night', 'time', 'complaint', 'wireless', 'bloatware', 'quirky', 'thing', 'service', 'area', 'superior', 'many', 'carrier', 'able', 'gb', 'microsd', 'claim', 'well', 'g', 'general', 'stupid', 'reason', 'verizon', 'record', 'one', 'cost', 'saving', 'measure', 'phone', 'tolerable', 'tech', 'big', 'sibling', 'fraction', 'price', 'pocketable', 'form', 'factor', 'important', 'small', 'phone', 'top', 'line', 'flagship', 'screen', 'camera', 'processor', 'phone', 'mid', 'tier', 'price', 'range', 'thing', 'gb', 'factor', 'extra', 'take', 'advantage', 'regular', 'user', 'lack', 'ram', 'memory', 'expansion', 'little', 'disappointing', 'base', 'model', 'plenty', 'general', 'fantastic', 'phone', 'great', 'price', 'phone', 'great', 'hyper', 'sensitive', 'techie', 'care', 'concession', 'day', 'use'], ['thing', 'camera', 'quality', 'wonderful', 'refresh', 'rate', 'display', 'great', 'heatercontinuous', 'use', 'camera', 'video', 'hold', 'minute', 'exyno', 'inefficient', 'chip', 'heat', 'phoneno', 'value', 'money', 'heating', 'problem', 'update', 'nightmare'], ['hand', 'glass', 'slab', 'metal', 'frame', 'light', 'solid', 'dense', 'grip', 'comfortable', 'hand', 'use', 'narrow', 'form', 'wake', 'glass', 'slab', 'life', 'favourite', 'pic', 'wallpaper', 'life', 'thing', 'screen', 'thank', 'amazing', 'display', 'fluidity', 'unreal', 'soothing', 'gesture', 'phone', 'delightful', 'experience', 'phone', 'slow', 'stutter', 'loaded', 'memory', 'processing', 'power', 'camera', 'amazing', 'novice', 'photographer', 'good', 'shot', 'other', 'awe', 'wonder', 'photo', 'ton', 'ton', 'phone', 'useful', 'screen', 'recorder', 'bixby', 'routine', 'operating', 'system', 'notch', 'good', 'system', 'io', 'decent', 'extraordinary', 'useful', 'maximum', 'power', 'saving', 'mode', 'compensate', 'good', 'dash', 'charginggorgeous', 'ergonomic', 'form', 'strong', 'build', 'brilliant', 'display', 'superfluid', 'operating', 'system', 'good', 'gadget', 'inch', 'good', 'experience', 'good', 'well', 'month', 'phone', 'loving', 'minute'], ['review', 'month', 'body', 'wise', 'fabulous', 'easy', 'hold', 'hand', 'battery', 'life', 'average', 'charge', 'phone', 'video', 'game', 'finger', 'sensor', 'smooth', 'need', 'press', 'unlock', 'phone', 'many', 'time', 'camera', 'quality', 'love', 'phone', 'reboot', 'multiple', 'time', 'reason', 'phone', 'error', 'report', 'site', 'unexpected', 'reboot', 'day', 'lag', 'performance', 'rating', 'pro', 'con', 'flagship', 'phone', 'premium', 'price', 'clear', 'view', 'cover', 'offer', 'customer', 'information', 'product', 'description'], ['last', 'week', 'day', 'phone', 'main', 'problem', 'phone', 'heating', 'issue', 'gamer', 'phone', 'playing', 'game', 'battery', 'life', 'highend', 'mobile', 'main', 'mobile', 'phone', 'battery', 'heat', 'fingerprint', 'reader', 'bad', 'attempt', 'phonegood', 'thing', 'smooth', 'compact', 'premium', 'camera'], ['beauty', 'sized', 'compact', 'powerful', 'phone', 'go', 'confused', 'happy', 'opt', 'chinese', 'phone', 'compromise', 'securityi', 'discount', 'color', 'cosmic', 'graybox', 'content', 'phone', 'scratch', 'type', 'good', 'power', 'adapter', 'fast', 'charging', 'hour', 'phone', 'transparent', 'case', 'camera', 'amazing', 'page', 'sample', 'front', 'camera', 'good', 'skeptical', 'megapixel', 'good', 'world', 'fan', 'large', 'screen', 'performance', 'lag', 'big', 'game', 'form', 'factor', 'solid', 'sleek', 'design', 'single', 'hand', 'hand', 'edge', 'display', 'love', 'notification', 'screen', 'glow', 'edge', 'ui', 'infact', 'customizable', 'stock', 'bixby', 'apart', 'routine', 'much', 'water', 'dust', 'resistant', 'expensive', 'phonecon', 'performance', 'battery', 'fast', 'finger', 'print', 'sensor', 'press', 'toto', 'chinese', 'brand', 'iphone', 'series', 'way', 'powerful', 'good', 'class'], ['refund', 'money'], ['first', 'premium', 'phone', 'love', 'type', 'display', 'smartphone', 'job', 'ram', 'management', 'good', 'app', 'background', 'long', 'duration', 'reload', 'camera', 'decent', 'job', 'good', 'compare', 'pixel', 'well', 'iphone', 'serie', 'many', 'scenario', 'front', 'camera', 'good', 'good', 'selfie', 'rear', 'camera', 'good', 'time', 'single', 'takewhich', 'good', 'feature', 'speaker', 'clear', 'crisp', 'design', 'handy', 'good', 'size', 'smartphone', 'love', 'con', 'battery', 'quick', 'software', 'issue', 'phone', 'morning', 'sensor', 'software', 'final', 'recommendation', 'thisyou', 'love'], ['early', 'phone', 'variant', 'similar', 'performance', 'year', 'performance', 'difference', 'huge', 'phone', 'main', 'gripewhat', 'bad', 'battery', 'run', 'slow', 'variant', 'phone', 'heat', 'quick', 'throttle', 'video', 'callsthe', 'refresh', 'rate', 'phone', 'hot', 'happen', 'even', 'camera', 'quality', 'worseso', 'sum', 'bad', 'performance', 'variant', 'bad', 'battery', 'life', 'bad', 'photo', 'part', 'month', 'device', 'battery', 'last', 'day', 'phone', 'issue', 'star'], ['first', 'delivery', 'amazon', 'review', 'review', 'bad', 'exyno', 'processor', 'opinion', 'performance', 'difference', 'minor', 'lot', 'review', 'multiple', 'thread', 'exyno', 'processor', 'second', 'thought', 'purchase', 'phone', 'week', 'glad', 'didpeople', 'testing', 'game', 'device', 'battery', 'life', 'phone', 'hot', 'think', 'lot', 'phone', 'game', 'honest', 'pc', 'laptop', 'heavy', 'game', 'dedicated', 'machine', 'play', 'game', 'phone', 'gaming', 'thousand', 'device', 'game', 'trust', 'device', 'game', 'case', 'hour', 'screen', 'time', 'phone', 'hot', 'iphone', 'hot', 'thing', 'big', 'deal', 'finger', 'print', 'sensor', 'work', 'physical', 'finger', 'print', 'sensorcamera', 'quality', 'good', 'capture', 'video', 'sharpthe', 'new', 'user', 'interface', 'ui', 'combined', 'display', 'device', 'menu', 'app', 'buttery', 'display', 'sharp', 'headphone', 'jack', 'device', 'wireless', 'earphonesoverall', 'phone', 'awesome', 'phone', 'look', 'great', 'hand', 'lot', 'compliment', 'people', 'beautiful', 'phone'], ['year', 'personal', 'choice', 'boycott', 'getpros', 'beautiful', 'look', 'lag', 'smooth', 'interface', 'multiple', 'superfast', 'chargingcon', 'pathetic', 'battery', 'backup', 'camera', 'similar', 'oneplus', 'new', 'feature', 'x', 'clarity', 'image', 'pixelated', 'touch', 'sensor', 'smooth', 'face', 'unlock', 'inferior', 'screen', 'size', 'small', 'notification', 'ringtone', 'app', 'possible', 'worthy', 'upgrade', 'seriesstill', 'vivo', 'oppo', 'realme'], ['display', 'awesome', 'phone', 'fasters', 'smooth', 'camera', 'top', 'good', 'range', 'work', 'fingerprint', 'reader', 'bit', 'slow', 'general', 'theme', 'phone', 'battery', 'life', 'day', 'usageand', 'review', 'heating', 'issue', 'normal', 'usage', 'call', 'staggering', 'degc', 'video', 'camera', 'temp', 'high', 'talk', 'amazon', 'replacement', 'least', 'device', 'faulty'], ['perfect', 'phone', 'snapdragon', 'phone', 'chip', 'load', 'phone', 'joke', 'flagship', 'substandard', 'chip', 'price', 'result', 'heating', 'issue', 'low', 'batterycamera', 'app', 'min', 'usage', 'due', 'excessive', 'heating', 'phone', 'n', 'number', 'update', 'chip', 'phone'], ['good', 'class', 'mobile', 'excellent', 'camera', 'performance', 'premium', 'handy', 'use', 'aspect', 'ratio', 'good', 'performance', 'high', 'end', 'game', 'lag', 'good', 'display', 'phonecon', 'battery', 'performance', 'great', 'exyno', 'processor', 'great', 'deal', 'last', 'day', 'moderate', 'use', 'fingerprint', 'sensor'], ['phone', 'perfect', 'use', 'display', 'smooth', 'see', 'camera', 'good', 'significant', 'upgrade', 'threeyear', 'old', 'see', 'lot', 'complaint', 'heavy', 'gamer', 'video', 'hour', 'stretch', 'performancewise', 'complain', 'con', 'fingerprint', 'sensor', 'miss', 'previous', 'iteration', 'speaker', 'horrible', 'earphone', 'great', 'sound', 'quality', 'earphone', 'slot', 'usbc', 'earphone', 'people', 'phone', 'use', 'earphone', 'time'], ['awesome', 'qhdcamera', 'good', 'market', 'mobile', 'thereperformace', 'reviewing', 'phone', 'monthexyno', 'bad', 'processor', 'flagship', 'snapdragon', 'socheat', 'normal', 'usage', 'drain', 'battery', 'swiftlyand', 'game', 'phone', 'able', 'phone', 'result', 'immense', 'heat', 'phonealso', 'issue', 'earliercomparable', 'slow', 'performancei', 'phone', 'itthis', 'bad', 'decision', 'phone', 'asian', 'region'], ['phone', 'moto', 'year', 'great', 'change', 'here', 'personal', 'opiniondisplay', 'option', 'phzcamera', 'aboutbattery', 'enoughperformance', 'hiccup', 'lot', 'quality', 'disappointed', 'purchase'], ['much', 'day', 'pro', 'con', 'gaming', 'photography', 'happy', 'camera', 'part', 'performance', 'snapdragon', 'well', 'display', 'smooth', 'pro', 'con', 'camera', 'improvement', 'sconsthe', 'fingerprint', 'scanner', 'rate', 'drain', 'batteryit', 'capacity', 'mahinterface', 'oneui', 'audio', 'headphone', 'inch', 'qhdthanksprateek'], ['big', 'shout', 'amazon', 'customer', 'care', 'lot', 'heating', 'issue', 'screen', 'time', 'hour', 'minimal', 'usage', 'phone', 'hasslesit', 'great', 'camera', 'screen', 'unit', 'confident', 'unit', 'samsunggot', 'galaxy', 'bud', 'order', 'offer', 'great'], ['saddest', 'part', 'phone', 'use', 'earphone', 'port', 'bothalso', 'type', 'power', 'end', 'cable', 'cable', 'plug'], ['version', 'battery', 'life', 'hour', 'less', 'iphone', 'apple', 'whole', 'day', 'reader', 'fit', 'finger', 'press', 'multiple', 'time', 'future', 'software', 'update', 'camera', 'good', 'stable', 'love'], ['review', 'day', 'phone', 'nice', 'good', 'display', 'segment', 'flagship', 'smart', 'phone', 'slim', 'abd', 'slippery'], ['phone', 'ordinary', 'becauae', 'immage', 'identical', 'comfort', 'finger', 'print', 'reader', 'battery', 'life', 'good', 'price', 'value', 'money'], ['phone', 'respect', 'performance', 'camera', 'flagship', 'product', 'big', 'sensor', 'back', 'check', 'much', 'buying'], ['pro', 'great', 'camera', 'good', 'display', 'smartphone', 'available', 'market', 'topnotch', 'quality', 'decent', 'battery', 'life', 'smooth', 'ui', 'due', 'refresh', 'rate', 'lightweight', 'great', 'speakerscon', 'heavy', 'gaming', 'fingerprint', 'reader'], ['technical', 'inspection', 'person', 'money', 'name', 'refund', 'amazon', 'customer', 'service', 'center', 'new', 'mobile', 'fault', 'heating', 'chargin', 'battery', 'issue'], ['heating', 'issue', 'game', 'everyone', 'phone', 'upexyno', 'well', 'phography', 'bad', 'gaming', 'phone', 'problem', 'good', 'well', 'premium', 'phone', 'good', 'camera', 'phone', 'brand', 'value', 'comparable', 'apple', 'go', 'phone', 'use', 'itscreen', 'time', 'hrs', 'wqhd', 'resolutionbest'], ['screen', 'utility', 'edge', 'screen', 'area', 'enjoyable', 'mobile', 'thin', 'scratch', 'mobile', 'light', 'color', 'young', 'reflective', 'panache', 'stereo', 'speaker', 'display', 'video', 'experience', 'interestingthe', 'battery', 'life', 'adequate', 'long', 'prefer', 'placement', 'fingerprint', 'sensor', 'previous', 'model', 'screen', 'sensor', 'bonus', 'discount', 'galaxy', 'bud', 'mobile', 'worth', 'money'], [], ['excellent', 'display', 'refresh', 'rate', 'camera', 'good', 'wide', 'angle', 'pro', 'mode', 'slow', 'motion', 'lapse', 'night', 'mode', 'much', 'zoom', 'much', 'clarity', 'good', 'good', 'battery', 'life', 'heat', 'heavy', 'game', 'quality', 'gaming', 'lag', 'update', 'late', 'android', 'pixelmust', 'budget', 'k'], ['good', 'screen', 'excellent', 'battery', 'life', 'excellent', 'speakersfingerprint', 'scanner', 'good', 'hope', 'chip', 'heating', 'issue', 'game', 'overall', 'good', 'package', 'good', 'deal', 'device'], ['overall', 'phone', 'good', 'heat', 'lot', 'minute', 'normal', 'use', 'heavy', 'app', 'heat', 'much', 'finger', 'old', 'phone', 'big', 'first', 'time', 'high', 'expectation', 'major', 'issue', 'phone', 'thankful', 'amazon', 'amazing', 'customer', 'care', 'service', 'technician', 'phone', 'able', 'return'], ['fingerprint', 'reader', 'slow', 'new', 'update', 'issue', 'battery', 'heavy', 'usage', 'overall', 'performance', 'cool'], ['fingerprint', 'reader', 'mark', 'well', 'phone', 'good', 'camera', 'good', 'battery', 'good', 'phone', 'nice', 'ui', 'phone'], ['low', 'performance', 'phone', 'performance', 'bloated', 'software', 'phone'], ['amazing', 'performance', 'thorough', 'thought', 'aspect', 'phone', 'design', 'flawless', 'sleek', 'compact', 'beautiful', 'light', 'weight', 'hour', 'tension', 'hand', 'phone', 'user', 'friendly', 'camera', 'phone', 'amazing', 'slow', 'motion', 'feature'], ['well', 'phone', 'big', 'screen', 'great', 'overall', 'fantastic', 'camera', 'great', 'earphone', 'accessory', 'worth', 'drawback', 'common', 'c', 'type', 'port', 'usb', 'plug', 'prevent', 'phone', 'plugging', 'earphone', 'time', 'bland', 'colour', 'choice'], ['phone', 'gift', 'birthday', 'good', 'phone', 'series', 'phone', 'week', 'well', 'sensor', 'quick', 'battery', 'life', 'hr', 'phone', 'dogo', 'itthis', 'money'], ['good', 'feature', 'wowfeature', 'many', 'featurescamera', 'wowvideo', 'display', 'wownow', 'joke', 'feature', 'battery', 'bad', 'good', 'battery', 'switch', 'feature', 'phone', 'nokia', 'due', 'exyno', 'processor', 'final', 'verdict'], ['finger', 'print', 'reader', 'average', 'front', 'camera', 'good', 'inclass', 'main', 'camera', 'good', 'display', 'good', 'good', 'battery', 'life', 'good', 'awesome', 'overall', 'good', 'phone', 'compact', 'form', 'factor'], ['overall', 'phone', 'user', 'experience', 'goodthe', 'fingerprint', 'scanner', 'unresponsive', 'sometimesthe', 'battery', 'backup', 'good', 'day', 'hrs', 'screen', 'rate', 'highlight', 'phone', 'experience', 'awesomeoverall', 'phone', 'value', 'money'], ['phone', 'premium', 'camera', 'great', 'video', 'flagship', 'performance', 'good', 'display', 'great', 'battery', 'life', 'good', 'fingerprint', 'reader', 'improved', 'consistentgood', 'card', 'support', 'incase', 'increase', 'capacity', 'ip', 'water', 'resistant', 'handy', 'rainy', 'weather', 'photo', 'video'], ['poor', 'battery', 'performancei', 'phone', 'excellent'], ['phone', 'camera', 'ultra', 'wide', 'angle', 'zoom', 'feature', 'fantastic', 'phone', 'perform', 'setup', 'phone', 'office', 'enough', 'performing', 'function', 'mobility', 'mobile', 'phone', 'level'], ['review', 'phone', 'month', 'class', 'rival', 'rate', 'high', 'trend', 'love', 'phone', 'compact', 'handy', 'people', 'small', 'phone', 'galaxy'], ['product', 'worth', 'money', 'bad', 'battery', 'life', 'heat', 'food', 'terrible', 'bad', 'phone'], ['iphone', 'beauty', 'nice', 'phone', 'smooth', 'display', 'amazing', 'sound', 'quality', 'dolby', 'atmo', 'amazing', 'rate', 'iphone', 'easy', 'worth', 'heavy', 'usage', 'battery', 'last', 'upto', 'full', 'day', 'percent'], ['iphone', 'user', 'life', 'jump', 'phone', 'way', 'well', 'feature', 'iphone', 'screen', 'camera', 'battery', 'life', 'well', 'use', 'phone', 'lot', 'comment', 'month', 'line'], ['good', 'phone', 'battery', 'life', 'fingerprint', 'reader'], ['fingerprint', 'reader', 'sluggish', 'phone', 'hot'], ['size', 'handcamera', 'lag', 'app', 'much', 'fasterlook', 'premiumin', 'box', 'silicone', 'back', 'cover', 'protective', 'film', 'screen', 'fittedbud', 'huge', 'discount', 'mrp', 'part', 'great', 'buy'], ['phone', 'overheat', 'lot', 'playing', 'game', 'display', 'refresh', 'rate'], ['lot', 'issue', 'video', 'call', 'mobile', 'able', 'nearby', 'object', 'bty', 'less', 'hr', 'regular', 'activity'], ['flagship', 'phone', 'flagship', 'areasawesome', 'build', 'camera', 'different', 'shot', 'nightclean', 'simple', 'lagawesome', 'experience', 'pubg', 'fornite', 'gamesound', 'quality', 'great', 'good', 'stereo', 'speakerscharger', 'wattage', 'great', 'phone'], ['mother', 'long', 'multiple', 'attempt', 'phone', 'amazing', 'price', 'credit', 'card', 'discount', 'spacial', 'promotion', 'cheap', 'needless', 'touch', 'camera', 'user', 'experience', 'battery', 'life'], ['ass', 'phone', 'fly', 'screen', 'stunning', 'great', 'camera', 'phenomenal', 'drawback', 'device', 'battery', 'entire', 'day', 'phone', 'heat', 'software', 'patch', 'good', 'go'], ['wowthis', 'phone', 'good', 'phone', 'iphone', 'sand', 'awesome', 'rounder', 'perfect', 'size', 'water', 'resistant', 'beautiful', 'camera', 'premium', 'look', 'many', 'thingsi', 'word', 'phone', 'mobile'], ['good', 'upgrade', 'egde', 'update', 'technology', 'product', 'good'], ['good', 'handy', 'phone', 'good', 'spec', 'display', 'amazingheavy', 'user', 'battery', 'life', 'bit'], ['time', 'voice', 'outgoing', 'voice', 'course', 'call', 'fault', 'problem', 'month', 'handset', 'warranty', 'period', 'handset'], ['camera', 'phone', 'problem', 'auto', 'mode', 'unable', 'focus', 'close', 'object', 'less', 'cm', 'close', 'photograph', 'blurry', 'focus', 'hardware', 'issue', 'user', 'world', 'software', 'update', 'spending', 'flagship', 'phone', 'basic', 'right'], ['good', 'camera', 'blurry', 'closeup', 'subject', 'due', 'large', 'sensor', 'size', 'ui', 'update', 'heat', 'issue', 'pubg', 'update', 'constant', 'fps', 'smooth', 'graphic', 'problem', 'slow', 'hot'], ['good', 'product', 'good'], ['finger', 'print', 'reader', 'slow', 'battery', 'life', 'camera', 'quality'], ['pro', 'great', 'camera', 'good', 'display', 'smartphonesavailable', 'market', 'topnotch', 'quality', 'decent', 'battery', 'life', 'smooth', 'ui', 'due', 'lightweight', 'great', 'speakerscon', 'heavy', 'gaming'], ['good', 'great', 'phone', 'perfect', 'size', 'good', 'screen', 'high', 'end', 'android', 'high', 'refresh', 'rate', 'option', 'kind'], ['great', 'cameraaverage', 'battery', 'life', 'refresh', 'rate', 'rapidlygood', 'speaker'], ['fingerprint', 'sensor', 'upto', 'mark', 'good', 'camera', 'quality', 'nice', 'many', 'mode', 'available', 'photo', 'video', 'battery', 'life', 'hour', 'video', 'day', 'light', 'weight', 'handy', 'mah', 'battery', 'sleek', 'design', 'awesome'], ['phone', 'software', 'issue', 'fair', 'phone', 'couple', 'month', 'several', 'update', 'great', 'phone', 'buy'], ['gift', 'wife', 'huge', 'decision', 'shift', 'iphone', 'yearsi', 'nervous', 'phone', 'feature', 'ease', 'use', 'big', 'smile', 'face'], ['speakerphone', 'call', 'software', 'update', 'frustrating', 'battery', 'life', 'disappointing', 'frequent', 'recharge', 'galaxy', 'bud', 'annual', 'insurance', 'scheme', 'rate', 'phone', 'galaxy', 'bud', 'post', 'payment', 'insurance', 'care', 'package'], ['pro', 'sleek', 'model', 'term', 'decentcon', 'terrible', 'battery', 'lifeheat', 'long', 'time'], ['good', 'phone', 'different', 'term', 'experience'], ['early', 'camera', 'phone', 'great', 'disappointmentthe', 'camera', 'bad', 'high', 'price', 'useless', 'camera', 'x', 'zoom', 'comedy', 'many', 'less', 'price', 'cariant', 'phone', 'good', 'camera', 'autofocus', 'poor', 'average', 'chinese', 'camera'], ['nice', 'phone'], ['beautiful', 'phone', 'performance', 'enough', 'user', 'amazing', 'battery', 'life', 'reader', 'amazing'], ['mobile', 'good', 'fastbattery', 'life', 'hour', 'full', 'charge', 'phone', 'heat', 'heavy', 'app', 'good'], ['major', 'change'], ['broken', 'phone', 'cover', 'product'], ['pro', 'good', 'size', 'great', 'display', 'good', 'user', 'interface', 'call', 'quality', 'cameracon', 'battery', 'life', 'refresh', 'rate', 'last', 'day', 'heavy', 'usage', 'snapdragon', 'version', 'well', 'battery', 'performance'], ['size', 'hand'], ['phone', 'month', 'amazing', 'feature', 'much', 'fingerprint', 'reader', 'battery', 'life', 'worth', 'money', 'phone'], ['year', 'screen', 'flicker', 'week', 'time', 'complete', 'white', 'screen', 'green', 'tint', 'service', 'center', 'replace', 'screen', 'disappointing', 'experience'], ['series', 'guess', 'stick', 'amazing', 'phone', 'mind', 'camera'], ['amazing', 'phone', 'good', 'battery', 'life', 'high', 'resolution', 'camera', 'sleek', 'handy', 'processor', 'fast', 'touch', 'quality', 'super', 'responsiveoverall', 'absolute', 'value', 'money'], ['satisfied', 'productnice', 'performance', 'smooth', 'light', 'weight', 'minimal', 'spacefinger', 'print', 'reader', 'fast', 'battery', 'performance'], ['wonderful', 'customer', 'support', 'day', 'reset', 'device', 'heat', 'call', 'photo', 'kind', 'worthless', 'product', 'disheartening', 'service', 'amazon'], ['user', 'friendly'], ['memory', 'speed', 'excellent', 'camera', 'lot', 'new', 'feature', 'edge', 'display', 'usefull'], ['phone', 'worth', 'amazon', 'lakh', 'money'], ['good', 'phone'], ['amazing', 'product', 'love', 'time', 'packing'], ['battery', 'backup', 'bad', 'day', 'heating', 'min', 'usage', 'problem', 'multiple', 'task', 'day', 'product', 'boughtthe', 'good', 'thing', 'camera', 'smartphone'], ['betterno', 'heating', 'lag', 'issue'], ['global', 'peace'], ['good', 'mobile', 'phone', 'buying'], ['good'], ['overall', 'good', 'device', 'excellent', 'displaybuild', 'quality', 'easy', 'single', 'hand'], ['phone', 'serious', 'problem', 'difficult', 'hold', 'handset', 'camera', 'good', 'battery', 'heating', 'issue', 'bad', 'time', 'phone'], ['good', 'phonethe', 'issue', 'less', 'battery', 'life'], ['photo', 'device', 'able', 'good', 'price', 'display', 'good', 'small', 'size', 'badda', 'iphone', 'x', 'recordingit', 'con', 'battery', 'full', 'charge', 'hour', 'twice', 'daymy', 'review', 'level', 'picture', 'record', 'video', 'compact', 'devicesif', 'hardcore', 'thing', 'phone', 'gaming', 'video', 'editing', 'r'], ['video', 'player', 'videoplaymutecurrent', 'time', 'duration', 'stream', 'type', 'liveseek', 'time', 'xplayback', 'ratechapterschaptersdescriptionsdescription', 'selectedcaptionscaption', 'automatedaudio', 'trackdefault', 'modal', 'device', 'weekabout', 'battery', 'time', 'usage', 'pattern', 'day', 'battery', 'backup', 'betteri', 'moto', 'battery', 'early', 'device', 'problem', 'consumer', 'battery', 'backup', 'other', 'complete', 'day', 'abundant', 'photographyi', 'game', 'device', 'day', 'old', 'mobile', 'charge', 'bed', 'time', 'next', 'morning', 'usage', 'satisfctory', 'battery', 'backup', 'break', 'deal', 'reason', 'other', 'know', 'usage', 'first', 'study', 'screen', 'time', 'pattern', 'old', 'deviceother', 'battery', 'issue', 'mob', 'normal', 'good', 'thing', 'notice', 'bak', 'cool', 'fast', 'heating', 'deal', 'breaker', 'warm', 'heatsr', 'mob', 'aspect', 'screen', 'camera', 'quality', 'well', 'iphone', 'device', 'snappy', 'perfect', 'form', 'factor', 'loging', 'longi', 'quality', 'photograph'], ['impressive', 'feature', 'couple', 'notable', 'drawbacksbattery', 'life', 'heating', 'short', 'battery', 'department', 'charge', 'day', 'heavy', 'user', 'heat', 'usage', 'usersfingerprint', 'sensor', 'positive', 'note', 'fingerprint', 'sensor', 'excellent', 'fast', 'reliable', 'authenticationdisplay', 'stunning', 'amoled', 'display', 'maximum', 'brightness', 'nit', 'vibrant', 'visual', 'quality', 'audio', 'quality', 'ss', 'stereo', 'speaker', 'immersive', 'sound', 'many', 'smartphone', 'interface', 'device', 'ui', 'smooth', 'intuitive', 'user', 'experience', 'minimal', 'bloatware', 'application', 'usabilitycamera', 'camera', 'setup', 'impressive', 'triple', 'rear', 'camera', 'ois', 'night', 'optical', 'zoom', 'ability', 'record', 'rear', 'camera', 'photography', 'enthusiastsperformance', 'processor', 'responsive', 'performance', 'smooth', 'gaming', 'experiencesdurability', 'gorilla', 'glass', 'rating', 'water', 'dust', 'resistance', 'durability', 'peace', 'mind', 'quality', 'camera', 'performance', 'user', 'interface', 'limited', 'battery', 'life', 'tendency', 'heat', 'significant', 'concern', 'potential', 'buyer', 'drawback', 'premium', 'smartphone', 'experience', 'plethora', 'feature'], ['phone', 'monster', 'inch', 'display', 'term', 'performance', 'various', 'aspect', 'camera', 'pro', 'grade', 'display', 'marvelous', 'sound', 'loud', 'immersive', 'experience', 'quality', 'next', 'level', 'steel', 'fram', 'gorilla', 'glass', 'protection', 'front', 'back', 'performance', 'amazing', 'full', 'power', 'display', 'butter', 'smooth', 'nit', 'brightness', 'display', 'aspect', 'full', 'mark', 'big', 'flaw', 'phone', 'battery', 'power', 'phone', 'high', 'consumption', 'capacity', 'heavy', 'user', 'gaming', 'performance', 'awesome', 'due', 'battery', 'prolonged', 'basis', 'little', 'bit', 'issue', 'heavy', 'tasking', 'phone', 'day', 'casual', 'user', 'last', 'whole', 'day', 'heavy', 'user', 'full', 'day', 'battery', 'people', 'casual', 'user', 'normal', 'day', 'day', 'use', 'pro', 'grade', 'phone', 'premium', 'flagship', 'long', 'term', 'use', 'year', 'major', 'update', 'year', 'security', 'segment', 'chinese', 'tinny', 'phone', 'lover', 'inch', 'display'], ['ill', 'first', 'deal', 'con', 'buyingcon', 'battery', 'backup', 'phone', 'drain', 'battery', 'little', 'battery', 'percentage', 'drop', 'minute', 'cab', 'speed', 'hour', 'watt', 'charger', 'high', 'time', 'game', 'term', 'charger', 'time', 'www', 'charger', 'speed', 'heating', 'phone', 'hot', 'taking', 'photo', 'camera', 'internet', 'battery', 'toopro', 'feature', 'phone', 'many', 'feature', 'day', 'work', 'good', 'ui', 'experience', 'ui', 'good', 'portrait', 'shot', 'phone', 'good', 'camera', 'segment', 'premium', 'exterior', 'green', 'variant', 'sleek', 'compact', 'z', 'flip', 'small', 'phone'], ['frustrated', 'performance', 'phone', 'phone', 'water', 'moisture', 'issue', 'port', 'customer', 'centre', 'person', 'liquid', 'problem', 'warranty', 'part', 'good', 'mobile', 'company', 'good', 'month', 'purchase', 'much', 'high', 'phone', 'good', 'performance', 'quality', 'phone', 'day', 'show', 'device', 'good'], ['much', 'butpro', 'good', 'fingerprint', 'scanner', 'water', 'surface', 'dynamic', 'camera', 'portrait', 'image', 'video', 'nice', 'resolution', 'screen', 'screen', 'max', 'sunlight', 'ui', 'thank', 'powerful', 'processor', 'easy', 'stylish', 'designcon', 'little', 'lightweight', 'battery', 'quick', 'deal', 'itthese', 'major', 'pro', 'con', 'type', 'user', 'good', 'phone', 'compare', 'good', 'deal', 'ultra', 'flaw'], ['review', 'use', 'month', 'phone', 'sale', 'camera', 'compactness', 'pathetic', 'battery', 'review', 'camera', 'night', 'camera', 'performance', 'top', 'notch', 'similar', 'iphone', 'sample', 'camera', 'front', 'cam', 'night', 'mode', 'great', 'work', 'fps', 'main', 'ultra', 'wide', 'cam', 'shoot', 'various', 'camera', 'portrait', 'pic', 'awesome', 'camera', 'colour', 'reproduction', 'naturalperformance', 'wise', 'good', 'phone', 'flagship', 'hungry', 'processor', 'apple', 'bionic', 'number', 'price', 'difference', 'thing', 'many', 'brand', 'bettery', 'performance', 'gamer', 'regular', 'app', 'phone', 'meager', '½', 'hrs', 'continuous', 'usage', 'hour', 'intermittent', 'usage', 'screen', 'standby', 'pic', 'alwaysondisplay', 'battery', 'life', 'app', 'sleep', 'system', 'battery', 'drain', 'background', 'app', 'great', 'maximum', 'power', 'saving', 'mode', 'battery', 'drain', 'rate', 'hour', 'standby', 'mode', 'pic', 'hour', 'juiceup', 'buying', 'power', 'bank', 'travel', 'muchindisplay', 'fingerprint', 'sensor', 'ultrasonic', 'work', 'glass', 'screen', 'protector', 'press', 'hard', 'dirty', 'dry', 'finger', 'time', 'face', 'unlock', 'fast', 'use', 'ui', 'awesome', 'many', 'feature', 'popup', 'multi', 'screen', 'time', 'update', 'yr', 'asphalt', 'legend', 'game', 'auto', 'setting', 'minor', 'temperature', 'rise', 'processor', 'lot', 'battery', 'quicklyjuly', 'update', 'available', 'area', 'last', 'month', 'spectrum', 'speed', 'astonishing', 'day', 'friend', 'mine', 'major', 'improvementsverdict', 'compact', 'flagship', 'camera', 'phone', 'budget', 'bit', 'iphone', 'iphone', 'bit', 'well', 'big', 'price', 'tag'], ['great', 'battery'], ['product', 'satisfactory', 'performance', 'exception', 'minor', 'issue', 'heat', 'generation', 'worthwhile', 'investment'], ['video', 'player', 'videoplaymutecurrent', 'time', 'duration', 'stream', 'type', 'liveseek', 'time', 'xplayback', 'ratechapterschaptersdescriptionsdescription', 'selectedcaptionscaption', 'automatedaudio', 'modal', 'phone', 'great', 'otherthan', 'heating', 'issue', 'battery', 'life', 'camera', 'video', 'game', 'part', 'heating', 'love', 'camera', 'battery', 'drain', 'heavy', 'user', 'd', 'rate'], ['dint', 'know', 'charger', 'inconvenient', 'tranfer', 'datum', 'slow', 'comfortable'], ['superbut', 'battery', 'backup'], ['beast', 'performance', 'battery', 'backup', 'gamer', 'heavy', 'user', 'normal', 'usage', 'phone', 'run', 'time', 'single', 'charge', 'power', 'saving', 'mode', 'hold', 'battery', 'camera', 'good', 'price', 'range', 'price', 'well', 'iphone', 'amazing', 'experience', 'display', 'ratebetter', 'iphone', 'phone', 'problem', 'twice', 'day'], ['phone', 'smooth', 'battery', 'little', 'hot'], ['good', 'quality'], ['past', 'year', 'highend', 'model', 'phone', 'perfect', 'phone', 'compact', 'powerful', 'processor', 'gorgeous', 'display', 'fantastic', 'camera', 'samsung', 'bugless', 'perfect', 'user', 'friendly', 'oneui', 'issue', 'battery', 'backup', 'issue', 'note', 'gamer', 'much', 'call', 'business', 'screen', 'time', 'hour', 'day', 'comfortable', 'day', 'battery', 'backup', 'charge', 'day', 'morning', 'time', 'minute', 'next', 'day', 'morning', 'case', 'phone', 'plenty', 'variety', 'phone'], ['phone', 'overheating', 'problem'], ['great', 'mobile', 'great', 'deal', 'kcamera', 'picture', 'quality', 'good', 'everyday', 'usagefor', 'gaming', 'big', 'processor', 'everythingthank', 'amazon'], ['camera'], ['supper', 'fine', 'big', 'issue', 'biometric', 'problem', 'angle', 'finger', 'angle', 'time', 'actiation', 'unsatisfactory', 'work', 'time', 'unlocking', 'screen'], ['review', 'pro', 'con', 'month', 'usagepro', 'handy', 'phone', 'overpriced', 'big', 'day', 'sale', 'cheap', 'screen', 'quality', 'quality', 'fantastic', 'premium', 'ui', 'security', 'upgrade', 'regular', 'rear', 'camera', 'fantastic', 'ui', 'option', 'optical', 'zoom', 'camera', 'wide', 'angle', 'camera', 'great', 'color', 'shift', 'main', 'wide', 'angle', 'cameracon', 'big', 'con', 'phone', 'horrendous', 'battery', 'backup', 'home', 'wifi', 'network', 'evening', 'pm', 'percent', 'percent', 'hour', 'use', 'sim', 'battery', 'drain', 'fast', 'hertz', 'refresh', 'rate', 'home', 'usage', 'mobile', 'run', 'sim', 'internet', 'battery', 'fast', 'auto', 'brightness', 'manual', 'control', 'screen', 'brightness', 'battery', 'mobile', 'heating', 'issue', 'issue', 'phone', 'processor', 'front', 'camera', 'average', 'low', 'light', 'back', 'camera', 'sun', 'glare', 'harsh', 'light', 'video', 'time', 'mobile', 'heat', 'video', 'people', 'much', 'social', 'medium', 'io', 'iphone', 'iphone'], ['product', 'mark'], ['premium', 'model', 'mobilefuturespeedcolourbattery', 'oklooking', 'great', 'modelcharging', 'gooddisplay', 'size', 'quality', 'good'], ['prosamsung', 'galaxy', 'series', 'good', 'android', 'experience', 'close', 'competition', 'software', 'camera', 'hardwaremindblowing', 'display', 'fingerprint', 'reader', 'hapticsthrow', 'task', 'compact', 'phone', 'top', 'notch', 'hardware', 'performance', 'close', 'snow', 'price', 'reason', 'pixel', 'great', 'speakersfantastic', 'camera', 'case', 'phone', 'productive', 'tool', 'utility', 'personal', 'tasksone', 'ui', 'great', 'little', 'drawback', 'modethe', 'green', 'performant', 'processor', 'power', 'hungrythis', 'battery', 'life', 'heating', 'issuesi', 'aware', 'thought', 'heavy', 'task', 'streaming', 'charger', 'issue', 'battery', 'charge', 'glass', 'scratch', 'classy', 'use', 'cover', 'noticable', 'scratch', 'day', 'usei', 'cheapersince', 'major', 'issue'], ['good', 'term', 'devicesbut', 'device', 'many', 'good', 'quality', 'useless', 'main', 'poor', 'battery', 'lifeif', 'compromise', 'basicswell'], ['medium', 'product', 'correct', 'date', 'open', 'delivery', 'option', 'record', 'unboxing', 'video', 'nonstop', 'return', 'purposephone', 'compact', 'display', 'camera', 'goodbattery', 'day', 'usage', 'battery', 'drain', 'time', 'hr', 'screen', 'time', 'happy', 'purchase'], ['pro', 'compact', 'powerful', 'performance', 'phone', 'due', 'snapdragon', 'processor', 'excellent', 'display', 'vibrant', 'colour', 'display', 'phone', 'premium', 'smartphone', 'iphone', 'pro', 'pro', 'excellent', 'quality', 'matte', 'finish', 'glass', 'steel', 'frame', 'gorilla', 'sidescon', 'dual', 'speaker', 'peculiar', 'issue', 'loud', 'speaker', 'top', 'speaker', 'voice', 'sentence', 'bottom', 'speaker', 'complete', 'sentence', 'top', 'speaker', 'voice', 'break', 'problem', 'service', 'agent', 'smartphone', 'service', 'guy', 'phone', 'problem', 'issue', 'use', 'loud', 'speaker', 'mode', 'beware', 'course', 'multimedia', 'content', 'speaker', 'sound', 'problem', 'call', 'battery', 'day', 'usage', 'moderate', 'heavy', 'uninstalling', 'bloatware', 'many', 'feature', 'galaxy', 'edge', 'charger', 'box', 'phone', 'fast', 'fast', 'charger', 'nonsensical', 'thing', 'charge', 'charger', 'highspeed', 'charger', 'w', 'charger', 'dash', 'charger', 'fast', 'charger', 'chargerless', 'phone', 'slow', 'charger', 'charger', 'compromise', 'merciless', 'charger', 'huge', 'amountthis', 'phone', 'compact', 'phone', 'feature', 'phone', 'moderately', 'option'], ['kid', 'device', 'matured', 'premium', 'phone', 'phone', 'profession', 'user', 'amazing', 'camera', 'great', 'phone', 'well', 'iphone'], ['good', 'camera'], ['winner', 'category', 'tick', 'form', 'factor', 'ergonomic', 'comfortable', 'usethe', 'good', 'term', 'functionality', 'worthy', 'software', 'glitch', 'stutter', 'late', 'updatebut', 'big', 'concern', 'adress', 'work', 'battery', 'dptit', 'inadequate', 'poor', 'catagory', 'price', 'work', 'new', 'battery', 'technology', 'speed', 'software', 'mgmt', 'last', 'least', 'hr', 'compromise', 'handset', 'warm', 'top', 'left', 'corner', 'side', 'travel', 'charger', 'box'], ['phone', 'good', 'good', 'feature', 'high', 'range', 'brand', 'phone', 'charger', 'basic', 'app', 'lock', 'feature', 'mid', 'range', 'brand', 'vivo', 'providei', 'type', 'cable', 'adapter', 'point'], ['camera', 'speaker', 'hand', 'compactness', 'screen', 'battery', 'backup', 'standout'], ['phone', 'awesome', 'lightweight'], ['device', 'day', 'usage', 'love', 'difficult', 'powerful', 'compact', 'phone', 'day', 'phone', 'niche', 'design', 'awesome', 'premium', 'design', 'regular', 'ss', 'ultra', 'year', 'display', 'gorgeous', 'dependable', 'camera', 'system', 'good', 'picture', 'video', 'speaker', 'good', 'promising', 'year', 'important', 'love', 'phone', 'hand', 'fan', 'compact', 'phone', 'toohowever', 'hunkydory', 'course', 'battery', 'life', 'average', 'light', 'user', 'play', 'game', 'lot', 'photo', 'video', 'twice', 'day', 'phone', 'warm', 'workload', 'issue', 'upcoming', 'go', 'fan', 'compact', 'phone', 'user'], ['series', 'phone', 'many', 'long', 'year', 'series', 'phone', 'brand', 'mobile', 'good', 'phone', 'compact', 'form', 'factor', 'lovable', 'thing', 'phone', 'topnotch', 'processor', 'mobile', 'charginggaming', 'common', 'mobile', 'brand', 'cold', 'bit', 'performance', 'snappy', 'game', 'file', 'transfer', 'speed', 'impressive', 'camera', 'performance', 'impeccable', 'photo', 'review', 'check', 'photo', 'samsung', 'superb', 'color', 'accurate', 'time', 'factor', 'call', 'reception', 'sound', 'good', 'expensive', 'device', 'battery', 'decent', 'user', 'fact', 'people', 'high', 'mah', 'battery', 'example', 'long', 'time', 'expective', 'much', 'backup', 'impossible', 'go', 'apple', 'pixel', 'device', 'less', 'battery', 'mini', 'flagship', 'variant', 'case', 'heavy', 'user', 'battery', 'day', 'gamer', 'person', 'charge', 'device', 'buck', 'ultra', 'beautiful', 'compact', 'gadget', 'flagship', 'performance', 'good', 'market', 'moment', 'amazing', 'experience'], ['wise', 'awesome', 'goodvery', 'handy', 'light', 'weightgo'], ['compact', 'mobilescamerasuperb', 'classdisplaybest', 'class', 'bright', 'vivid', 'ittouch', 'fluid', 'good', 'oxygen', 'lotcon', 'battery', 'hard', 'gamer', 'time', 'sot', 'hrs', 'heating', 'issue', 'screen', 'protector', 'finger', 'fineif', 'screen', 'protector', 'little', 'problematic', 'finger', 'print', 'authentication', 'purchase', 'screen', 'protector', 'website', 'use', 'fineover', 'mobile', 'love', 'compact', 'mobilesnoteif', 'battery', 'beast', 'price', 'rangeneed', 'heat', 'management'], ['poor', 'battery', 'performance', 'sensory', 'function', 'poornot', 'worth', 'priceeven', 'difficult', 'service', 'defect', 'amazon', 'return', 'careful', 'purchasing', 'mobilethis', 'bad', 'choiceit', 'time', 'recharge', 'heatedup', 'finger', 'print', 'sensor', 'face', 'sensor', 'pooradvise', 'mobile'], ['phone', 'battery', 'power', 'phone', 'light', 'weight', 'phone', 'hand', 'transaction', 'lag', 'day', 'day', 'operation', 'smooth', 'interface', 'intuitive', 'phone', 'call', 'quality', 'good', 'low', 'signal', 'area', 'phone', 'premium', 'photo', 'disappointing', 'avid', 'gamer', 'phone', 'playing', 'game', 'battery', 'juice', 'well', 'life', 'screen', 'refresh', 'rate', 'switching', 'notification', 'unwanted', 'app', 'standby', 'mode', 'battery', 'last', 'long', 'phone', 'tick', 'current', 'sale', 'price'], ['overall', 'item', 'worth', 'offer'], ['confused', 'iphone', 'happy', 'compact', 'phone', 'hand', 'pocket', 'tiny', 'monster', 'camera', 'lense', 'well', 'iphone', 'battery', 'heating', 'issue', 'heavy', 'usage', 'common', 'flagship', 'mobile', 'thank', 'power', 'bankhowever', 'score', 'camera', 'segment', 'average', 'user', 'battery', 'life', 'battery', 'usage', 'screenshot', 'hr', 'hr', 'screen', 'time', 'camera', 'period', 'battery', 'life', 'app', 'datum', 'cloud', 'first', 'charge', 'cycle', 'battery', 'week', 'learning', 'process', 'complete', 'sleeping', 'period', 'wifi', 'well', 'battery', 'refresh', 'rate', 'fuel', 'economy', 'engine', 'heat', 'mobile', 'power', 'bank', 'case', 'long', 'journey'], ['battery'], ['camera', 'top', 'level', 'display', 'campact', 'size', 'verry', 'good', 'phone', 'charging', 'slow', 'video', 'nice', 'brightness', 'high', 'level'], ['job', 'flagship', 'classy', 'elegantafter', 'year', 'usage', 'single', 'big', 'issue', 'battery', 'full', 'charge', 'survive', 'evening', 'phone'], ['good', 'sturdy', 'phone', 'fantastic', 'user', 'experience', 'mind', 'great', 'battery', 'able', 'power', 'user', 'battery', 'inadequate', 'much', 'day', 'avid', 'gamer', 'watch', 'lot', 'video', 'day', 'phone', 'normal', 'user', 'perfect', 'phone', 'youthis', 'experience', 'high', 'end', 'phone', 'great', 'user', 'camera', 'incredible', 'priceit', 'expensive', 'orange', 'pro', 'phone', 'free', 'advise', 'gold', 'bond', 'current', 'prev', 'generation', 'double', 'triple', 'price', 'high', 'end', 'camera', 'system', 'user', 'experiencecrisp', 'qualitybuilt', 'triple', 'cameraselfie', 'camerasize', 'head', 'phone', 'battery'], ['month', 'good', 'deal', 'season', 'reason', 'handy', 'fit', 'pocketfirst', 'thing', 'first', 'battery', 'life', 'bit', 'low', 'working', 'game', 'social', 'medium', 'phone', 'heat', 'lot', 'processor', 'extensive', 'screen', 'quality', 'amazing', 'dark', 'mode', 'experience', 'battery', 'life', 'new', 'ui', 'usable', 'feature', 'overall', 'software', 'experience', 'quality', 'great', 'feature', 'tech', 'telephoto', 'lens', 'hot', 'shot'], ['overall', 'great', 'phone', 'great', 'camera', 'quality', 'top', 'notch', 'segment', 'issue', 'normal', 'screen', 'guard', 'display', 'fingerprint', 'scanner'], ['issue', 'battery', 'backup', 'normal', 'user', 'day', 'station', 'powerpack', 'rest', 'thing', 'perfect'], ['phone', 'slim', 'handy', 'model', 'good', 'display', 'quality', 'camerasperfect', 'model', 'heating', 'issue', 'ok', 'screen', 'size', 'good', 'performance'], ['great', 'size', 'colour', 'smooth', 'running'], ['phone', 'brilliant', 'superb', 'build', 'quality', 'premium', 'hand', 'compact', 'classy', 'display', 'amazing', 'good', 'segment', 'full', 'hd', 'speaker', 'job', 'enough', 'internal', 'great', 'qualcomm', 'phone', 'small', 'size', 'warm', 'bit', 'heavy', 'use', 'big', 'complaint', 'pathetic', 'sufficient', 'today', 'day', 'age', 'priority', 'light', 'business', 'great', 'buy', 'gamer'], ['day', 'human', 'smart', 'object', 'thing', 'people', 'optimisation', 'crisp', 'smooth', 'pleasurable', 'great', 'product', 'hardware', 'software', 'integration', 'iphone', 'good', 'point', 'behindbut', 'time', 'happy', 'issue', 'battery', 'power', 'hungry', 'machine', 'big', 'battery', 'charger', 'bank', 'happy', 'buy', 'perfect', 'size', 'smart', 'phone'], ['good', 'mobile', 'k', 'software', 'experience', 'awesomegood', 'peroformance', 'great', 'build', 'quality', 'customizable'], ['land', 'line'], ['day', 'product', 'nice', 'phone', 'good', 'battery', 'drain', 'fast', 'mha', 'heating', 'issue', 'video', 'call', 'capture', 'heat', 'heavy', 'user', 'phone', 'heat', 'n', 'battery', 'drain', 'phone', 'twitter', 'whatsapp', 'skype', 'mail', 'n', 'banking', 'app'], ['camara', 'good', 'performance', 'good', 'need', 'video', 'quality', 'need', 'battery', 'life', 'battery', 'hoursheating', 'issue'], ['top', 'notched', 'device', 'segment', 'device', 'neat', 'classicbattery', 'last', 'average', 'usage', 'phonehigh', 'refresh', 'fast', 'obviouslycamera', 'bomb', 'well', 'iphone', 'snapdisplay', 'bright', 'clear', 'smooth', 'responsivehavent', 'heavy', 'gaming', 'week', 'processor', 'green', 'colour', 'last', 'month', 'septcon', 'paint', 'bit', 'poor', 'camera', 'area', 'paint', 'silver', 'aluminum', 'visible', 'rigid', 'finishoverall', 'gorgeous', 'stunning', 'amazing', 'great', 'device', 'amazon', 'great', 'delivery', 'job'], ['good', 'great', 'camera', 'performance', 'average', 'battery', 'lifeoverall', 'minor', 'defect', 'phonethe', 'power', 'button', 'good', 'double', 'tap', 'wake', 'lock', 'gesturevery', 'poor', 'delivery', 'phone', 'charger', 'different', 'site', 'product', 'place'], ['phone', 'small', 'palm', 'year', 'good', 'phone', 'life', 'screen', 'size', 'phone', 'year', 'year', 'good', 'choice', 'camera', 'excellent', 'quality', 'superb', 'battery', 'backup', 'area', 'concern', 'usage', 'charge', 'deal', 'breaker'], ['review', 'battery', 'life', 'true', 'heavy', 'usage', 'hour', 'screen', 'time', 'normal', 'usage', 'hour', 'screen', 'great', 'product', 'concern', 'battery', 'camara', 'battery', 'display', 'performance', 'gaming', 'design', 'last', 'least', 'heat', 'lot', 'heavy'], ['phone', 'nice', 'size', 'inch', 'excellent', 'display', 'amazing', 'camera', 'battery', 'life', 'dismal', 'identical', 'day', 'old', 'yearold', 'good', 'ergonomic', 'phone', 'good', 'half', 'price', 'iphone', 'pro', 'phone', 'size', 'well', 'deal', 'use', 'type', 'cable'], ['easy', 'use'], ['old', 'mobile', 'warranty', 'phone', 'week', 'water', 'damage', 'c', 'water', 'spill', 'ip', 'water', 'rating', 'water', 'min', 'main', 'problem', 'old', 'phone'], ['word', 'smooth', 'premium', 'phone', 'life', 'boy', 'due', 'io', 'optimization', 'well', 'security', 'feature', 'good', 'security', 'feature', 'industry', 'iphone', 'price', 'smooth', 'display', 'much', 'fluid', 'brand', 'display', 'camera', 'top', 'notch', 'downside', 'battery', 'capacity', 'fast', 'day', 'battery', 'well', 'battery', 'backup', 'hard', 'user'], ['overall', 'good', 'challenge', 'battery', 'poor', 'phone', 'hrs', 'battery', 'discharge', 'soo', 'bad', 'battery', 'life'], ['phone', 'premium', 'camera', 'superb', 'battery', 'sufficient', 'day', 'backup', 'heavy', 'user', 'hr', 'backup', 'rest', 'superb', 'fingerprint', 'fast', 'processor', 'hot', 'thermal', 'well', 'phone', 'take', 'phone', 'powerful', 'component', 'hungry', 'power', 'battery', 'drain', 'test', 'similar', 'ultra', 'half', 'hour', 'extra', 'backup', 'much', 'phone', 'compact', 'much'], ['experience', 'phone', 'uncomparable', 'androidpro', 'sized', 'flagship', 'hand', 'usage', 'excellent', 'screen', 'superior', 'media', 'playing', 'experience', 'netflix', 'premium', 'hand', 'experience', 'phone', 'case', 'hand', 'flagship', 'camera', 'video', 'recording', 'smooth', 'long', 'term', 'security', 'updatescon', 'battery', 'life', 'home', 'issue', 'field', 'deal', 'breaker', 'device', 'heat', 'first', 'week', 'update', 'lessonly', 'phone', 'compete', 'iphone', 'max', 'benifit', 'apple', 'product', 'ecosystem', 'iphone', 'happy'], ['green', 'color', 'device', 'exotic', 'good', 'class', 'display', 'camera', 'date', 'late', 'flagship', 'feature', 'good', 'hand', 'design', 'fast', 'good', 'original', 'product', 'battery', 'life', 'heating', 'problem'], ['phone', 'great', 'hand', 'flagship', 'level', 'great', 'build', 'quality', 'sturdy', 'premium', 'side', 'matte', 'glass', 'finish', 'phone', 'score', 'well', 'aspect', 'battery', 'life', 'usage', 'person', 'mobile', 'lot', 'iphone', 'budget'], ['time', 'display', 'heavy', 'heat'], ['poor', 'normal', 'use', 'charge', 'day', 'suitable'], ['iphone', 'coz', 'third', 'class', 'lightening', 'port', 'usb', 'ci', 'compact', 'flagship', 'rare', 'day', 'galaxy', 'z', 'flip', 'trust', 'guy', 'open', 'screen', 'size', 'inchesi', 'sell', 'compact', 'phone', 'great', 'single', 'hand', 'usagebattery', 'life', 'good', 'single', 'day', 'usagemedium', 'usageif', 'play', 'game', 'phone'], ['compact', 'stylish', 'good', 'camera', 'lot', 'updation', 'low', 'connectivity'], ['review', 'battery', 'duration', 'high', 'mah', 'galaxy', 'note', 'long', 'morning', 'night', 'use', 'call', 'youtube', 'game', 'good', 'handy', 'phone', 'doubt', 'connection', 'bud', 'pro', 'galaxy', 'seamless', 'pack', 'phone'], ['camera', 'image', 'quality', 'awesome', 'phone', 'overheat', 'little', 'photo', 'good', 'playing', 'game', 'general', 'usage', 'problem', 'opinion', 'famous', 'shutter', 'series', 'image', 'target', 'os', 'huge', 'delay', 'camera', 'button', 'photo', 'camera', 'update', 'good', 'previous'], ['battery', 'life', 'low', 'evening', 'everyday', 'major', 'drawback', 'phone', 'handy', 'rich', 'top', 'notch', 'hybrid', 'slot', 'microsd', 'card', 'good', 'value', 'money', 'flagship', 'phone', 'gaming', 'phone', 'phone', 'gaming', 'clash', 'royale', 'bit', 'annoying', 'camera', 'good', 'charger', 'adapter'], ['amazing', 'phone', 'good', 'small', 'compact', 'phone', 'small', 'compact', 'phone', 'long', 'fedup', 'compass', 'box', 'phonepeople', 'phone', 'normal', 'use', 'last', 'battery', 'day', 'picture', 'phone'], ['life', 'bad', 'comment', 'game', 'medium', 'last', 'dayonly', 'time', 'battery', 'problem', 'low', 'network', 'area', 'case', 'phone', 'compact', 'phone', 'good', 'finishcon', 'low', 'vibration', 'speaker', 'distortion'], ['iphone', 'bit', 'fair', 'camera', 'good', 'colour', 'software', 'functionsconsbattery', 'drain', 'phenomenal', 'refresh', 'rate', 'due', 'couple', 'video', 'battery', 'crash', 'iphone', 'era', 'processor', 'optimisation', 'phone', 'suboptimal', 'close', 'old', 'year', 'iphone', 'well', 'thing'], ['phone', 'great', 'battery', 'backup', 'flagship', 'phone', 'kind', 'battery', 'performance', 'con', 'phone', 'charge', 'time', 'day', 'trust', 'light', 'user', 'compromise', 'battery', 'section', 'rest', 'thing', 'good', 'battery', 'concern'], ['phone', 'battery', 'backup', 'pretty', 'battery'], ['battery', 'life', 'bad', 'people', 'optimization', 'setting', 'garbage', 'setting', 'device', 'first', 'time', 'phone', 'heat', 'day', 'today', 'task', 'heating', 'issue', 'recent', 'software', 'update', 'problem', 'phone', 'compact', 'compact', 'iphn', 'flagship', 'ui', 'experience', 'smoothness'], ['compact', 'size', 'device', 'comfortable', 'hand', 'top', 'line', 'spec', 'small', 'battery', 'mah', 'battery', 'whole', 'day', 'fast', 'charging', 'battery', 'size'], ['good', 'compact', 'android', 'phone', 'camera', 'awesome', 'battery', 'life', 'concern', 'normal', 'use', 'update', 'month', 'ui', 'update', 'battery', 'issue', 'issueone', 'awesome'], ['single', 'aspect', 'great', 'battery', 'motor', 'little', 'weak', 'old', 'good', 'goupdate', 'battery', 'life', 'power', 'saving', 'hr', 'sot', 'ss'], ['positivesperformancespeaker', 'battery', 'performance', 'sensor', 'positioning'], ['camera', 'awesome', 'user', 'iphone', 'generation', 'first', 'flagship', 'possession', 'iphone', 'term', 'camera', 'iphone', 'well', 'screen', 'bright', 'iphone', 'performance', 'wise', 'email', 'music', 'comment', 'time', 'size', 'wise', 'convenient', 'carry', 'phone', 'tray', 'car', 'auto', 'charm', 'mid', 'direction', 'finger', 'print', 'sensor', 'work', 'time', 'initial', 'set'], ['awesome', 'device', 'top', 'notch', 'quality', 'heating', 'issue', 'battery', 'performance', 'good', 'atleast', 'battery', 'device', 'unable', 'glass', 'device', 'glass', 'fingerprint', 'face', 'recognition'], ['android', 'main', 'device', 'couple', 'year', 'choice', 'compact', 'phone', 'high', 'end', 'spec', 'regular', 'software', 'update', 'device', 'smooth', 'good', 'displaycamera', 'par', 'device', 'notch', 'well', 'iphone', 'minifast', 'updatesandroid', 'late', 'security', 'patchconsbattery', 'hour', 'usage', 'primary', 'devicesnot', 'iphone'], ['phone', 'hotonly', 'watch', 'movie', 'video', 'callbattery', 'averagesound', 'clarity', 'good'], ['pro', 'snapdragon', 'multi', 'tasking', 'gaming', 'battery', 'small', 'fast', 'iphone', 'battery', 'backup', 'size', 'battery'], ['battery', 'life', 'goodfingerprint', 'scanner'], ['fine', 'phone', 'adaptercharger', 'fact', 'purchase', 'adapter', 'type', 'c', 'new', 'adapter', 'phone'], ['battery', 'phone', 'heat', 'hour', 'overall', 'phone', 'design', 'performance', 'good', 'galaxy', 'wave', 'e', 'galaxy', 'galaxy'], ['amazing', 'service', 'amazonpros', 'compact', 'design', 'myth', 'large', 'small', 'powerful', 'design', 'front', 'amazing', 'camera', 'con', 'battery', 'mah', 'battery'], ['bit', 'worried', 'delivery', 'fraud', 'original', 'product', 'good', 'condition', 'baugh', 'sale', 'dissatisfied', 'price', 'product', 'cheap', 'price', 'mah', 'battery', 'sufficient', 'super', 'fast', 'watt', 'charger', 'hour', 'charge', 'heavy', 'user', 'compact', 'phone', 'charming', 'hand'], ['phone', 'quality', 'camera', 'awesome'], ['phone', 'good', 'performance', 'screen', 'battery', 'hour', 'moderate', 'use', 'moderate', 'user'], ['week', 'price', 'clear', 'view', 'case', 'phone', 'good', 'camera', 'good', 'battery', 'average', 'hr', 'sot', 'power', 'saving', 'mode'], ['display', 'topnotch', 'display', 'impressive', 'nit', 'visibility', 'sunlight', 'refresh', 'rate', 'offering', 'supersmooth', 'visual', 'purpose', 'bezelless', 'design', 'immersive', 'experience', 'user', 'large', 'phone', 'speaker', 'speaker', 'loud', 'crisp', 'audio', 'experience', 'headphone', 'complaint', 'speaker', 'performance', 'camera', 'exceptional', 'capability', 'object', 'crisp', 'vivid', 'hdr', 'image', 'default', 'camera', 'software', 'thirdparty', 'mod', 'realistic', 'highquality', 'photo', 'remarkable', 'video', 'stabilization', 'evident', 'video', 'challenging', 'condition', 'camera', 'realistic', 'unenhanced', 'image', 'portrait', 'mode', 'main', 'selfie', 'camera', 'design', 'device', 'premium', 'aesthetic', 'phantom', 'black', 'color', 'sophistication', 'compact', 'lightweight', 'design', 'slippery', 'manageable', 'case', 'ultrasoniccompatible', 'glass', 'fingerprint', 'reader', 'battery', 'normal', 'usage', 'phone', 'day', 'testing', 'hour', 'screen', 'time', 'phone', 'hour', 'phone', 'warm', 'intensive', 'task', 'wireless', 'convenient', 'feature', 'ui', 'clean', 'ui', 'extensive', 'customization', 'lock', 'screen', 'app', 'minor', 'drawback', 'effort', 'secure', 'app', 'unsuccessful', 'cross', 'compatibility', 'integration', 'window', 'phone', 'app', 'apart', 'compatibility', 'device', 'headphone', 'overall', 'experience', 'compelling', 'choice', 'unparalleled', 'feature', 'good', 'option', 'market', 'review', 'seamless', 'experience', 'user', 'flagship', 'device'], ['opportunity', 'experience', 'phone', 'remarkable', 'device', 'style', 'functionality', 'performance', 'comprehensive', 'sleek', 'modern', 'design', 'eye', 'slim', 'profile', 'edge', 'choice', 'attractive', 'color', 'fashionable', 'accessory', 'build', 'quality', 'excellent', 'reassuring', 'sturdiness', 'bulky', 'phone', 'comfortable', 'hold', 'use', 'periodsdisplaythe', 'phone', 'standout', 'feature', 'vibrant', 'immersive', 'display', 'content', 'life', 'color', 'rich', 'vivid', 'full', 'hd', 'resolution', 'sharp', 'visual', 'video', 'web', 'playing', 'game', 'visual', 'capable', 'processor', 'ample', 'snappy', 'performance', 'app', 'breeze', 'task', 'gaming', 'ease', 'enjoyable', 'experience', 'phone', 'camera', 'setup', 'impressive', 'primary', 'camera', 'detailed', 'vibrant', 'photo', 'various', 'lighting', 'condition', 'multiple', 'lense', 'ultrawide', 'macro', 'lens', 'versatility', 'photography', 'selfie', 'frontfacing', 'camera', 'camera', 'app', 'range', 'feature', 'shooting', 'mode', 'creativitybattery', 'battery', 'life', 'commendable', 'full', 'day', 'typical', 'heavy', 'usage', 'reliable', 'endurance', 'phone', 'fast', 'top', 'battery', 'neededsoftwaresamsung', 'ui', 'userfriendly', 'featurerich', 'experience', 'customization', 'option', 'clean', 'interface', 'host', 'useful', 'software', 'addition', 'frequent', 'software', 'update', 'device', 'uptodate', 'g', 'support', 'connected', 'high', 'speed', 'feature', 'nfc', 'mobile', 'payment', 'array', 'sensor', 'functionalitysecuritybiometric', 'security', 'option', 'fast', 'accurate', 'fingerprint', 'scanner', 'facial', 'recognition', 'phone', 'convenient', 'securestorageample', 'storage', 'expandable', 'storage', 'option', 'space', 'app', 'photo', 'mediain', 'summary', 'multiple', 'front', 'stylish', 'design', 'outstanding', 'display', 'strong', 'performance', 'capable', 'camera', 'system', 'dependable', 'battery', 'life', 'compelling', 'choice', 'market', 'featurerich', 'reliable', 'smartphone', 'tech', 'enthusiast', 'user', 'worth'], ['software', 'issue', 'approach', 'feature', 'buglike', 'switch', 'datum', 'time', 'phone', 'heat', 'battery', 'fasterautocorrect', 'nonsensical', 'mistyped', 'word', 'genuine', 'word', 'reappear', 'next', 'time', 'aroundif', 'device', 'bluetooth', 'music', 'app', 'musicbut', 'battery', 'life', 'decent', 'camera', 'good', 'amateur', 'manage', 'decent', 'photo', 'small', 'manageable', 'new', 'phone', 'notepad'], ['phone', 'pefect', 'old', 'hard', 'choice', 'conclusion', 'processor', 'fine', 'hot', 'garbage', 'infact', 'inefficient', 'processor', 'last', 'year', 'premium', 'segment', 'low', 'battery', 'bad', 'heating', 'processor', 'small', 'battery', 'money', 'phone', 'actual', 'successor', 'enormous', 'battery', 'lifeafter', 'hour', 'sot', 'double', 'old', 'oppo', 'oneplus', 'upgrade', 'first', 'day', 'refresh', 'rate', 'light', 'performance', 'mode', 'battery', 'adaptive', 'push', 'hour', 'screenontime', 'perfect', 'big', 'supplier', 'screen', 'mobile', 'market', 'doubt', 'speaker', 'stereo', 'dolby', 'atmos', 'mode', 'top', 'tier', 'good', 'ui', 'market', 'amazing', 'thing', 'bloatware', 'integrated', 'ecosystem', 'bloatware', 'chrome', 'chamber', 'base', 'variant', 'ultra', 'chamber', 'ram', 'booster', 'default', 'virtual', 'ram', 'performance', 'mediumend', 'game', 'fps', 'real', 'time', 'monitoring', 'month', 'premium', 'amazon', 'month', 'thisi', 'hybrid', 'case', 'glazedinc', 'glass', 'glass', 'compatiable', 'fingerprint', 'sensor', 'work', 'sponsoredphone', 'expensive', 'price', 'apple', 'bad', 'discount', 'different', 'discount', 'low', 'mrp', 'reason', 'additional', 'bank', 'credit', 'card', 'discount', 'insane', 'mrp', 'range', 'point', 'discount', 'warranty', 'sale', 'service', 'bad', 'anywhereso', 'good', 'phone', 'premium', 'segment', 'ultra', 'handy', 'premium', 'smartphone', 'big', 'screen', 'ultra', 'way', 'gocon', 'dolby', 'vision', 'color', 'p', 'ssc', 'samsung', 'seamless', 'codec', 'hd', 'audio', 'go', 'ssc', 'samsung', 'bud', 'video', 'player', 'audio', 'format', 'dolby', 'truehd', 'people', 'switch', 'restore', 'datum', 'new', 'phone', 'battery', 'life', 'photo', 'contact', 'high', 'model', 'ultra', 'fake', 'use', 'scene', 'optimizer', 'place', 'picture', 'moon', 'real', 'moon', 'modeledit', 'switch', 'transfer', 'file', 'new', 'phone', 'battery', 'big', 'file', 'factory', 'reset', 'phone', 'notice', 'battery', 'life', 'mark', 'smart', 'switch', 'people', 'battery', 'battery', 'life', 'hrs', 'phone', 'adaptive', 'setting', 'mean', 'usage', 'pattern', 'daysyou', 'battery', 'setting', 'bug', 'keyboard', 'extra', 'battery', 'hour', 'battery', 'life'], ['technological', 'prowess', 'harmonious', 'amalgamation', 'toptier', 'performance', 'exceptional', 'camera', 'cuttingedge', 'processor', 'ample', 'ram', 'impressive', 'speed', 'responsiveness', 'breeze', 'seamless', 'transition', 'app', 'resourceintensive', 'task', 'streaming', 'handling', 'productivity', 'app', 'device', 'efficiency', 'user', 'experience', 'software', 'smooth', 'interface', 'minimal', 'lag', 'prolonged', 'usage', 'phone', 'performance', 'benchmark', 'top', 'contender', 'segment', 'power', 'user', 'everyday', 'consumer', 'camera', 'setup', 'short', 'phenomenal', 'sophisticated', 'array', 'lense', 'cuttingedge', 'imaging', 'technology', 'moment', 'astounding', 'clarity', 'precision', 'primary', 'camera', 'vibrant', 'detailed', 'shot', 'various', 'lighting', 'condition', 'samsung', 'photographic', 'excellencethe', 'versatility', 'camera', 'system', 'user', 'different', 'photography', 'style', 'stunning', 'portrait', 'shot', 'remarkable', 'depth', 'field', 'impressive', 'lowlight', 'photography', 'capability', 'video', 'recording', 'impressive', 'highresolution', 'footage', 'stable', 'nuanced', 'intuitive', 'camera', 'interface', 'plethora', 'photography', 'mode', 'breathtaking', 'moment', 'effortless', 'experience', 'amateur', 'seasoned', 'photographersoverall', 'powerhouse', 'device', 'robust', 'performance', 'stellar', 'camera', 'system', 'user', 'device', 'productivity', 'creative', 'endeavour', 'premium', 'price', 'tag', 'performance', 'camera', 'prowess', 'investment', 'mobile', 'device'], ['excellent', 'choice', 'compact', 'smartphone', 'ease', 'hand', 'screen', 'area', 'available', 'use', 'righti', 'point', 'usage', 'month', 'good', 'device', 'communication', 'network', 'reception', 'good', 'power', 'efficient', 'sot', 'hourswifi', 'work', 'communication', 'excellent', 'sot', 'active', 'use', 'hour', 'display', 'good', 'well', 'panel', 'ultra', 'battery', 'life', 'excellent', 'normal', 'usage', 'g', 'wifi', 'lot', 'streaming', 'day', 'sot', 'hour', 'connected', 'wifi', 'network', 'bit', 'performance', 'excellent', 'far', 'issue', 'excellent', 'easy', 'use', 'wallet', 'camera', 'excellent', 'picture', 'night', 'mode', 'wellwhat', 'good', 'charger', 'box', 'oem', 'sustainability', 'copy', 'apple', 'other', 'ridiculous', 'decision', 'display', 'display', 'unresponsive', 'various', 'app', 'app', 'bad', 'case', 'app', 'sure', 'hardware', 'app', 'app', 'end', 'day', 'happy', 'compact', 'reliable', 'phone', 'good', 'network', 'reception', 'excellent', 'battery', 'life'], ['good', 'compact', 'phone', 'market', 'great', 'performance', 'great', 'build', 'quality', 'great', 'camera', 'great', 'software', 'experience', 'great', 'displaybattery', 'life', 'decent', 'hour', 'screen', 'time', 'compact', 'phone', 'acceptablethis', 'well', 'variant', 'great', 'gb', 'variant', 'cause', 'file', 'much', 'storage'], ['phone', 'month', 'lack', 'screen', 'full', 'hd', 'screen', 'bright', 'high', 'quality', 'camera', 'processor', 'form', 'factor', 'amazing'], ['battery', 'camera', 'display', 'brightness', 'time', 'good', 'updatesamsung', 'ear', 'phone', 'price', 'discount', 'accessory', 'phone', 'available'], ['review', 'phone', 'true', 'extentgreat', 'camera', 'premium', 'quality', 'perfect', 'size', 'phone', 'good', 'little', 'heavy', 'side', 'con', 'battery', 'drain', 'fast', 'review', 'big', 'grudge', 'bit', 'budget', 'samsung', 'product', 'comparo', 'iphone', 'instance', 'swipe', 'option', 'previous', 'page', 'button', 'bottom', 'phone', 'prehistoric', 'inconvenient', 'small', 'change', 'weird', 'reason', 'costly', 'phone', 'slow', 'review', 'warm', 'bit', 'heavy', 'usage', 'heat', 'time', 'point', 'uncomfortable', 'close', 'app', 'price', 'low', 'heating', 'issue', 'previous', 'model', 'ithope', 'review', 'help', 'informed', 'decision'], ['minute', 'internet', 'camera', 'use'], ['many', 'time', 'due', 'phone', 'switch'], ['compact', 'smooth', 'camera', 'good', 'good', 'low', 'light', 'good', 'video', 'battery', 'fast', 'heating', 'issue', 'frustrating'], ['year', 'device', 'expectation', 'good', 'product', 'battery', 'life', 'awesome', 'customization', 'cool', 'camera', 'good', 'segment', 'pocket', 'dynamite', 'good', 'class'], ['prime', 'member', 'super', 'fast', 'deliveryjoke', 'phone', 'wonderful', 'camera', 'outstanding', 'image', 'video', 'low', 'light', 'shot', 'amazing', 'moon', 'shot', 'portrait', 'perfect', 'cutout', 'battery', 'backup', 'first', 'day', 'hrs', 'sot', 'refresh', 'rate', 'standard', 'performance', 'light', 'mode', 'dark', 'mode', 'time', 'day', 'hr', 'sot', 'casual', 'gaming', 'less', 'hour', 'sofor', 'issue', 'medium', 'consumption', 'good', 'display', 'thereif', 'planning', 'buy', 'use', 'long', 'term', 'variant', 'ufs', 'double', 'ufs', 'variant', 'possible', 'use', 'card', 'discount', 'available', 'good', 'price', 'possiblethank'], ['good', 'class', 'camera', 'excellent', 'night', 'ecosystem', 'experience'], ['phone', 'perfect', 'boring', 'thrill', 'good', 'trick', 'device', 'cool', 'gaming', 'save', 'battery', 'good', 'app', 'picture', 'little', 'sis', 'ultra', 'self', 'device', 'beast', 'pocket', 'rocket', 'good', 'picture', 'good', 'battery', 'life', 'chotu', 'phone', 'good', 'hand', 'experience', 'good', 'speed', 'well', 'gaming', 'experience', 'chinese', 'phone', 'time', 'heart', 'little', 'thing', 'heart', 'attack', 'day', 'satisfied', 'customer', 'little', 'bit', 'expensive', 'big', 'number', 'camera', 'performance'], ['compact', 'smooth'], ['medium', 'battery', 'backup', 'poor', 'present', 'multiple', 'thing', 'performance', 'profile', 'light', 'standard', 'help', 'hour', 'screen', 'time', 'user', 'old', 'device', 'app', 'battery', 'good', 'phone', 'app', 'battery', 'lifemany', 'online', 'forum', 'member', 'multiple', 'report', 'update', 'next', 'updatefinger', 'good', 'experience', 'butter', 'smooth', 'animation', 'quick', 'app', 'awesome', 'screen', 'multimedia', 'content', 'app', 'netflix', 'expert', 'raw', 'app', 'beast', 'unprecedented', 'level', 'output', 'regular', 'camera', 'app', 'default', 'camera', 'app', 'solid', 'camera', 'image', 'video', 'low', 'light', 'goodanother', 'thing', 'default', 'uninstallednote', 'thing', 'hard', 'way', 'screen', 'glass', 'fingerprint', 'good', 'detection'], ['good', 'phone', 'heating', 'era', 'phone', 'handed', 'use', 'pitfall', 'pro', 'ill', 'share', 'con', 'battery', 'last', 'day', 'normal', 'usage', 'evening', 'size', 'factor', 'issue', 'battery', 'optimisation', 'io', 'size', 'well', 'half', 'iphone', 'day', 'camera', 'longish', 'time', 'heat', 'photo', 'amazing', 'bent', 'fair', 'top', 'notch', 'worth'], ['great', 'smartphone', 'impressive', 'feature', 'cream', 'color', 'sleek', 'stylish', 'look', 'storage', 'phone', 'ample', 'space', 'app', 'photo', 'video', 'g', 'capability', 'lightningfast', 'internet', 'speed', 'perfect', 'streaming', 'content', 'highquality', 'camera', 'system', 'stunning', 'photo', 'video', 'market', 'new', 'smartphone', 'great', 'choice', 'deal', 'day', 'pricecamera', 'amazing', 'feature', 'adapter', 'issue', 'genius', 'chargei', 'company', 'cost', 'cutting', 'rubbishit', 'great', 'phone', 'samsung', 'pain', 'adapterit', 'charger', 'product', 'description', 'manual', 'charger', 'support', 'phone'], ['compact', 'factor', 'phone', 'big', 'point', 'touch', 'software', 'experience', 'good', 'phone', 'dialler', 'bit', 'versatile', 'experience', 'redmi', 'pro', 'experience', 'drive', 'cloud', 'subscription', 'variant', 'variant', 'insufficient', 'year', 'power', 'phone', 'bit', 'overpriced', 'worth', 'use', 'year', 'cover', 'screen', 'guard', 'phone', 'install', 'aftermarket', 'screen', 'guard', 'biometric', 'compatible', 'screenguard', 'able', 'biometric', 'function'], ['compact', 'phone', 'overall', 'good', 'performance', 'camera', 'month', 'research', 'thinking', 'pixel', 'pixel', 'none', 'good', 'exchange', 'discount', 'first', 'day', 'battery', 'battery', 'protection', 'option', 'charge', 'mobile', 'last', 'full', 'day', 'use', 'satisfied', 'battery', 'performance', 'big', 'disappointment', 'camera', 'performance', 'consistancy', 'photo', 'good', 'bright', 'colour', 'many', 'time', 'capture', 'person', 'photo', 'bad', 'many', 'time', 'photo', 'light', 'glare', 'issue', 'many', 'other', 'photo', 'look', 'dark', 'color', 'natural', 'software', 'pixel', 'camera', 'satisfaction', 'pixel', 'update', 'major', 'improvement', 'camera', 'software', 'update', 'year', 'much', 'focus', 'ultra', 'base', 'focus', 'price', 'high', 'camera', 'main', 'focus', 'first', 'flagship', 'device', 'device', 'atleast', 'year', 'camera', 'major', 'expectation', 'samsung', 'battery', 'performance'], ['easy', 'transfer', 'datum', 'old', 'new', 'phonethe', 'camera', 'quality', 'goodsupport', 'phone', 'hot', 'normal', 'time'], ['basic', 'daily', 'phone', 'king', 'battery', 'backup', 'nice'], ['overall', 'phone', 'awesome', 'well', 'iphone', 'issue', 'battery', 'drain', 'fast', 'put', 'request', 'exchange', 'phone', 'conversation', 'money'], ['month', 'launch', 'tonne', 'comparison', 'late', 'updatesi', 'solid', 'phone', 'run', 'atleast', 'year', 'issuesbought', 'iphone', 'due', 'iphone', 'inferior', 'display', 'camera', 'version', 'onlymy', 'friend', 'easy', 'comparethis', 'inch', 'phone', 'compact', 'bezel', 'thickfor', 'context', 'oneplus', 'inch', 'earlieri', 'handy', 'compact', 'phone', 'feltbattery', 'life', 'user', 'first', 'day', 'cod', 'insta', 'camera', 'performance', 'day', 'midnightjust', 'wish', 'watt', 'fast', 'charging', 'satisfied', 'purchase', 'nowwill', 'update', 'noteworthy'], ['simple', 'short', 'dual', 'need', 'charge', 'phone', 'day', 'battery', 'level', 'primary', 'phonethis', 'basic', 'thing', 'physical', 'store', 'cost', 'r', 'secondary', 'phone', 'entire', 'day', 'battery'], ['year', 'hesitant', 'oneplus', 'yr', 'phone', 'good', 'camera', 'shortlist', 'reading', 'review', 'good', 'deal', 'amazon', 'sale', 'exchange', 'offer', 'camera', 'photo', 'superb', 'processing', 'photo', 'great', 'nice', 'color', 'phone', 'responsive', 'ui', 'good', 'issue', 'fingerprintface', 'sensor', 'responsive', 'due', 'screen', 'guard', 'good', 'phone', 'camera', 'slow', 'phone', 'hour', 'charge', 'charge', 'whole', 'day'], ['mine', 'gbgb', 'varient', 'purchase', 'month', 'phone', 'battery', 'care', 'creepy', 'word', 'speak', 'itonce', 'charge', 'battery', 'good', 'see', 'screenshot', 'night', 'office', 'percentage', 'charge', 'heavy', 'user', 'good', 'mesmoothbutter', 'comfortable', 'hand', 'weighti', 'camera', 'camera', 'lover', 'ofsecurity', 'patch', 'oneplus', 'update', 'sale', 'purpose', 'year', 'backup', 'good', 'mahbattery', 'slow', 'thing', 'weightcomfortable', 'handpowerful', 'case', 'messedultrasonic', 'sensor', 'finger', 'printdisplay', 'good', 'seriesadaptive', 'chinese', 'phone', 'app', 'play', 'samsungnothing', 'user', 'experience', 'normal', 'user', 'itb', 'choice', 'upto'], ['little', 'monster', 'well', 'iphone'], ['different', 'othersi', 'fingerprint', 'face', 'recognition', 'time', 'price', 'iphone', 'face', 'problem', 'fingerprint'], ['bgmi', 'fps', 'finger', 'pren', 'problem', 'iphone', 'phone'], ['card', 'exchange', 'offer'], ['super', 'premium', 'hold', 'operate', 'camera', 'shot', 'level', 'small', 'real', 'life', 'good', 'experience'], ['rounder', 'phone', 'work'], ['overall', 'galaxy', 'ideal', 'fan', 'fast', 'performance', 'solid', 'camera', 'spacious', 'bright', 'screen', 'compact', 'package'], ['phone', 'good', 'android', 'phone', 'personal', 'experience', 'samsung', 'ui', 'skin', 'awesome', 'good', 'thing', 'camera', 'software', 'display', 'design', 'handling', 'samsung', 'app', 'gallary', 'editing', 'tool', 'health', 'quick', 'smart', 'thing', 'secure', 'folder', 'notification', 'pop', 'style', 'nox', 'security', 'handy', 'useful', 'tool', 'timely', 'update', 'point', 'decent', 'powerful', 'line'], ['display', 'camera', 'performance', 'good', 'battery', 'bad', 'hour', 'sot', 'normal', 'usage', 'usage', 'high', 'hour', 'maximum', 'sot', 'sometime', 'fingerprint', 'work', 'phone', 'perfect', 'design', 'weight', 'thing', 'big', 'issue', 'battery', 'battery', 'perfect', 'phone'], ['variant', 'day', 'bubble', 'content', 'phone', 'people', 'concerned', 'battery', 'life', 'start', 'worry', 'full', 'day', 'wifi', 'screenshot', 'battery', 'stat', 'phone', 'wifi', 'time', 'last', 'phone', 'mobile', 'data', 'time', 'phone', 'hr', 'min', 'charge', 'phone', 'superb', 'camera', 'smoothness', 'software', 'updatesps', 'fusionx', 'case', 'phone'], ['phone', 'great', 'good', 'build', 'quality', 'decent', 'battery', 'life', 'small', 'phone', 'amazing', 'software', 'much', 'customizehowever', 'price', 'camera', 'quality', 'bad', 'bad', 'picture', 'detail', 'manager', 'extent', 'color', 'reproduction', 'bad', 'basic', 'scenario'], ['size'], ['month', 'compact', 'phone', 'hand', 'corner', 'phone', 'great', 'software', 'usual', 'compromise', 'festival', 'exchange', 'old', 'phone', 'worth', 'money'], ['nice', 'product', 'good', 'compact', 'phone', 'android'], ['good', 'quality', 'camera', 'good', 'battery', 'backup', 'good', 'specification', 'good', 'sound', 'quality', 'somemore', 'noise', 'reduction', 'feature', 'well', 'quality', 'overall', 'good', 'worth', 'video', 'photo', 'clarity', 'good', 'comapre', 'tonother', 'mobile', 'matching', 'iphone'], ['low', 'battery', 'need', 'day'], ['good', 'phone', 'want', 'phone', 'iphonebut', 'finger', 'print', 'sensor', 'face', 'detection', 'late', 'update'], ['happy', 'device', 'amazing', 'experience', 'review', 'pro', 'con', 'con', 'displaysmooth', 'notch', 'camera', 'setup', 'photo', 'video', 'hand', 'easy', 'phone', 'use', 'overallfor', 'battery', 'size', 'sot', 'commendablesnappy', 'phone', 'speaker', 'excellentconswell', 'price', 'charger', 'sinbase', 'variant', 'gb', 'memory', 'card', 'slotfaster', 'support'], ['good', 'phone', 'overpriced'], ['battery', 'average', 'use', 'hr', 'battery', 'life', 'hrs', 'screen', 'time', 'sufficient', 'day', 'use', 'morning', 'evening', 'fantastic', 'portrait', 'mode', 'iphone', 'competereference', 'image', 'processing', 'outstanding', 'ton', 'premium', 'post', 'feature', 'object', 'competitiondisplay', 'samsung', 'comment', 'sexy', 'dikhta', 'friend', 'iphone', 'bulky', 'uncomfortable', 'long', 'use', 'good', 'hand', 'friendly', 'marketfinal', 'verdict', 'agar', 'good', 'ton', 'premium', 'practical', 'feature', 'iphone', 'provide', 'people', 'iphone', 'public', 'appearance', 'brand', 'value', 'iphone', 'compete', 'superfast', 'g', 'support', 'good', 'hd', 'call', 'quality', 'issue', 'mobile', 'network', 'multi', 'window', 'much', 'app', 'screen', 'ss', 'battery', 'usage', 'time'], ['month', 'top', 'notch', 'day', 'battery', 'life'], ['value', 'moneythis', 'phone', 'absolute', 'value', 'money', 'quality', 'price', 'battery', 'smooth', 'performance', 'app', 'camera', 'quality', 'screen', 'clarity', 'instance', 'hour', 'trip', 'map', 'trip', 'battery', 'place', 'surprised', 'awe', 'phone', 'previous', 'model', 'iphone', 'die'], ['nice', 'compact', 'fone', 'battery', 'display', 'security', 'fine', 'well', 'iphone'], ['aspect', 'decent', 'battery', 'excellent', 'cameraexcellent', 'processor', 'excellent', 'stereo', 'speaker', 'thing', 'phone', 'light', 'usage', 'phone', 'heated', 'week'], ['good', 'performance'], ['iphone', 'great'], ['oneplus', 'year', 'oxygen', 'amazing', 'doubt', 'good', 'phone'], ['android', 'year', 'apple', 'phone', 'old', 'apple', 'past', 'week', 'amazing', 'experience', 'overall', 'good', 'decision', 'feature', 'bixby', 'apple', 'catch', 'price', 'range', 'phone'], ['super', 'phone'], ['screen', 'perfect', 'battery', 'oneui', 'hour', 'time', 'hour', 'performance', 'snappy', 'call', 'quality', 'great', 'many', 'smart', 'utility', 'reminder', 'app', 'document', 'reader', 'call', 'recording', 'announcement', 'rare', 'good', 'feature', 'thing', 'point', 'long', 'fast', 'inch', 'screen', 'i', 'd', 'star'], ['phone', 'greatthe', 'battery', 'life', 'decent'], [], ['week', 'phone', 'yr', 'review', 'expert', 'phone', 'phone', 'doubt', 'haptic', 'nice', 'ui', 'connectivity', 'issue', 'phone', 'flagship', 'phone', 'well', 'connectivity', 'open', 'wifi', 'mobile', 'network', 'kind', 'bug', 'unable', 'use', 'internet', 'constantlyrefresh', 'device', 'well', 'network', 'call', 'alert', 'sm', 'mobile', 'network', 'full', 'strengthi', 'issue', 'yr', 'old', 'oneplus'], ['delivery', 'day', 'due', 'sale', 'multiple', 'orderspros', 'compact', 'size', 'flagship', 'camera', 'top', 'notch', 'processor', 'awesome', 'display', 'dual', 'speaker', 'cherry', 'topconsmay', 'battery', 'average', 'usage', 'camera', 'call', 'whatsapp', 'app', 'average', 'day', 'hour', 'screen', 'wort', 'opponent', 'iphone', 'compact', 'size', 'moderate', 'use', 'heavy', 'user', 'power', 'bank'], ['good', 'inch', 'phone', 'money', 'premium', 'phone', 'apple', 'value', 'moneygot', 'phone', 'discount', 'build', 'quality', 'strong', 'aluminum', 'frame', 'gorilla', 'glass', 'side', 'full', 'hd', 'pleasing', 'use', 'good', 'brightness', 'nit', 'user', 'experience', 'fluid', 'storage', 'phone', 'usage', 'buttery', 'smooth', 'camera', 'top', 'notch', 'software', 'great', 'job', 'brilliant', 'picture', 'battery', 'yay', 'good', 'part', 'phone', 'deliver', 'combination', 'battery', 'battery', 'last', 'day', 'common', 'use', 'case', 'software', 'experience', 'great', 'update', 'year', 'long', 'phone', 'good', 'compact', 'android', 'phone', 'money', 'discount', 'pure', 'value', 'moneysamsung', 'year', 'kudo'], ['small', 'size', 'light', 'weight', 'good', 'good', 'charger', 'accessory', 'finger', 'print', 'sensor', 'good', 'heating'], ['color', 'good', 'battery', 'problem', 'hrs', 'finger', 'print', 'sensor', 'good', 'good', 'quality', 'screen', 'guard', 'gaming', 'performance', 'way', 'future', 'phone', 'good', 'camera', 'video', 'impressive', 'well', 'photo', 'current', 'iphone', 'value', 'money', 'phone'], ['people', 'battery', 'life', 'experiencei', 'moderate', 'user', 'purpose', 'photo', 'game', 'device', 'light', 'performance', 'profile', 'suit', 'usage', 'setupusage', 'day', 'battery', 'lifeif', 'usage', 'similar', 'compact', 'phone'], ['second', 'device'], ['happy', 'purchase', 'happy', 'top', 'line', 'flagship', 'value', 'satisfaction', 'watch', 'overall', 'ecosystem'], ['compact', 'phone', 'display', 'sound', 'gesture', 'brilliant', 'compact', 'user', 'doubt', 'overall', 'weight', 'impressive', 'battery', 'little', 'way', 'negative', 'day', 'heavy', 'user', 'problem', 'little', 'normal', 'user', 'balanced', 'smartphone'], ['first', 'time', 'device', 'impressed', 'oneplus', 'bank', 'performance', 'top', 'notch', 'phone', 'smooth', 'camera', 'impressive', 'love', 'comfortable', 'handle', 'thing', 'slow', 'speed', 'hr', 'rest', 'good', 'customization', 'app', 'icon', 'size', 'happy', 'purchase'], ['specification', 'x', 'front', 'gorilla', 'glass', 'glass', 'dual', 'esim', 'dual', 'standbyip', 'resistant', 'minarmor', 'aluminum', 'frame', 'tough', 'drop', 'scratch', 'resistancedynamic', 'nit', 'peak', 'inch', 'screentobody', 'ratio', 'pixel', 'ratio', 'gorilla', 'glass'], ['battery', 'bit', 'small', 'last', 'day', 'heavy', 'usage'], ['photography', 'camera', 'mini', 'dslr', 'photo', 'sample', 'camera', 'quality', 'amazing', 'well', 'iphone', 'pro'], ['many', 'year', 'work', 'battery', 'backup', 'camera', 'top', 'league', 'product', 'price'], ['great', 'phone', 'light'], ['lavender', 'nice', 'device', 'buttery', 'smooth', 'handy', 'product', 'decent', 'camera', 'right', 'size', 'phone', 'battery', 'good', 'yday', 'pretty', 'heavygetting', 'day', 'ill', 'backup', 'good', 'mahapps', 'snappy', 'confused', 'app', 'app', 'haptic', 'good', 'customizable', 'miui', 'good', 'app', 'many', 'new', 'unfamiliar', 'appsother', 'fine'], ['review', 'month', 'device', 'phone', 'good', 'quality', 'premium', 'software', 'experience', 'good', 'bug', 'main', 'issue', 'phone', 'battery', 'backup', 'whole', 'day', 'hour', 'screen', 'time', 'wifi', 'hour', 'mobile', 'data', 'battery', 'performance', 'well', 'samsung', 'midrange', 'phone', 'good', 'battery', 'backup', 'camera', 'day', 'time', 'pic', 'good', 'little', 'oversaturated', 'night', 'mode', 'pic', 'great', 'time'], ['phone', 'hand', 'case', 'sturdy', 'enough', 'camera', 'display', 'sound', 'software', 'experience', 'fantastic', 'battery', 'decent', 'mobile', 'standard', 'phone', 'size', 'day', 'moderate', 'usage', 'mobile', 'internet', 'wifi', 'work'], ['device', 'absolute', 'monster', 'power', 'first', 'time', 'small', 'device', 'comfy'], ['video', 'player', 'videoplaymutecurrent', 'time', 'duration', 'stream', 'type', 'liveseek', 'time', 'xplayback', 'ratechapterschaptersdescriptionsdescription', 'selectedcaptionscaption', 'selectedaudio', 'modal', 'camera', 'quality', 'phone', 'attaching', 'photo', 'marriage', 'batterry', 'day', 'heavy', 'smooth', 'lag', 'last', 'week', 'heavy', 'game', 'official', 'app', 'charm', 'device', 'flagship', 'wise', 'speed', 'good', 'phone', 'approx', 'hour', 'charge', 'full', 'on', 'con', 'charger', 'phone', 'good', 'discount', 'card', 'charger', 'happy', 'performance'], ['iphone', 'phone', 'way', 'handy', 'camera'], ['cream', 'version', 'premium', 'dilemma', 'oneplus', 'costing', 'gadget', 'bonus', 'phone', 'battery', 'life', 'decent', 'hrs', 'sot', 'hr', 'total', 'battery', 'life', 'high', 'usage', 'chrome', 'social', 'medium', 'app', 'game', 'performance', 'buttery', 'smooth', 'outdoor', 'brightness', 'exceptional', 'joy', 'watch', 'video', 'excellent', 'good', 'portrait', 'night', 'time', 'shot', 'fps', 'con', 'slow', 'charging', 'w', 'charging', 'option', 'slow', 'battery', 'min'], ['good', 'phone'], ['phone', 'good', 'camera', 'result'], ['phone', 'standard', 'hell', 'lot', 'time', 'charge', 'discharged', 'phone', 'small', 'photograph', 'day'], ['camera', 'good', 'display', 'dope', 'nice', 'flagship', 'experience', 'small', 'con', 'camera', 'arrangement', 'hand', 'touch', 'cam', 'day', 'ultra', 'size', 'big', 'guess', 'battery', 'decent', 'way', 'well', 'scam', 'performance', 'indoor', 'morning', 'night', 'mode', 'well', 'picture', 'lot', 'post', 'processing', 'image', 'image', 'hdrish', 'sure', 'future', 'update', 'camera', 'bright', 'light', 'front', 'camera', 'amazing', 'fps', 'video', 'fiire', 'screenshot', 'video', 'good', 'standalone', 'image', 'ton', 'detail', 'stabilization', 'excellent', 'fun'], ['value', 'money'], ['other', 'review', 'solid', 'device'], ['perfect'], ['awesome'], ['top', 'notchbatteryperformance', 'camerafeelfeature', 'first', 'time', 'price', 'satisfied', 'day', 'battery', 'day', 'day', 'normal', 'surfing', 'doubt'], ['handy', 'phone', 'main', 'satisfaction', 'chinese', 'model', 'phone', 'superb', 'chinese', 'oneplus', 'model'], ['device', 'iphone', 'size', 'body', 'narrow', 'brief', 'usage', 'heating', 'sort', 'day', 'phone', 'usage', 'lite', 'mode', 'haptic', 'feedback', 'remarkable', 'usage', 'phone', 'iphone', 'bad', 'eitheri', 'expectation', 'phone', 'exchange', 'process', 'flipkart', 'satisfied', 'purchase'], ['good', 'compact', 'mobile', 'decent', 'battery', 'life', 'superb', 'flagship', 'phone', 'satisfied', 'last', 'day', 'full', 'review', 'month', 'experience', 'good'], ['amazing', 'mobile', 'alot'], ['review', 'month', 'goodpro', 'picture', 'nice', 'hanging', 'display', 'awesome', 'compact', 'phone', 'comfortable', 'use', 'quality', 'goodnegative', 'charge', 'day', 'disruption', 'voice', 'app'], ['camera'], ['camera', 'mode', 'superb', 'portrait', 'mode', 'video', 'amazingbattery', 'good', 'normal', 'game', 'screen', 'time', 'normal', 'hour', 'owsomecharging', 'time', 'connectivity', 'problem', 'good', 'value', 'money', 'rating']]\n"
     ]
    }
   ],
   "source": [
    "print(tokenized_reviews)"
   ]
  },
  {
   "cell_type": "code",
   "execution_count": 15,
   "id": "a1934e54",
   "metadata": {},
   "outputs": [],
   "source": [
    "final_reviews = [' '.join(review) for review in tokenized_reviews]"
   ]
  },
  {
   "cell_type": "code",
   "execution_count": 16,
   "id": "f99d56df",
   "metadata": {},
   "outputs": [
    {
     "data": {
      "text/plain": [
       "['phone year worth screen tall phone similar size phone processor smart switch phone easy samsung flexible lot customization screen thing beautiful toned useless curved side screen hole front great refresh rate resolution samsung incredible display difference resolution refresh rate phone camera great flagship phone good tech notice minor benefit difference thing setting great picture scenario night time complaint wireless bloatware quirky thing service area superior many carrier able gb microsd claim well g general stupid reason verizon record one cost saving measure phone tolerable tech big sibling fraction price pocketable form factor important small phone top line flagship screen camera processor phone mid tier price range thing gb factor extra take advantage regular user lack ram memory expansion little disappointing base model plenty general fantastic phone great price phone great hyper sensitive techie care concession day use',\n",
       " 'thing camera quality wonderful refresh rate display great heatercontinuous use camera video hold minute exyno inefficient chip heat phoneno value money heating problem update nightmare',\n",
       " 'hand glass slab metal frame light solid dense grip comfortable hand use narrow form wake glass slab life favourite pic wallpaper life thing screen thank amazing display fluidity unreal soothing gesture phone delightful experience phone slow stutter loaded memory processing power camera amazing novice photographer good shot other awe wonder photo ton ton phone useful screen recorder bixby routine operating system notch good system io decent extraordinary useful maximum power saving mode compensate good dash charginggorgeous ergonomic form strong build brilliant display superfluid operating system good gadget inch good experience good well month phone loving minute',\n",
       " 'review month body wise fabulous easy hold hand battery life average charge phone video game finger sensor smooth need press unlock phone many time camera quality love phone reboot multiple time reason phone error report site unexpected reboot day lag performance rating pro con flagship phone premium price clear view cover offer customer information product description',\n",
       " 'last week day phone main problem phone heating issue gamer phone playing game battery life highend mobile main mobile phone battery heat fingerprint reader bad attempt phonegood thing smooth compact premium camera',\n",
       " 'beauty sized compact powerful phone go confused happy opt chinese phone compromise securityi discount color cosmic graybox content phone scratch type good power adapter fast charging hour phone transparent case camera amazing page sample front camera good skeptical megapixel good world fan large screen performance lag big game form factor solid sleek design single hand hand edge display love notification screen glow edge ui infact customizable stock bixby apart routine much water dust resistant expensive phonecon performance battery fast finger print sensor press toto chinese brand iphone series way powerful good class',\n",
       " 'refund money',\n",
       " 'first premium phone love type display smartphone job ram management good app background long duration reload camera decent job good compare pixel well iphone serie many scenario front camera good good selfie rear camera good time single takewhich good feature speaker clear crisp design handy good size smartphone love con battery quick software issue phone morning sensor software final recommendation thisyou love',\n",
       " 'early phone variant similar performance year performance difference huge phone main gripewhat bad battery run slow variant phone heat quick throttle video callsthe refresh rate phone hot happen even camera quality worseso sum bad performance variant bad battery life bad photo part month device battery last day phone issue star',\n",
       " 'first delivery amazon review review bad exyno processor opinion performance difference minor lot review multiple thread exyno processor second thought purchase phone week glad didpeople testing game device battery life phone hot think lot phone game honest pc laptop heavy game dedicated machine play game phone gaming thousand device game trust device game case hour screen time phone hot iphone hot thing big deal finger print sensor work physical finger print sensorcamera quality good capture video sharpthe new user interface ui combined display device menu app buttery display sharp headphone jack device wireless earphonesoverall phone awesome phone look great hand lot compliment people beautiful phone',\n",
       " 'year personal choice boycott getpros beautiful look lag smooth interface multiple superfast chargingcon pathetic battery backup camera similar oneplus new feature x clarity image pixelated touch sensor smooth face unlock inferior screen size small notification ringtone app possible worthy upgrade seriesstill vivo oppo realme',\n",
       " 'display awesome phone fasters smooth camera top good range work fingerprint reader bit slow general theme phone battery life day usageand review heating issue normal usage call staggering degc video camera temp high talk amazon replacement least device faulty',\n",
       " 'perfect phone snapdragon phone chip load phone joke flagship substandard chip price result heating issue low batterycamera app min usage due excessive heating phone n number update chip phone',\n",
       " 'good class mobile excellent camera performance premium handy use aspect ratio good performance high end game lag good display phonecon battery performance great exyno processor great deal last day moderate use fingerprint sensor',\n",
       " 'phone perfect use display smooth see camera good significant upgrade threeyear old see lot complaint heavy gamer video hour stretch performancewise complain con fingerprint sensor miss previous iteration speaker horrible earphone great sound quality earphone slot usbc earphone people phone use earphone time',\n",
       " 'awesome qhdcamera good market mobile thereperformace reviewing phone monthexyno bad processor flagship snapdragon socheat normal usage drain battery swiftlyand game phone able phone result immense heat phonealso issue earliercomparable slow performancei phone itthis bad decision phone asian region',\n",
       " 'phone moto year great change here personal opiniondisplay option phzcamera aboutbattery enoughperformance hiccup lot quality disappointed purchase',\n",
       " 'much day pro con gaming photography happy camera part performance snapdragon well display smooth pro con camera improvement sconsthe fingerprint scanner rate drain batteryit capacity mahinterface oneui audio headphone inch qhdthanksprateek',\n",
       " 'big shout amazon customer care lot heating issue screen time hour minimal usage phone hasslesit great camera screen unit confident unit samsunggot galaxy bud order offer great',\n",
       " 'saddest part phone use earphone port bothalso type power end cable cable plug',\n",
       " 'version battery life hour less iphone apple whole day reader fit finger press multiple time future software update camera good stable love',\n",
       " 'review day phone nice good display segment flagship smart phone slim abd slippery',\n",
       " 'phone ordinary becauae immage identical comfort finger print reader battery life good price value money',\n",
       " 'phone respect performance camera flagship product big sensor back check much buying',\n",
       " 'pro great camera good display smartphone available market topnotch quality decent battery life smooth ui due refresh rate lightweight great speakerscon heavy gaming fingerprint reader',\n",
       " 'technical inspection person money name refund amazon customer service center new mobile fault heating chargin battery issue',\n",
       " 'heating issue game everyone phone upexyno well phography bad gaming phone problem good well premium phone good camera phone brand value comparable apple go phone use itscreen time hrs wqhd resolutionbest',\n",
       " 'screen utility edge screen area enjoyable mobile thin scratch mobile light color young reflective panache stereo speaker display video experience interestingthe battery life adequate long prefer placement fingerprint sensor previous model screen sensor bonus discount galaxy bud mobile worth money',\n",
       " '',\n",
       " 'excellent display refresh rate camera good wide angle pro mode slow motion lapse night mode much zoom much clarity good good battery life heat heavy game quality gaming lag update late android pixelmust budget k',\n",
       " 'good screen excellent battery life excellent speakersfingerprint scanner good hope chip heating issue game overall good package good deal device',\n",
       " 'overall phone good heat lot minute normal use heavy app heat much finger old phone big first time high expectation major issue phone thankful amazon amazing customer care service technician phone able return',\n",
       " 'fingerprint reader slow new update issue battery heavy usage overall performance cool',\n",
       " 'fingerprint reader mark well phone good camera good battery good phone nice ui phone',\n",
       " 'low performance phone performance bloated software phone',\n",
       " 'amazing performance thorough thought aspect phone design flawless sleek compact beautiful light weight hour tension hand phone user friendly camera phone amazing slow motion feature',\n",
       " 'well phone big screen great overall fantastic camera great earphone accessory worth drawback common c type port usb plug prevent phone plugging earphone time bland colour choice',\n",
       " 'phone gift birthday good phone series phone week well sensor quick battery life hr phone dogo itthis money',\n",
       " 'good feature wowfeature many featurescamera wowvideo display wownow joke feature battery bad good battery switch feature phone nokia due exyno processor final verdict',\n",
       " 'finger print reader average front camera good inclass main camera good display good good battery life good awesome overall good phone compact form factor',\n",
       " 'overall phone user experience goodthe fingerprint scanner unresponsive sometimesthe battery backup good day hrs screen rate highlight phone experience awesomeoverall phone value money',\n",
       " 'phone premium camera great video flagship performance good display great battery life good fingerprint reader improved consistentgood card support incase increase capacity ip water resistant handy rainy weather photo video',\n",
       " 'poor battery performancei phone excellent',\n",
       " 'phone camera ultra wide angle zoom feature fantastic phone perform setup phone office enough performing function mobility mobile phone level',\n",
       " 'review phone month class rival rate high trend love phone compact handy people small phone galaxy',\n",
       " 'product worth money bad battery life heat food terrible bad phone',\n",
       " 'iphone beauty nice phone smooth display amazing sound quality dolby atmo amazing rate iphone easy worth heavy usage battery last upto full day percent',\n",
       " 'iphone user life jump phone way well feature iphone screen camera battery life well use phone lot comment month line',\n",
       " 'good phone battery life fingerprint reader',\n",
       " 'fingerprint reader sluggish phone hot',\n",
       " 'size handcamera lag app much fasterlook premiumin box silicone back cover protective film screen fittedbud huge discount mrp part great buy',\n",
       " 'phone overheat lot playing game display refresh rate',\n",
       " 'lot issue video call mobile able nearby object bty less hr regular activity',\n",
       " 'flagship phone flagship areasawesome build camera different shot nightclean simple lagawesome experience pubg fornite gamesound quality great good stereo speakerscharger wattage great phone',\n",
       " 'mother long multiple attempt phone amazing price credit card discount spacial promotion cheap needless touch camera user experience battery life',\n",
       " 'ass phone fly screen stunning great camera phenomenal drawback device battery entire day phone heat software patch good go',\n",
       " 'wowthis phone good phone iphone sand awesome rounder perfect size water resistant beautiful camera premium look many thingsi word phone mobile',\n",
       " 'good upgrade egde update technology product good',\n",
       " 'good handy phone good spec display amazingheavy user battery life bit',\n",
       " 'time voice outgoing voice course call fault problem month handset warranty period handset',\n",
       " 'camera phone problem auto mode unable focus close object less cm close photograph blurry focus hardware issue user world software update spending flagship phone basic right',\n",
       " 'good camera blurry closeup subject due large sensor size ui update heat issue pubg update constant fps smooth graphic problem slow hot',\n",
       " 'good product good',\n",
       " 'finger print reader slow battery life camera quality',\n",
       " 'pro great camera good display smartphonesavailable market topnotch quality decent battery life smooth ui due lightweight great speakerscon heavy gaming',\n",
       " 'good great phone perfect size good screen high end android high refresh rate option kind',\n",
       " 'great cameraaverage battery life refresh rate rapidlygood speaker',\n",
       " 'fingerprint sensor upto mark good camera quality nice many mode available photo video battery life hour video day light weight handy mah battery sleek design awesome',\n",
       " 'phone software issue fair phone couple month several update great phone buy',\n",
       " 'gift wife huge decision shift iphone yearsi nervous phone feature ease use big smile face',\n",
       " 'speakerphone call software update frustrating battery life disappointing frequent recharge galaxy bud annual insurance scheme rate phone galaxy bud post payment insurance care package',\n",
       " 'pro sleek model term decentcon terrible battery lifeheat long time',\n",
       " 'good phone different term experience',\n",
       " 'early camera phone great disappointmentthe camera bad high price useless camera x zoom comedy many less price cariant phone good camera autofocus poor average chinese camera',\n",
       " 'nice phone',\n",
       " 'beautiful phone performance enough user amazing battery life reader amazing',\n",
       " 'mobile good fastbattery life hour full charge phone heat heavy app good',\n",
       " 'major change',\n",
       " 'broken phone cover product',\n",
       " 'pro good size great display good user interface call quality cameracon battery life refresh rate last day heavy usage snapdragon version well battery performance',\n",
       " 'size hand',\n",
       " 'phone month amazing feature much fingerprint reader battery life worth money phone',\n",
       " 'year screen flicker week time complete white screen green tint service center replace screen disappointing experience',\n",
       " 'series guess stick amazing phone mind camera',\n",
       " 'amazing phone good battery life high resolution camera sleek handy processor fast touch quality super responsiveoverall absolute value money',\n",
       " 'satisfied productnice performance smooth light weight minimal spacefinger print reader fast battery performance',\n",
       " 'wonderful customer support day reset device heat call photo kind worthless product disheartening service amazon',\n",
       " 'user friendly',\n",
       " 'memory speed excellent camera lot new feature edge display usefull',\n",
       " 'phone worth amazon lakh money',\n",
       " 'good phone',\n",
       " 'amazing product love time packing',\n",
       " 'battery backup bad day heating min usage problem multiple task day product boughtthe good thing camera smartphone',\n",
       " 'betterno heating lag issue',\n",
       " 'global peace',\n",
       " 'good mobile phone buying',\n",
       " 'good',\n",
       " 'overall good device excellent displaybuild quality easy single hand',\n",
       " 'phone serious problem difficult hold handset camera good battery heating issue bad time phone',\n",
       " 'good phonethe issue less battery life',\n",
       " 'photo device able good price display good small size badda iphone x recordingit con battery full charge hour twice daymy review level picture record video compact devicesif hardcore thing phone gaming video editing r',\n",
       " 'video player videoplaymutecurrent time duration stream type liveseek time xplayback ratechapterschaptersdescriptionsdescription selectedcaptionscaption automatedaudio trackdefault modal device weekabout battery time usage pattern day battery backup betteri moto battery early device problem consumer battery backup other complete day abundant photographyi game device day old mobile charge bed time next morning usage satisfctory battery backup break deal reason other know usage first study screen time pattern old deviceother battery issue mob normal good thing notice bak cool fast heating deal breaker warm heatsr mob aspect screen camera quality well iphone device snappy perfect form factor loging longi quality photograph',\n",
       " 'impressive feature couple notable drawbacksbattery life heating short battery department charge day heavy user heat usage usersfingerprint sensor positive note fingerprint sensor excellent fast reliable authenticationdisplay stunning amoled display maximum brightness nit vibrant visual quality audio quality ss stereo speaker immersive sound many smartphone interface device ui smooth intuitive user experience minimal bloatware application usabilitycamera camera setup impressive triple rear camera ois night optical zoom ability record rear camera photography enthusiastsperformance processor responsive performance smooth gaming experiencesdurability gorilla glass rating water dust resistance durability peace mind quality camera performance user interface limited battery life tendency heat significant concern potential buyer drawback premium smartphone experience plethora feature',\n",
       " 'phone monster inch display term performance various aspect camera pro grade display marvelous sound loud immersive experience quality next level steel fram gorilla glass protection front back performance amazing full power display butter smooth nit brightness display aspect full mark big flaw phone battery power phone high consumption capacity heavy user gaming performance awesome due battery prolonged basis little bit issue heavy tasking phone day casual user last whole day heavy user full day battery people casual user normal day day use pro grade phone premium flagship long term use year major update year security segment chinese tinny phone lover inch display',\n",
       " 'ill first deal con buyingcon battery backup phone drain battery little battery percentage drop minute cab speed hour watt charger high time game term charger time www charger speed heating phone hot taking photo camera internet battery toopro feature phone many feature day work good ui experience ui good portrait shot phone good camera segment premium exterior green variant sleek compact z flip small phone',\n",
       " 'frustrated performance phone phone water moisture issue port customer centre person liquid problem warranty part good mobile company good month purchase much high phone good performance quality phone day show device good',\n",
       " 'much butpro good fingerprint scanner water surface dynamic camera portrait image video nice resolution screen screen max sunlight ui thank powerful processor easy stylish designcon little lightweight battery quick deal itthese major pro con type user good phone compare good deal ultra flaw',\n",
       " 'review use month phone sale camera compactness pathetic battery review camera night camera performance top notch similar iphone sample camera front cam night mode great work fps main ultra wide cam shoot various camera portrait pic awesome camera colour reproduction naturalperformance wise good phone flagship hungry processor apple bionic number price difference thing many brand bettery performance gamer regular app phone meager ½ hrs continuous usage hour intermittent usage screen standby pic alwaysondisplay battery life app sleep system battery drain background app great maximum power saving mode battery drain rate hour standby mode pic hour juiceup buying power bank travel muchindisplay fingerprint sensor ultrasonic work glass screen protector press hard dirty dry finger time face unlock fast use ui awesome many feature popup multi screen time update yr asphalt legend game auto setting minor temperature rise processor lot battery quicklyjuly update available area last month spectrum speed astonishing day friend mine major improvementsverdict compact flagship camera phone budget bit iphone iphone bit well big price tag',\n",
       " 'great battery',\n",
       " 'product satisfactory performance exception minor issue heat generation worthwhile investment',\n",
       " 'video player videoplaymutecurrent time duration stream type liveseek time xplayback ratechapterschaptersdescriptionsdescription selectedcaptionscaption automatedaudio modal phone great otherthan heating issue battery life camera video game part heating love camera battery drain heavy user d rate',\n",
       " 'dint know charger inconvenient tranfer datum slow comfortable',\n",
       " 'superbut battery backup',\n",
       " 'beast performance battery backup gamer heavy user normal usage phone run time single charge power saving mode hold battery camera good price range price well iphone amazing experience display ratebetter iphone phone problem twice day',\n",
       " 'phone smooth battery little hot',\n",
       " 'good quality',\n",
       " 'past year highend model phone perfect phone compact powerful processor gorgeous display fantastic camera samsung bugless perfect user friendly oneui issue battery backup issue note gamer much call business screen time hour day comfortable day battery backup charge day morning time minute next day morning case phone plenty variety phone',\n",
       " 'phone overheating problem',\n",
       " 'great mobile great deal kcamera picture quality good everyday usagefor gaming big processor everythingthank amazon',\n",
       " 'camera',\n",
       " 'supper fine big issue biometric problem angle finger angle time actiation unsatisfactory work time unlocking screen',\n",
       " 'review pro con month usagepro handy phone overpriced big day sale cheap screen quality quality fantastic premium ui security upgrade regular rear camera fantastic ui option optical zoom camera wide angle camera great color shift main wide angle cameracon big con phone horrendous battery backup home wifi network evening pm percent percent hour use sim battery drain fast hertz refresh rate home usage mobile run sim internet battery fast auto brightness manual control screen brightness battery mobile heating issue issue phone processor front camera average low light back camera sun glare harsh light video time mobile heat video people much social medium io iphone iphone',\n",
       " 'product mark',\n",
       " 'premium model mobilefuturespeedcolourbattery oklooking great modelcharging gooddisplay size quality good',\n",
       " 'prosamsung galaxy series good android experience close competition software camera hardwaremindblowing display fingerprint reader hapticsthrow task compact phone top notch hardware performance close snow price reason pixel great speakersfantastic camera case phone productive tool utility personal tasksone ui great little drawback modethe green performant processor power hungrythis battery life heating issuesi aware thought heavy task streaming charger issue battery charge glass scratch classy use cover noticable scratch day usei cheapersince major issue',\n",
       " 'good term devicesbut device many good quality useless main poor battery lifeif compromise basicswell',\n",
       " 'medium product correct date open delivery option record unboxing video nonstop return purposephone compact display camera goodbattery day usage battery drain time hr screen time happy purchase',\n",
       " 'pro compact powerful performance phone due snapdragon processor excellent display vibrant colour display phone premium smartphone iphone pro pro excellent quality matte finish glass steel frame gorilla sidescon dual speaker peculiar issue loud speaker top speaker voice sentence bottom speaker complete sentence top speaker voice break problem service agent smartphone service guy phone problem issue use loud speaker mode beware course multimedia content speaker sound problem call battery day usage moderate heavy uninstalling bloatware many feature galaxy edge charger box phone fast fast charger nonsensical thing charge charger highspeed charger w charger dash charger fast charger chargerless phone slow charger charger compromise merciless charger huge amountthis phone compact phone feature phone moderately option',\n",
       " 'kid device matured premium phone phone profession user amazing camera great phone well iphone',\n",
       " 'good camera',\n",
       " 'winner category tick form factor ergonomic comfortable usethe good term functionality worthy software glitch stutter late updatebut big concern adress work battery dptit inadequate poor catagory price work new battery technology speed software mgmt last least hr compromise handset warm top left corner side travel charger box',\n",
       " 'phone good good feature high range brand phone charger basic app lock feature mid range brand vivo providei type cable adapter point',\n",
       " 'camera speaker hand compactness screen battery backup standout',\n",
       " 'phone awesome lightweight',\n",
       " 'device day usage love difficult powerful compact phone day phone niche design awesome premium design regular ss ultra year display gorgeous dependable camera system good picture video speaker good promising year important love phone hand fan compact phone toohowever hunkydory course battery life average light user play game lot photo video twice day phone warm workload issue upcoming go fan compact phone user',\n",
       " 'series phone many long year series phone brand mobile good phone compact form factor lovable thing phone topnotch processor mobile charginggaming common mobile brand cold bit performance snappy game file transfer speed impressive camera performance impeccable photo review check photo samsung superb color accurate time factor call reception sound good expensive device battery decent user fact people high mah battery example long time expective much backup impossible go apple pixel device less battery mini flagship variant case heavy user battery day gamer person charge device buck ultra beautiful compact gadget flagship performance good market moment amazing experience',\n",
       " 'wise awesome goodvery handy light weightgo',\n",
       " 'compact mobilescamerasuperb classdisplaybest class bright vivid ittouch fluid good oxygen lotcon battery hard gamer time sot hrs heating issue screen protector finger fineif screen protector little problematic finger print authentication purchase screen protector website use fineover mobile love compact mobilesnoteif battery beast price rangeneed heat management',\n",
       " 'poor battery performance sensory function poornot worth priceeven difficult service defect amazon return careful purchasing mobilethis bad choiceit time recharge heatedup finger print sensor face sensor pooradvise mobile',\n",
       " 'phone battery power phone light weight phone hand transaction lag day day operation smooth interface intuitive phone call quality good low signal area phone premium photo disappointing avid gamer phone playing game battery juice well life screen refresh rate switching notification unwanted app standby mode battery last long phone tick current sale price',\n",
       " 'overall item worth offer',\n",
       " 'confused iphone happy compact phone hand pocket tiny monster camera lense well iphone battery heating issue heavy usage common flagship mobile thank power bankhowever score camera segment average user battery life battery usage screenshot hr hr screen time camera period battery life app datum cloud first charge cycle battery week learning process complete sleeping period wifi well battery refresh rate fuel economy engine heat mobile power bank case long journey',\n",
       " 'battery',\n",
       " 'camera top level display campact size verry good phone charging slow video nice brightness high level',\n",
       " 'job flagship classy elegantafter year usage single big issue battery full charge survive evening phone',\n",
       " 'good sturdy phone fantastic user experience mind great battery able power user battery inadequate much day avid gamer watch lot video day phone normal user perfect phone youthis experience high end phone great user camera incredible priceit expensive orange pro phone free advise gold bond current prev generation double triple price high end camera system user experiencecrisp qualitybuilt triple cameraselfie camerasize head phone battery',\n",
       " 'month good deal season reason handy fit pocketfirst thing first battery life bit low working game social medium phone heat lot processor extensive screen quality amazing dark mode experience battery life new ui usable feature overall software experience quality great feature tech telephoto lens hot shot',\n",
       " 'overall great phone great camera quality top notch segment issue normal screen guard display fingerprint scanner',\n",
       " 'issue battery backup normal user day station powerpack rest thing perfect',\n",
       " 'phone slim handy model good display quality camerasperfect model heating issue ok screen size good performance',\n",
       " 'great size colour smooth running',\n",
       " 'phone brilliant superb build quality premium hand compact classy display amazing good segment full hd speaker job enough internal great qualcomm phone small size warm bit heavy use big complaint pathetic sufficient today day age priority light business great buy gamer',\n",
       " 'day human smart object thing people optimisation crisp smooth pleasurable great product hardware software integration iphone good point behindbut time happy issue battery power hungry machine big battery charger bank happy buy perfect size smart phone',\n",
       " 'good mobile k software experience awesomegood peroformance great build quality customizable',\n",
       " 'land line',\n",
       " 'day product nice phone good battery drain fast mha heating issue video call capture heat heavy user phone heat n battery drain phone twitter whatsapp skype mail n banking app',\n",
       " 'camara good performance good need video quality need battery life battery hoursheating issue',\n",
       " 'top notched device segment device neat classicbattery last average usage phonehigh refresh fast obviouslycamera bomb well iphone snapdisplay bright clear smooth responsivehavent heavy gaming week processor green colour last month septcon paint bit poor camera area paint silver aluminum visible rigid finishoverall gorgeous stunning amazing great device amazon great delivery job',\n",
       " 'good great camera performance average battery lifeoverall minor defect phonethe power button good double tap wake lock gesturevery poor delivery phone charger different site product place',\n",
       " 'phone small palm year good phone life screen size phone year year good choice camera excellent quality superb battery backup area concern usage charge deal breaker',\n",
       " 'review battery life true heavy usage hour screen time normal usage hour screen great product concern battery camara battery display performance gaming design last least heat lot heavy',\n",
       " 'phone nice size inch excellent display amazing camera battery life dismal identical day old yearold good ergonomic phone good half price iphone pro phone size well deal use type cable',\n",
       " 'easy use',\n",
       " 'old mobile warranty phone week water damage c water spill ip water rating water min main problem old phone',\n",
       " 'word smooth premium phone life boy due io optimization well security feature good security feature industry iphone price smooth display much fluid brand display camera top notch downside battery capacity fast day battery well battery backup hard user',\n",
       " 'overall good challenge battery poor phone hrs battery discharge soo bad battery life',\n",
       " 'phone premium camera superb battery sufficient day backup heavy user hr backup rest superb fingerprint fast processor hot thermal well phone take phone powerful component hungry power battery drain test similar ultra half hour extra backup much phone compact much',\n",
       " 'experience phone uncomparable androidpro sized flagship hand usage excellent screen superior media playing experience netflix premium hand experience phone case hand flagship camera video recording smooth long term security updatescon battery life home issue field deal breaker device heat first week update lessonly phone compete iphone max benifit apple product ecosystem iphone happy',\n",
       " 'green color device exotic good class display camera date late flagship feature good hand design fast good original product battery life heating problem',\n",
       " 'phone great hand flagship level great build quality sturdy premium side matte glass finish phone score well aspect battery life usage person mobile lot iphone budget',\n",
       " 'time display heavy heat',\n",
       " 'poor normal use charge day suitable',\n",
       " 'iphone coz third class lightening port usb ci compact flagship rare day galaxy z flip trust guy open screen size inchesi sell compact phone great single hand usagebattery life good single day usagemedium usageif play game phone',\n",
       " 'compact stylish good camera lot updation low connectivity',\n",
       " 'review battery duration high mah galaxy note long morning night use call youtube game good handy phone doubt connection bud pro galaxy seamless pack phone',\n",
       " 'camera image quality awesome phone overheat little photo good playing game general usage problem opinion famous shutter series image target os huge delay camera button photo camera update good previous',\n",
       " 'battery life low evening everyday major drawback phone handy rich top notch hybrid slot microsd card good value money flagship phone gaming phone phone gaming clash royale bit annoying camera good charger adapter',\n",
       " 'amazing phone good small compact phone small compact phone long fedup compass box phonepeople phone normal use last battery day picture phone',\n",
       " 'life bad comment game medium last dayonly time battery problem low network area case phone compact phone good finishcon low vibration speaker distortion',\n",
       " 'iphone bit fair camera good colour software functionsconsbattery drain phenomenal refresh rate due couple video battery crash iphone era processor optimisation phone suboptimal close old year iphone well thing',\n",
       " 'phone great battery backup flagship phone kind battery performance con phone charge time day trust light user compromise battery section rest thing good battery concern',\n",
       " 'phone battery backup pretty battery',\n",
       " 'battery life bad people optimization setting garbage setting device first time phone heat day today task heating issue recent software update problem phone compact compact iphn flagship ui experience smoothness',\n",
       " 'compact size device comfortable hand top line spec small battery mah battery whole day fast charging battery size',\n",
       " 'good compact android phone camera awesome battery life concern normal use update month ui update battery issue issueone awesome',\n",
       " 'single aspect great battery motor little weak old good goupdate battery life power saving hr sot ss',\n",
       " 'positivesperformancespeaker battery performance sensor positioning',\n",
       " 'camera awesome user iphone generation first flagship possession iphone term camera iphone well screen bright iphone performance wise email music comment time size wise convenient carry phone tray car auto charm mid direction finger print sensor work time initial set',\n",
       " 'awesome device top notch quality heating issue battery performance good atleast battery device unable glass device glass fingerprint face recognition',\n",
       " 'android main device couple year choice compact phone high end spec regular software update device smooth good displaycamera par device notch well iphone minifast updatesandroid late security patchconsbattery hour usage primary devicesnot iphone',\n",
       " 'phone hotonly watch movie video callbattery averagesound clarity good',\n",
       " 'pro snapdragon multi tasking gaming battery small fast iphone battery backup size battery',\n",
       " 'battery life goodfingerprint scanner',\n",
       " 'fine phone adaptercharger fact purchase adapter type c new adapter phone',\n",
       " 'battery phone heat hour overall phone design performance good galaxy wave e galaxy galaxy',\n",
       " 'amazing service amazonpros compact design myth large small powerful design front amazing camera con battery mah battery',\n",
       " 'bit worried delivery fraud original product good condition baugh sale dissatisfied price product cheap price mah battery sufficient super fast watt charger hour charge heavy user compact phone charming hand',\n",
       " 'phone quality camera awesome',\n",
       " 'phone good performance screen battery hour moderate use moderate user',\n",
       " 'week price clear view case phone good camera good battery average hr sot power saving mode',\n",
       " 'display topnotch display impressive nit visibility sunlight refresh rate offering supersmooth visual purpose bezelless design immersive experience user large phone speaker speaker loud crisp audio experience headphone complaint speaker performance camera exceptional capability object crisp vivid hdr image default camera software thirdparty mod realistic highquality photo remarkable video stabilization evident video challenging condition camera realistic unenhanced image portrait mode main selfie camera design device premium aesthetic phantom black color sophistication compact lightweight design slippery manageable case ultrasoniccompatible glass fingerprint reader battery normal usage phone day testing hour screen time phone hour phone warm intensive task wireless convenient feature ui clean ui extensive customization lock screen app minor drawback effort secure app unsuccessful cross compatibility integration window phone app apart compatibility device headphone overall experience compelling choice unparalleled feature good option market review seamless experience user flagship device',\n",
       " 'opportunity experience phone remarkable device style functionality performance comprehensive sleek modern design eye slim profile edge choice attractive color fashionable accessory build quality excellent reassuring sturdiness bulky phone comfortable hold use periodsdisplaythe phone standout feature vibrant immersive display content life color rich vivid full hd resolution sharp visual video web playing game visual capable processor ample snappy performance app breeze task gaming ease enjoyable experience phone camera setup impressive primary camera detailed vibrant photo various lighting condition multiple lense ultrawide macro lens versatility photography selfie frontfacing camera camera app range feature shooting mode creativitybattery battery life commendable full day typical heavy usage reliable endurance phone fast top battery neededsoftwaresamsung ui userfriendly featurerich experience customization option clean interface host useful software addition frequent software update device uptodate g support connected high speed feature nfc mobile payment array sensor functionalitysecuritybiometric security option fast accurate fingerprint scanner facial recognition phone convenient securestorageample storage expandable storage option space app photo mediain summary multiple front stylish design outstanding display strong performance capable camera system dependable battery life compelling choice market featurerich reliable smartphone tech enthusiast user worth',\n",
       " 'software issue approach feature buglike switch datum time phone heat battery fasterautocorrect nonsensical mistyped word genuine word reappear next time aroundif device bluetooth music app musicbut battery life decent camera good amateur manage decent photo small manageable new phone notepad',\n",
       " 'phone pefect old hard choice conclusion processor fine hot garbage infact inefficient processor last year premium segment low battery bad heating processor small battery money phone actual successor enormous battery lifeafter hour sot double old oppo oneplus upgrade first day refresh rate light performance mode battery adaptive push hour screenontime perfect big supplier screen mobile market doubt speaker stereo dolby atmos mode top tier good ui market amazing thing bloatware integrated ecosystem bloatware chrome chamber base variant ultra chamber ram booster default virtual ram performance mediumend game fps real time monitoring month premium amazon month thisi hybrid case glazedinc glass glass compatiable fingerprint sensor work sponsoredphone expensive price apple bad discount different discount low mrp reason additional bank credit card discount insane mrp range point discount warranty sale service bad anywhereso good phone premium segment ultra handy premium smartphone big screen ultra way gocon dolby vision color p ssc samsung seamless codec hd audio go ssc samsung bud video player audio format dolby truehd people switch restore datum new phone battery life photo contact high model ultra fake use scene optimizer place picture moon real moon modeledit switch transfer file new phone battery big file factory reset phone notice battery life mark smart switch people battery battery life hrs phone adaptive setting mean usage pattern daysyou battery setting bug keyboard extra battery hour battery life',\n",
       " 'technological prowess harmonious amalgamation toptier performance exceptional camera cuttingedge processor ample ram impressive speed responsiveness breeze seamless transition app resourceintensive task streaming handling productivity app device efficiency user experience software smooth interface minimal lag prolonged usage phone performance benchmark top contender segment power user everyday consumer camera setup short phenomenal sophisticated array lense cuttingedge imaging technology moment astounding clarity precision primary camera vibrant detailed shot various lighting condition samsung photographic excellencethe versatility camera system user different photography style stunning portrait shot remarkable depth field impressive lowlight photography capability video recording impressive highresolution footage stable nuanced intuitive camera interface plethora photography mode breathtaking moment effortless experience amateur seasoned photographersoverall powerhouse device robust performance stellar camera system user device productivity creative endeavour premium price tag performance camera prowess investment mobile device',\n",
       " 'excellent choice compact smartphone ease hand screen area available use righti point usage month good device communication network reception good power efficient sot hourswifi work communication excellent sot active use hour display good well panel ultra battery life excellent normal usage g wifi lot streaming day sot hour connected wifi network bit performance excellent far issue excellent easy use wallet camera excellent picture night mode wellwhat good charger box oem sustainability copy apple other ridiculous decision display display unresponsive various app app bad case app sure hardware app app end day happy compact reliable phone good network reception excellent battery life',\n",
       " 'good compact phone market great performance great build quality great camera great software experience great displaybattery life decent hour screen time compact phone acceptablethis well variant great gb variant cause file much storage',\n",
       " 'phone month lack screen full hd screen bright high quality camera processor form factor amazing',\n",
       " 'battery camera display brightness time good updatesamsung ear phone price discount accessory phone available',\n",
       " 'review phone true extentgreat camera premium quality perfect size phone good little heavy side con battery drain fast review big grudge bit budget samsung product comparo iphone instance swipe option previous page button bottom phone prehistoric inconvenient small change weird reason costly phone slow review warm bit heavy usage heat time point uncomfortable close app price low heating issue previous model ithope review help informed decision',\n",
       " 'minute internet camera use',\n",
       " 'many time due phone switch',\n",
       " 'compact smooth camera good good low light good video battery fast heating issue frustrating',\n",
       " 'year device expectation good product battery life awesome customization cool camera good segment pocket dynamite good class',\n",
       " 'prime member super fast deliveryjoke phone wonderful camera outstanding image video low light shot amazing moon shot portrait perfect cutout battery backup first day hrs sot refresh rate standard performance light mode dark mode time day hr sot casual gaming less hour sofor issue medium consumption good display thereif planning buy use long term variant ufs double ufs variant possible use card discount available good price possiblethank',\n",
       " 'good class camera excellent night ecosystem experience',\n",
       " 'phone perfect boring thrill good trick device cool gaming save battery good app picture little sis ultra self device beast pocket rocket good picture good battery life chotu phone good hand experience good speed well gaming experience chinese phone time heart little thing heart attack day satisfied customer little bit expensive big number camera performance',\n",
       " 'compact smooth',\n",
       " 'medium battery backup poor present multiple thing performance profile light standard help hour screen time user old device app battery good phone app battery lifemany online forum member multiple report update next updatefinger good experience butter smooth animation quick app awesome screen multimedia content app netflix expert raw app beast unprecedented level output regular camera app default camera app solid camera image video low light goodanother thing default uninstallednote thing hard way screen glass fingerprint good detection',\n",
       " 'good phone heating era phone handed use pitfall pro ill share con battery last day normal usage evening size factor issue battery optimisation io size well half iphone day camera longish time heat photo amazing bent fair top notch worth',\n",
       " 'great smartphone impressive feature cream color sleek stylish look storage phone ample space app photo video g capability lightningfast internet speed perfect streaming content highquality camera system stunning photo video market new smartphone great choice deal day pricecamera amazing feature adapter issue genius chargei company cost cutting rubbishit great phone samsung pain adapterit charger product description manual charger support phone',\n",
       " 'compact factor phone big point touch software experience good phone dialler bit versatile experience redmi pro experience drive cloud subscription variant variant insufficient year power phone bit overpriced worth use year cover screen guard phone install aftermarket screen guard biometric compatible screenguard able biometric function',\n",
       " 'compact phone overall good performance camera month research thinking pixel pixel none good exchange discount first day battery battery protection option charge mobile last full day use satisfied battery performance big disappointment camera performance consistancy photo good bright colour many time capture person photo bad many time photo light glare issue many other photo look dark color natural software pixel camera satisfaction pixel update major improvement camera software update year much focus ultra base focus price high camera main focus first flagship device device atleast year camera major expectation samsung battery performance',\n",
       " 'easy transfer datum old new phonethe camera quality goodsupport phone hot normal time',\n",
       " 'basic daily phone king battery backup nice',\n",
       " 'overall phone awesome well iphone issue battery drain fast put request exchange phone conversation money',\n",
       " 'month launch tonne comparison late updatesi solid phone run atleast year issuesbought iphone due iphone inferior display camera version onlymy friend easy comparethis inch phone compact bezel thickfor context oneplus inch earlieri handy compact phone feltbattery life user first day cod insta camera performance day midnightjust wish watt fast charging satisfied purchase nowwill update noteworthy',\n",
       " 'simple short dual need charge phone day battery level primary phonethis basic thing physical store cost r secondary phone entire day battery',\n",
       " 'year hesitant oneplus yr phone good camera shortlist reading review good deal amazon sale exchange offer camera photo superb processing photo great nice color phone responsive ui good issue fingerprintface sensor responsive due screen guard good phone camera slow phone hour charge charge whole day',\n",
       " 'mine gbgb varient purchase month phone battery care creepy word speak itonce charge battery good see screenshot night office percentage charge heavy user good mesmoothbutter comfortable hand weighti camera camera lover ofsecurity patch oneplus update sale purpose year backup good mahbattery slow thing weightcomfortable handpowerful case messedultrasonic sensor finger printdisplay good seriesadaptive chinese phone app play samsungnothing user experience normal user itb choice upto',\n",
       " 'little monster well iphone',\n",
       " 'different othersi fingerprint face recognition time price iphone face problem fingerprint',\n",
       " 'bgmi fps finger pren problem iphone phone',\n",
       " 'card exchange offer',\n",
       " 'super premium hold operate camera shot level small real life good experience',\n",
       " 'rounder phone work',\n",
       " 'overall galaxy ideal fan fast performance solid camera spacious bright screen compact package',\n",
       " 'phone good android phone personal experience samsung ui skin awesome good thing camera software display design handling samsung app gallary editing tool health quick smart thing secure folder notification pop style nox security handy useful tool timely update point decent powerful line',\n",
       " 'display camera performance good battery bad hour sot normal usage usage high hour maximum sot sometime fingerprint work phone perfect design weight thing big issue battery battery perfect phone',\n",
       " 'variant day bubble content phone people concerned battery life start worry full day wifi screenshot battery stat phone wifi time last phone mobile data time phone hr min charge phone superb camera smoothness software updatesps fusionx case phone',\n",
       " 'phone great good build quality decent battery life small phone amazing software much customizehowever price camera quality bad bad picture detail manager extent color reproduction bad basic scenario',\n",
       " 'size',\n",
       " 'month compact phone hand corner phone great software usual compromise festival exchange old phone worth money',\n",
       " 'nice product good compact phone android',\n",
       " 'good quality camera good battery backup good specification good sound quality somemore noise reduction feature well quality overall good worth video photo clarity good comapre tonother mobile matching iphone',\n",
       " 'low battery need day',\n",
       " 'good phone want phone iphonebut finger print sensor face detection late update',\n",
       " 'happy device amazing experience review pro con con displaysmooth notch camera setup photo video hand easy phone use overallfor battery size sot commendablesnappy phone speaker excellentconswell price charger sinbase variant gb memory card slotfaster support',\n",
       " 'good phone overpriced',\n",
       " 'battery average use hr battery life hrs screen time sufficient day use morning evening fantastic portrait mode iphone competereference image processing outstanding ton premium post feature object competitiondisplay samsung comment sexy dikhta friend iphone bulky uncomfortable long use good hand friendly marketfinal verdict agar good ton premium practical feature iphone provide people iphone public appearance brand value iphone compete superfast g support good hd call quality issue mobile network multi window much app screen ss battery usage time',\n",
       " 'month top notch day battery life',\n",
       " 'value moneythis phone absolute value money quality price battery smooth performance app camera quality screen clarity instance hour trip map trip battery place surprised awe phone previous model iphone die',\n",
       " 'nice compact fone battery display security fine well iphone',\n",
       " 'aspect decent battery excellent cameraexcellent processor excellent stereo speaker thing phone light usage phone heated week',\n",
       " 'good performance',\n",
       " 'iphone great',\n",
       " 'oneplus year oxygen amazing doubt good phone',\n",
       " 'android year apple phone old apple past week amazing experience overall good decision feature bixby apple catch price range phone',\n",
       " 'super phone',\n",
       " 'screen perfect battery oneui hour time hour performance snappy call quality great many smart utility reminder app document reader call recording announcement rare good feature thing point long fast inch screen i d star',\n",
       " 'phone greatthe battery life decent',\n",
       " '',\n",
       " 'week phone yr review expert phone phone doubt haptic nice ui connectivity issue phone flagship phone well connectivity open wifi mobile network kind bug unable use internet constantlyrefresh device well network call alert sm mobile network full strengthi issue yr old oneplus',\n",
       " 'delivery day due sale multiple orderspros compact size flagship camera top notch processor awesome display dual speaker cherry topconsmay battery average usage camera call whatsapp app average day hour screen wort opponent iphone compact size moderate use heavy user power bank',\n",
       " 'good inch phone money premium phone apple value moneygot phone discount build quality strong aluminum frame gorilla glass side full hd pleasing use good brightness nit user experience fluid storage phone usage buttery smooth camera top notch software great job brilliant picture battery yay good part phone deliver combination battery battery last day common use case software experience great update year long phone good compact android phone money discount pure value moneysamsung year kudo',\n",
       " 'small size light weight good good charger accessory finger print sensor good heating',\n",
       " 'color good battery problem hrs finger print sensor good good quality screen guard gaming performance way future phone good camera video impressive well photo current iphone value money phone',\n",
       " 'people battery life experiencei moderate user purpose photo game device light performance profile suit usage setupusage day battery lifeif usage similar compact phone',\n",
       " 'second device',\n",
       " 'happy purchase happy top line flagship value satisfaction watch overall ecosystem',\n",
       " 'compact phone display sound gesture brilliant compact user doubt overall weight impressive battery little way negative day heavy user problem little normal user balanced smartphone',\n",
       " 'first time device impressed oneplus bank performance top notch phone smooth camera impressive love comfortable handle thing slow speed hr rest good customization app icon size happy purchase',\n",
       " 'specification x front gorilla glass glass dual esim dual standbyip resistant minarmor aluminum frame tough drop scratch resistancedynamic nit peak inch screentobody ratio pixel ratio gorilla glass',\n",
       " 'battery bit small last day heavy usage',\n",
       " 'photography camera mini dslr photo sample camera quality amazing well iphone pro',\n",
       " 'many year work battery backup camera top league product price',\n",
       " 'great phone light',\n",
       " 'lavender nice device buttery smooth handy product decent camera right size phone battery good yday pretty heavygetting day ill backup good mahapps snappy confused app app haptic good customizable miui good app many new unfamiliar appsother fine',\n",
       " 'review month device phone good quality premium software experience good bug main issue phone battery backup whole day hour screen time wifi hour mobile data battery performance well samsung midrange phone good battery backup camera day time pic good little oversaturated night mode pic great time',\n",
       " 'phone hand case sturdy enough camera display sound software experience fantastic battery decent mobile standard phone size day moderate usage mobile internet wifi work',\n",
       " 'device absolute monster power first time small device comfy',\n",
       " 'video player videoplaymutecurrent time duration stream type liveseek time xplayback ratechapterschaptersdescriptionsdescription selectedcaptionscaption selectedaudio modal camera quality phone attaching photo marriage batterry day heavy smooth lag last week heavy game official app charm device flagship wise speed good phone approx hour charge full on con charger phone good discount card charger happy performance',\n",
       " 'iphone phone way handy camera',\n",
       " 'cream version premium dilemma oneplus costing gadget bonus phone battery life decent hrs sot hr total battery life high usage chrome social medium app game performance buttery smooth outdoor brightness exceptional joy watch video excellent good portrait night time shot fps con slow charging w charging option slow battery min',\n",
       " 'good phone',\n",
       " 'phone good camera result',\n",
       " 'phone standard hell lot time charge discharged phone small photograph day',\n",
       " 'camera good display dope nice flagship experience small con camera arrangement hand touch cam day ultra size big guess battery decent way well scam performance indoor morning night mode well picture lot post processing image image hdrish sure future update camera bright light front camera amazing fps video fiire screenshot video good standalone image ton detail stabilization excellent fun',\n",
       " 'value money',\n",
       " 'other review solid device',\n",
       " 'perfect',\n",
       " 'awesome',\n",
       " 'top notchbatteryperformance camerafeelfeature first time price satisfied day battery day day normal surfing doubt',\n",
       " 'handy phone main satisfaction chinese model phone superb chinese oneplus model',\n",
       " 'device iphone size body narrow brief usage heating sort day phone usage lite mode haptic feedback remarkable usage phone iphone bad eitheri expectation phone exchange process flipkart satisfied purchase',\n",
       " 'good compact mobile decent battery life superb flagship phone satisfied last day full review month experience good',\n",
       " 'amazing mobile alot',\n",
       " 'review month goodpro picture nice hanging display awesome compact phone comfortable use quality goodnegative charge day disruption voice app',\n",
       " 'camera',\n",
       " 'camera mode superb portrait mode video amazingbattery good normal game screen time normal hour owsomecharging time connectivity problem good value money rating']"
      ]
     },
     "execution_count": 16,
     "metadata": {},
     "output_type": "execute_result"
    }
   ],
   "source": [
    "final_reviews"
   ]
  },
  {
   "cell_type": "code",
   "execution_count": 17,
   "id": "9a945fe3",
   "metadata": {},
   "outputs": [
    {
     "data": {
      "text/plain": [
       "'criteria = [\"battery\", \"storage\", \"cost\", \"performance\", \"camera\", \"quality\", \"value\", \"appearance\"]\\n\\nfor review in tokenized_reviews:\\n    for criterion in criteria:\\n        if criterion not in review:\\n            review.append(criterion)'"
      ]
     },
     "execution_count": 17,
     "metadata": {},
     "output_type": "execute_result"
    }
   ],
   "source": [
    "'''criteria = [\"battery\", \"storage\", \"cost\", \"performance\", \"camera\", \"quality\", \"value\", \"appearance\"]\n",
    "\n",
    "for review in tokenized_reviews:\n",
    "    for criterion in criteria:\n",
    "        if criterion not in review:\n",
    "            review.append(criterion)'''"
   ]
  },
  {
   "cell_type": "code",
   "execution_count": 18,
   "id": "947757ea",
   "metadata": {},
   "outputs": [],
   "source": [
    "dictionary = corpora.Dictionary(tokenized_reviews)"
   ]
  },
  {
   "cell_type": "code",
   "execution_count": 19,
   "id": "167d624b",
   "metadata": {},
   "outputs": [],
   "source": [
    "tfidf_vectorizer = TfidfVectorizer(max_features=5000)\n",
    "tfidf_matrix = tfidf_vectorizer.fit_transform(final_reviews)"
   ]
  },
  {
   "cell_type": "code",
   "execution_count": 20,
   "id": "c0eceda0",
   "metadata": {},
   "outputs": [
    {
     "name": "stdout",
     "output_type": "stream",
     "text": [
      "(300, 1757)\n"
     ]
    }
   ],
   "source": [
    "print(tfidf_matrix.shape)"
   ]
  },
  {
   "cell_type": "code",
   "execution_count": 21,
   "id": "abf80515",
   "metadata": {},
   "outputs": [],
   "source": [
    "corpus = gensim.matutils.Sparse2Corpus(tfidf_matrix, documents_columns=False)"
   ]
  },
  {
   "cell_type": "code",
   "execution_count": 22,
   "id": "943614f9",
   "metadata": {},
   "outputs": [],
   "source": [
    "id2word = dict((v, k) for k, v in tfidf_vectorizer.vocabulary_.items())"
   ]
  },
  {
   "cell_type": "code",
   "execution_count": 23,
   "id": "b0bd4076",
   "metadata": {},
   "outputs": [],
   "source": [
    "LDA = gensim.models.ldamodel.LdaModel\n",
    "\n",
    "lda_model = LDA(corpus, num_topics=5, random_state=100, chunksize=1000, iterations=500,id2word=id2word,alpha = 'auto',eta='auto')"
   ]
  },
  {
   "cell_type": "code",
   "execution_count": 24,
   "id": "9aaf2c81",
   "metadata": {},
   "outputs": [
    {
     "data": {
      "text/plain": [
       "[(0,\n",
       "  '0.009*\"phone\" + 0.008*\"good\" + 0.006*\"battery\" + 0.005*\"camera\" + 0.005*\"display\" + 0.005*\"iphone\" + 0.004*\"time\" + 0.004*\"user\" + 0.004*\"heavy\" + 0.004*\"day\"'),\n",
       " (1,\n",
       "  '0.009*\"phone\" + 0.008*\"battery\" + 0.005*\"fingerprint\" + 0.005*\"good\" + 0.005*\"reader\" + 0.005*\"camera\" + 0.004*\"use\" + 0.004*\"day\" + 0.004*\"screen\" + 0.004*\"life\"'),\n",
       " (2,\n",
       "  '0.014*\"good\" + 0.011*\"phone\" + 0.009*\"battery\" + 0.006*\"great\" + 0.006*\"camera\" + 0.005*\"iphone\" + 0.004*\"life\" + 0.004*\"app\" + 0.004*\"time\" + 0.004*\"day\"'),\n",
       " (3,\n",
       "  '0.011*\"phone\" + 0.010*\"good\" + 0.010*\"camera\" + 0.007*\"battery\" + 0.006*\"quality\" + 0.004*\"great\" + 0.004*\"awesome\" + 0.004*\"size\" + 0.004*\"device\" + 0.003*\"time\"'),\n",
       " (4,\n",
       "  '0.012*\"phone\" + 0.008*\"good\" + 0.007*\"battery\" + 0.005*\"camera\" + 0.004*\"performance\" + 0.004*\"great\" + 0.004*\"nice\" + 0.004*\"life\" + 0.004*\"day\" + 0.003*\"screen\"')]"
      ]
     },
     "execution_count": 24,
     "metadata": {},
     "output_type": "execute_result"
    }
   ],
   "source": [
    "lda_model.print_topics()"
   ]
  },
  {
   "cell_type": "code",
   "execution_count": 25,
   "id": "99715232",
   "metadata": {},
   "outputs": [
    {
     "name": "stdout",
     "output_type": "stream",
     "text": [
      "(0, '0.009*\"phone\" + 0.008*\"good\" + 0.006*\"battery\" + 0.005*\"camera\" + 0.005*\"display\" + 0.005*\"iphone\" + 0.004*\"time\" + 0.004*\"user\" + 0.004*\"heavy\" + 0.004*\"day\"')\n",
      "(1, '0.009*\"phone\" + 0.008*\"battery\" + 0.005*\"fingerprint\" + 0.005*\"good\" + 0.005*\"reader\" + 0.005*\"camera\" + 0.004*\"use\" + 0.004*\"day\" + 0.004*\"screen\" + 0.004*\"life\"')\n",
      "(2, '0.014*\"good\" + 0.011*\"phone\" + 0.009*\"battery\" + 0.006*\"great\" + 0.006*\"camera\" + 0.005*\"iphone\" + 0.004*\"life\" + 0.004*\"app\" + 0.004*\"time\" + 0.004*\"day\"')\n",
      "(3, '0.011*\"phone\" + 0.010*\"good\" + 0.010*\"camera\" + 0.007*\"battery\" + 0.006*\"quality\" + 0.004*\"great\" + 0.004*\"awesome\" + 0.004*\"size\" + 0.004*\"device\" + 0.003*\"time\"')\n",
      "(4, '0.012*\"phone\" + 0.008*\"good\" + 0.007*\"battery\" + 0.005*\"camera\" + 0.004*\"performance\" + 0.004*\"great\" + 0.004*\"nice\" + 0.004*\"life\" + 0.004*\"day\" + 0.003*\"screen\"')\n"
     ]
    }
   ],
   "source": [
    "\n",
    "topics = lda_model.print_topics(num_words=10)\n",
    "for topic in topics:\n",
    "    print(topic)"
   ]
  },
  {
   "cell_type": "code",
   "execution_count": null,
   "id": "0d8da1b0",
   "metadata": {},
   "outputs": [],
   "source": [
    "topic_list = []\n",
    "\n",
    "for topic in topics:\n",
    "    topic_num, topic_words = topic\n",
    "    words = [word.split('*')[1].strip('\"') for word in topic_words.split(\" + \")]\n",
    "    topic_list.append(words)\n",
    "\n",
    "topic_lda_Samsung=[]\n",
    "[topic_lda_Samsung.extend(k) for k in topic_list ]\n",
    "topic_lda_Samsung"
   ]
  },
  {
   "cell_type": "code",
   "execution_count": null,
   "id": "493f7a9d",
   "metadata": {},
   "outputs": [],
   "source": [
    "def remove_topic(topic_lda_Samsung):\n",
    "    t = ['phone', 'oneplus','mobile']\n",
    "    for i in t:\n",
    "        while i in topic_lda_Samsung:\n",
    "            topic_lda_Samsung.remove(i)\n",
    "    return topic_lda_Samsung\n",
    "\n",
    "topic_lda_Samsung = remove_topic(topic_lda_Samsung)\n",
    "topic_lda_Samsung"
   ]
  },
  {
   "cell_type": "code",
   "execution_count": 26,
   "id": "6245afc8",
   "metadata": {},
   "outputs": [
    {
     "name": "stdout",
     "output_type": "stream",
     "text": [
      "\n",
      "Coherence Score:  0.7688737570522342\n"
     ]
    }
   ],
   "source": [
    "coherence_model_lda = CoherenceModel(\n",
    "    model=lda_model, \n",
    "    texts=tokenized_reviews, \n",
    "    dictionary=dictionary, \n",
    "    coherence='c_v'\n",
    ")\n",
    "coherence_lda = coherence_model_lda.get_coherence()\n",
    "print('\\nCoherence Score: ', coherence_lda)"
   ]
  }
 ],
 "metadata": {
  "kernelspec": {
   "display_name": "Python 3 (ipykernel)",
   "language": "python",
   "name": "python3"
  },
  "language_info": {
   "codemirror_mode": {
    "name": "ipython",
    "version": 3
   },
   "file_extension": ".py",
   "mimetype": "text/x-python",
   "name": "python",
   "nbconvert_exporter": "python",
   "pygments_lexer": "ipython3",
   "version": "3.11.5"
  }
 },
 "nbformat": 4,
 "nbformat_minor": 5
}
